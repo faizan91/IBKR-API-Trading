{
 "cells": [
  {
   "cell_type": "markdown",
   "id": "e1646267",
   "metadata": {},
   "source": [
    "# The Interactive Broker (IBKR) API"
   ]
  },
  {
   "cell_type": "markdown",
   "id": "1e3c3f0c",
   "metadata": {},
   "source": [
    "## Getting Started "
   ]
  },
  {
   "cell_type": "markdown",
   "id": "7163e36d",
   "metadata": {},
   "source": [
    "### Installation of IB API wrapper package with the following command:"
   ]
  },
  {
   "cell_type": "code",
   "execution_count": 1,
   "id": "c4808fb4",
   "metadata": {},
   "outputs": [],
   "source": [
    "# pip install ib_insync"
   ]
  },
  {
   "cell_type": "markdown",
   "id": "10214d70",
   "metadata": {},
   "source": [
    "## Connection "
   ]
  },
  {
   "cell_type": "code",
   "execution_count": 2,
   "id": "4a7d707d",
   "metadata": {},
   "outputs": [],
   "source": [
    "from ib_insync import *\n",
    "util.startLoop() # Required in Jupyter(interactive environments), not in scripts"
   ]
  },
  {
   "cell_type": "code",
   "execution_count": 3,
   "id": "f85016db",
   "metadata": {},
   "outputs": [],
   "source": [
    "ib = IB()"
   ]
  },
  {
   "cell_type": "markdown",
   "id": "defbe3cc",
   "metadata": {},
   "source": [
    "## Make sure you are logged in TWS!!!"
   ]
  },
  {
   "cell_type": "code",
   "execution_count": 4,
   "id": "9cd0b276",
   "metadata": {},
   "outputs": [
    {
     "data": {
      "text/plain": [
       "<IB connected to 127.0.0.1:7497 clientId=1>"
      ]
     },
     "execution_count": 4,
     "metadata": {},
     "output_type": "execute_result"
    }
   ],
   "source": [
    "ib.connect() # You can only connect if you're logged in your trading working station."
   ]
  },
  {
   "cell_type": "code",
   "execution_count": 5,
   "id": "b1f9c427",
   "metadata": {},
   "outputs": [
    {
     "data": {
      "text/plain": [
       "[]"
      ]
     },
     "execution_count": 5,
     "metadata": {},
     "output_type": "execute_result"
    }
   ],
   "source": [
    "ib.positions()"
   ]
  },
  {
   "cell_type": "code",
   "execution_count": 6,
   "id": "238f105b",
   "metadata": {},
   "outputs": [],
   "source": [
    "ib.disconnect() # disconnect when you're not using it."
   ]
  },
  {
   "cell_type": "markdown",
   "id": "bbd9b146",
   "metadata": {},
   "source": [
    "## Contracts (Introduction)"
   ]
  },
  {
   "cell_type": "code",
   "execution_count": 7,
   "id": "0e31a0bb",
   "metadata": {},
   "outputs": [
    {
     "data": {
      "text/plain": [
       "<IB connected to 127.0.0.1:7497 clientId=1>"
      ]
     },
     "execution_count": 7,
     "metadata": {},
     "output_type": "execute_result"
    }
   ],
   "source": [
    "ib.connect()"
   ]
  },
  {
   "cell_type": "code",
   "execution_count": 8,
   "id": "85c3e36f",
   "metadata": {},
   "outputs": [
    {
     "data": {
      "text/plain": [
       "Forex('EURUSD', exchange='IDEALPRO')"
      ]
     },
     "execution_count": 8,
     "metadata": {},
     "output_type": "execute_result"
    }
   ],
   "source": [
    "contract = Forex(\"EURUSD\")\n",
    "contract"
   ]
  },
  {
   "cell_type": "code",
   "execution_count": 9,
   "id": "3d06136a",
   "metadata": {},
   "outputs": [
    {
     "data": {
      "text/plain": [
       "[Forex('EURUSD', conId=12087792, exchange='IDEALPRO', localSymbol='EUR.USD', tradingClass='EUR.USD')]"
      ]
     },
     "execution_count": 9,
     "metadata": {},
     "output_type": "execute_result"
    }
   ],
   "source": [
    "contract = ib.qualifyContracts(contract)\n",
    "contract"
   ]
  },
  {
   "cell_type": "code",
   "execution_count": 10,
   "id": "cb33e9ef",
   "metadata": {},
   "outputs": [
    {
     "data": {
      "text/plain": [
       "list"
      ]
     },
     "execution_count": 10,
     "metadata": {},
     "output_type": "execute_result"
    }
   ],
   "source": [
    "type(contract)"
   ]
  },
  {
   "cell_type": "code",
   "execution_count": 11,
   "id": "a7355335",
   "metadata": {},
   "outputs": [
    {
     "data": {
      "text/plain": [
       "Forex('EURUSD', conId=12087792, exchange='IDEALPRO', localSymbol='EUR.USD', tradingClass='EUR.USD')"
      ]
     },
     "execution_count": 11,
     "metadata": {},
     "output_type": "execute_result"
    }
   ],
   "source": [
    "contract[0]"
   ]
  },
  {
   "cell_type": "code",
   "execution_count": 12,
   "id": "87e8dac7",
   "metadata": {},
   "outputs": [
    {
     "data": {
      "text/plain": [
       "12087792"
      ]
     },
     "execution_count": 12,
     "metadata": {},
     "output_type": "execute_result"
    }
   ],
   "source": [
    "contract[0].conId"
   ]
  },
  {
   "cell_type": "markdown",
   "id": "c68a1143",
   "metadata": {},
   "source": [
    "## Contract by Asset Class"
   ]
  },
  {
   "cell_type": "code",
   "execution_count": 13,
   "id": "aef33f12",
   "metadata": {},
   "outputs": [],
   "source": [
    "# Contract(conId = 270639)\n",
    "# Stock('AMD', 'SMART', 'USD')\n",
    "# Stock('INTC', 'SMART', 'USD', primaryExchange ='NASDAQ')\n",
    "# Forex('EURUSD')\n",
    "# CFD('IBUS30')\n",
    "# Future('ES','20180921','GLOBEX')\n",
    "# Option('SPY','20170721', 240, 'C', 'SMART')\n",
    "# Bond(secIdType = 'ISIN', secId = 'US03076KAA60')"
   ]
  },
  {
   "cell_type": "code",
   "execution_count": 14,
   "id": "5f8603e6",
   "metadata": {},
   "outputs": [
    {
     "data": {
      "text/plain": [
       "Stock(symbol='AAPL', exchange='SMART', currency='USD')"
      ]
     },
     "execution_count": 14,
     "metadata": {},
     "output_type": "execute_result"
    }
   ],
   "source": [
    "contract = Stock('AAPL',\"SMART\", \"USD\")\n",
    "contract"
   ]
  },
  {
   "cell_type": "code",
   "execution_count": 15,
   "id": "7b7b5578",
   "metadata": {},
   "outputs": [
    {
     "data": {
      "text/plain": [
       "[Stock(conId=265598, symbol='AAPL', exchange='SMART', primaryExchange='NASDAQ', currency='USD', localSymbol='AAPL', tradingClass='NMS')]"
      ]
     },
     "execution_count": 15,
     "metadata": {},
     "output_type": "execute_result"
    }
   ],
   "source": [
    "contract = ib.qualifyContracts(contract) # unambiguous\n",
    "contract"
   ]
  },
  {
   "cell_type": "code",
   "execution_count": 16,
   "id": "724dfe08",
   "metadata": {},
   "outputs": [
    {
     "name": "stderr",
     "output_type": "stream",
     "text": [
      "Ambiguous contract: Stock(symbol='AAPL'), possibles are [Contract(secType='STK', conId=265598, symbol='AAPL', exchange='SMART', primaryExchange='NASDAQ', currency='USD', localSymbol='AAPL', tradingClass='NMS'), Contract(secType='STK', conId=273982664, symbol='AAPL', exchange='SMART', primaryExchange='EBS', currency='CHF', localSymbol='AAPL', tradingClass='AAPL'), Contract(secType='STK', conId=493546048, symbol='AAPL', exchange='SMART', primaryExchange='LSEETF', currency='GBP', localSymbol='AAPL', tradingClass='ECE2'), Contract(secType='STK', conId=532640894, symbol='AAPL', exchange='SMART', primaryExchange='AEQLIT', currency='CAD', localSymbol='AAPL', tradingClass='AAPL'), Contract(secType='STK', conId=265598, symbol='AAPL', exchange='AMEX', primaryExchange='NASDAQ', currency='USD', localSymbol='AAPL', tradingClass='NMS'), Contract(secType='STK', conId=265598, symbol='AAPL', exchange='NYSE', primaryExchange='NASDAQ', currency='USD', localSymbol='AAPL', tradingClass='NMS'), Contract(secType='STK', conId=265598, symbol='AAPL', exchange='CBOE', primaryExchange='NASDAQ', currency='USD', localSymbol='AAPL', tradingClass='NMS'), Contract(secType='STK', conId=265598, symbol='AAPL', exchange='PHLX', primaryExchange='NASDAQ', currency='USD', localSymbol='AAPL', tradingClass='NMS'), Contract(secType='STK', conId=265598, symbol='AAPL', exchange='ISE', primaryExchange='NASDAQ', currency='USD', localSymbol='AAPL', tradingClass='NMS'), Contract(secType='STK', conId=265598, symbol='AAPL', exchange='CHX', primaryExchange='NASDAQ', currency='USD', localSymbol='AAPL', tradingClass='NMS'), Contract(secType='STK', conId=265598, symbol='AAPL', exchange='ARCA', primaryExchange='NASDAQ', currency='USD', localSymbol='AAPL', tradingClass='NMS'), Contract(secType='STK', conId=265598, symbol='AAPL', exchange='ISLAND', primaryExchange='NASDAQ', currency='USD', localSymbol='AAPL', tradingClass='NMS'), Contract(secType='STK', conId=265598, symbol='AAPL', exchange='DRCTEDGE', primaryExchange='NASDAQ', currency='USD', localSymbol='AAPL', tradingClass='NMS'), Contract(secType='STK', conId=265598, symbol='AAPL', exchange='BEX', primaryExchange='NASDAQ', currency='USD', localSymbol='AAPL', tradingClass='NMS'), Contract(secType='STK', conId=265598, symbol='AAPL', exchange='BATS', primaryExchange='NASDAQ', currency='USD', localSymbol='AAPL', tradingClass='NMS'), Contract(secType='STK', conId=265598, symbol='AAPL', exchange='EDGEA', primaryExchange='NASDAQ', currency='USD', localSymbol='AAPL', tradingClass='NMS'), Contract(secType='STK', conId=265598, symbol='AAPL', exchange='CSFBALGO', primaryExchange='NASDAQ', currency='USD', localSymbol='AAPL', tradingClass='NMS'), Contract(secType='STK', conId=265598, symbol='AAPL', exchange='JEFFALGO', primaryExchange='NASDAQ', currency='USD', localSymbol='AAPL', tradingClass='NMS'), Contract(secType='STK', conId=265598, symbol='AAPL', exchange='BYX', primaryExchange='NASDAQ', currency='USD', localSymbol='AAPL', tradingClass='NMS'), Contract(secType='STK', conId=265598, symbol='AAPL', exchange='IEX', primaryExchange='NASDAQ', currency='USD', localSymbol='AAPL', tradingClass='NMS'), Contract(secType='STK', conId=265598, symbol='AAPL', exchange='EDGX', primaryExchange='NASDAQ', currency='USD', localSymbol='AAPL', tradingClass='NMS'), Contract(secType='STK', conId=265598, symbol='AAPL', exchange='FOXRIVER', primaryExchange='NASDAQ', currency='USD', localSymbol='AAPL', tradingClass='NMS'), Contract(secType='STK', conId=265598, symbol='AAPL', exchange='PEARL', primaryExchange='NASDAQ', currency='USD', localSymbol='AAPL', tradingClass='NMS'), Contract(secType='STK', conId=265598, symbol='AAPL', exchange='NYSENAT', primaryExchange='NASDAQ', currency='USD', localSymbol='AAPL', tradingClass='NMS'), Contract(secType='STK', conId=265598, symbol='AAPL', exchange='LTSE', primaryExchange='NASDAQ', currency='USD', localSymbol='AAPL', tradingClass='NMS'), Contract(secType='STK', conId=265598, symbol='AAPL', exchange='MEMX', primaryExchange='NASDAQ', currency='USD', localSymbol='AAPL', tradingClass='NMS'), Contract(secType='STK', conId=265598, symbol='AAPL', exchange='IBEOS', primaryExchange='NASDAQ', currency='USD', localSymbol='AAPL', tradingClass='NMS'), Contract(secType='STK', conId=265598, symbol='AAPL', exchange='OVERNIGHT', primaryExchange='NASDAQ', currency='USD', localSymbol='AAPL', tradingClass='NMS'), Contract(secType='STK', conId=265598, symbol='AAPL', exchange='PSX', primaryExchange='NASDAQ', currency='USD', localSymbol='AAPL', tradingClass='NMS'), Contract(secType='STK', conId=38708077, symbol='AAPL', exchange='MEXI', primaryExchange='MEXI', currency='MXN', localSymbol='AAPL', tradingClass='AAPL'), Contract(secType='STK', conId=273982664, symbol='AAPL', exchange='EBS', primaryExchange='EBS', currency='CHF', localSymbol='AAPL', tradingClass='AAPL'), Contract(secType='STK', conId=493546048, symbol='AAPL', exchange='LSEETF', primaryExchange='LSEETF', currency='GBP', localSymbol='AAPL', tradingClass='ECE2')]\n"
     ]
    },
    {
     "data": {
      "text/plain": [
       "[]"
      ]
     },
     "execution_count": 16,
     "metadata": {},
     "output_type": "execute_result"
    }
   ],
   "source": [
    "contract = ib.qualifyContracts(Stock(\"AAPL\")) # ambiguous\n",
    "contract"
   ]
  },
  {
   "cell_type": "code",
   "execution_count": null,
   "id": "03562d63",
   "metadata": {},
   "outputs": [],
   "source": [
    "ib.disconnect()"
   ]
  },
  {
   "cell_type": "markdown",
   "id": "a7d4292a",
   "metadata": {},
   "source": [
    "## Current Market Data"
   ]
  },
  {
   "cell_type": "code",
   "execution_count": 18,
   "id": "a17e9aa1",
   "metadata": {},
   "outputs": [
    {
     "data": {
      "text/plain": [
       "<IB connected to 127.0.0.1:7497 clientId=1>"
      ]
     },
     "execution_count": 18,
     "metadata": {},
     "output_type": "execute_result"
    }
   ],
   "source": [
    "ib.connect()"
   ]
  },
  {
   "cell_type": "code",
   "execution_count": 19,
   "id": "ea17b5de",
   "metadata": {},
   "outputs": [
    {
     "data": {
      "text/plain": [
       "Forex('EURUSD', exchange='IDEALPRO')"
      ]
     },
     "execution_count": 19,
     "metadata": {},
     "output_type": "execute_result"
    }
   ],
   "source": [
    "contract = Forex(\"EURUSD\")\n",
    "contract"
   ]
  },
  {
   "cell_type": "code",
   "execution_count": 20,
   "id": "2ec79f51",
   "metadata": {},
   "outputs": [
    {
     "data": {
      "text/plain": [
       "Ticker(contract=Forex('EURUSD', exchange='IDEALPRO'))"
      ]
     },
     "execution_count": 20,
     "metadata": {},
     "output_type": "execute_result"
    }
   ],
   "source": [
    "data1 = ib.reqMktData(contract)\n",
    "data1"
   ]
  },
  {
   "cell_type": "code",
   "execution_count": 21,
   "id": "63059217",
   "metadata": {},
   "outputs": [
    {
     "data": {
      "text/plain": [
       "Ticker(contract=Forex('EURUSD', exchange='IDEALPRO'))"
      ]
     },
     "execution_count": 21,
     "metadata": {},
     "output_type": "execute_result"
    }
   ],
   "source": [
    "data1"
   ]
  },
  {
   "cell_type": "code",
   "execution_count": 22,
   "id": "ab622ba5",
   "metadata": {},
   "outputs": [
    {
     "data": {
      "text/plain": [
       "1.10621"
      ]
     },
     "execution_count": 22,
     "metadata": {},
     "output_type": "execute_result"
    }
   ],
   "source": [
    "data1.ask"
   ]
  },
  {
   "cell_type": "code",
   "execution_count": 23,
   "id": "346b115b",
   "metadata": {},
   "outputs": [
    {
     "data": {
      "text/plain": [
       "900000.0"
      ]
     },
     "execution_count": 23,
     "metadata": {},
     "output_type": "execute_result"
    }
   ],
   "source": [
    "data1.askSize"
   ]
  },
  {
   "cell_type": "code",
   "execution_count": 24,
   "id": "94e56b02",
   "metadata": {},
   "outputs": [
    {
     "data": {
      "text/plain": [
       "1.10617"
      ]
     },
     "execution_count": 24,
     "metadata": {},
     "output_type": "execute_result"
    }
   ],
   "source": [
    "data1.marketPrice()"
   ]
  },
  {
   "cell_type": "code",
   "execution_count": 25,
   "id": "d1ca24cb",
   "metadata": {},
   "outputs": [
    {
     "data": {
      "text/plain": [
       "datetime.datetime(2023, 7, 12, 12, 36, 18, 470348, tzinfo=datetime.timezone.utc)"
      ]
     },
     "execution_count": 25,
     "metadata": {},
     "output_type": "execute_result"
    }
   ],
   "source": [
    "data1.time"
   ]
  },
  {
   "cell_type": "code",
   "execution_count": 26,
   "id": "52ebb28a",
   "metadata": {},
   "outputs": [],
   "source": [
    "import pandas as pd"
   ]
  },
  {
   "cell_type": "code",
   "execution_count": 27,
   "id": "cc19713f",
   "metadata": {},
   "outputs": [
    {
     "data": {
      "text/plain": [
       "Timestamp('2023-07-12 12:36:20.756783+0000', tz='UTC')"
      ]
     },
     "execution_count": 27,
     "metadata": {},
     "output_type": "execute_result"
    }
   ],
   "source": [
    "pd.to_datetime(data1.time)"
   ]
  },
  {
   "cell_type": "code",
   "execution_count": 28,
   "id": "bc14c9fd",
   "metadata": {},
   "outputs": [
    {
     "data": {
      "text/plain": [
       "Stock(symbol='AAPL', exchange='SMART', currency='USD')"
      ]
     },
     "execution_count": 28,
     "metadata": {},
     "output_type": "execute_result"
    }
   ],
   "source": [
    "contract = Stock(\"AAPL\", \"SMART\", \"USD\")\n",
    "contract"
   ]
  },
  {
   "cell_type": "code",
   "execution_count": 29,
   "id": "168599db",
   "metadata": {},
   "outputs": [
    {
     "data": {
      "text/plain": [
       "Ticker(contract=Stock(symbol='AAPL', exchange='SMART', currency='USD'))"
      ]
     },
     "execution_count": 29,
     "metadata": {},
     "output_type": "execute_result"
    },
    {
     "name": "stderr",
     "output_type": "stream",
     "text": [
      "Error 10089, reqId 4: Requested market data requires additional subscription for API. See link in 'Market Data Connections' dialog for more details.Delayed market data is available.AAPL NASDAQ.NMS/TOP/ALL, contract: Stock(symbol='AAPL', exchange='SMART', currency='USD')\n"
     ]
    }
   ],
   "source": [
    "data2 = ib.reqMktData(contract)\n",
    "data2"
   ]
  },
  {
   "cell_type": "code",
   "execution_count": 30,
   "id": "097a5ad9",
   "metadata": {},
   "outputs": [
    {
     "data": {
      "text/plain": [
       "nan"
      ]
     },
     "execution_count": 30,
     "metadata": {},
     "output_type": "execute_result"
    }
   ],
   "source": [
    "data2.ask"
   ]
  },
  {
   "cell_type": "code",
   "execution_count": 31,
   "id": "f44cacf3",
   "metadata": {},
   "outputs": [],
   "source": [
    "ib.reqMarketDataType(3)"
   ]
  },
  {
   "cell_type": "markdown",
   "id": "d2965469",
   "metadata": {},
   "source": [
    "marketDataType: One of: \n",
    "\n",
    "    * 1 = Live \n",
    "    * 2 = Frozen\n",
    "    * 3 = Delayed\n",
    "    * 4 = Delayed Frozen\n",
    " \n",
    "https://interactivebrokers.github.io/tws-api/market_data_type.html"
   ]
  },
  {
   "cell_type": "code",
   "execution_count": 32,
   "id": "5f3f81da",
   "metadata": {},
   "outputs": [
    {
     "data": {
      "text/plain": [
       "Stock(symbol='LHA', exchange='SMART', currency='EUR')"
      ]
     },
     "execution_count": 32,
     "metadata": {},
     "output_type": "execute_result"
    }
   ],
   "source": [
    "contract = Stock(\"LHA\", \"SMART\", \"EUR\")\n",
    "contract"
   ]
  },
  {
   "cell_type": "code",
   "execution_count": 33,
   "id": "d75942b0",
   "metadata": {},
   "outputs": [
    {
     "data": {
      "text/plain": [
       "Ticker(contract=Stock(symbol='LHA', exchange='SMART', currency='EUR'))"
      ]
     },
     "execution_count": 33,
     "metadata": {},
     "output_type": "execute_result"
    }
   ],
   "source": [
    "data3 = ib.reqMktData(contract)\n",
    "data3"
   ]
  },
  {
   "cell_type": "code",
   "execution_count": 34,
   "id": "baf6373e",
   "metadata": {},
   "outputs": [
    {
     "data": {
      "text/plain": [
       "Ticker(contract=Stock(symbol='LHA', exchange='SMART', currency='EUR'), time=datetime.datetime(2023, 7, 12, 12, 36, 34, 412257, tzinfo=datetime.timezone.utc), marketDataType=3, minTick=0.0001, bid=8.918, bidSize=2900.0, ask=8.919, askSize=2645.0, last=8.9175, lastSize=3.0, volume=6421813.0, open=9.04, high=9.1, low=8.72, close=9.031)"
      ]
     },
     "execution_count": 34,
     "metadata": {},
     "output_type": "execute_result"
    }
   ],
   "source": [
    "data3"
   ]
  },
  {
   "cell_type": "code",
   "execution_count": 35,
   "id": "03005981",
   "metadata": {},
   "outputs": [
    {
     "data": {
      "text/plain": [
       "8.9185"
      ]
     },
     "execution_count": 35,
     "metadata": {},
     "output_type": "execute_result"
    }
   ],
   "source": [
    "data3.marketPrice()"
   ]
  },
  {
   "cell_type": "code",
   "execution_count": 36,
   "id": "12fba880",
   "metadata": {},
   "outputs": [],
   "source": [
    "ib.disconnect()"
   ]
  },
  {
   "cell_type": "markdown",
   "id": "9c47be22",
   "metadata": {},
   "source": [
    "### Data Streaming for Multiple Tickers"
   ]
  },
  {
   "cell_type": "code",
   "execution_count": 38,
   "id": "128b3cc4",
   "metadata": {},
   "outputs": [
    {
     "name": "stdout",
     "output_type": "stream",
     "text": [
      "1.10634 nan 8.918\n",
      "1.10634 nan 8.918\n",
      "1.10634 nan 8.918\n",
      "1.10634 nan 8.918\n",
      "1.10634 nan 8.918\n",
      "1.10634 nan 8.918\n",
      "1.10634 nan 8.918\n",
      "1.10634 nan 8.918\n",
      "1.10634 nan 8.918\n",
      "1.10634 nan 8.918\n"
     ]
    }
   ],
   "source": [
    "for i in range(10):\n",
    "    print(round(data1.marketPrice(),5), round(data2.marketPrice(),3), round(data3.marketPrice(),3))\n",
    "    ib.sleep(1)"
   ]
  },
  {
   "cell_type": "markdown",
   "id": "e489a406",
   "metadata": {},
   "source": [
    "## Contracts Advanced "
   ]
  },
  {
   "cell_type": "markdown",
   "id": "21b6b384",
   "metadata": {},
   "source": [
    "### Case 1: unambiguous (one contract exists)"
   ]
  },
  {
   "cell_type": "code",
   "execution_count": 42,
   "id": "8146226f",
   "metadata": {},
   "outputs": [
    {
     "data": {
      "text/plain": [
       "<IB connected to 127.0.0.1:7497 clientId=1>"
      ]
     },
     "execution_count": 42,
     "metadata": {},
     "output_type": "execute_result"
    }
   ],
   "source": [
    "ib.connect()"
   ]
  },
  {
   "cell_type": "code",
   "execution_count": 43,
   "id": "a87aa109",
   "metadata": {},
   "outputs": [
    {
     "data": {
      "text/plain": [
       "Stock(symbol='AAPL', exchange='SMART', currency='USD')"
      ]
     },
     "execution_count": 43,
     "metadata": {},
     "output_type": "execute_result"
    }
   ],
   "source": [
    "contract = Stock(\"AAPL\",\"SMART\",\"USD\")\n",
    "contract"
   ]
  },
  {
   "cell_type": "code",
   "execution_count": 44,
   "id": "c611a206",
   "metadata": {},
   "outputs": [
    {
     "data": {
      "text/plain": [
       "[ContractDetails(contract=Contract(secType='STK', conId=265598, symbol='AAPL', exchange='SMART', primaryExchange='NASDAQ', currency='USD', localSymbol='AAPL', tradingClass='NMS'), marketName='NMS', minTick=0.01, orderTypes='ACTIVETIM,AD,ADJUST,ALERT,ALGO,ALLOC,AON,AVGCOST,BASKET,BENCHPX,CASHQTY,COND,CONDORDER,DARKONLY,DARKPOLL,DAY,DEACT,DEACTDIS,DEACTEOD,DIS,DUR,GAT,GTC,GTD,GTT,HID,IBKRATS,ICE,IMB,IOC,LIT,LMT,LOC,MIDPX,MIT,MKT,MOC,MTL,NGCOMB,NODARK,NONALGO,OCA,OPG,OPGREROUT,PEGBENCH,PEGMID,POSTATS,POSTONLY,PREOPGRTH,PRICECHK,REL,REL2MID,RELPCTOFS,RPI,RTH,SCALE,SCALEODD,SCALERST,SIZECHK,SMARTSTG,SNAPMID,SNAPMKT,SNAPREL,STP,STPLMT,SWEEP,TRAIL,TRAILLIT,TRAILLMT,TRAILMIT,WHATIF', validExchanges='SMART,AMEX,NYSE,CBOE,PHLX,ISE,CHX,ARCA,ISLAND,DRCTEDGE,BEX,BATS,EDGEA,CSFBALGO,JEFFALGO,BYX,IEX,EDGX,FOXRIVER,PEARL,NYSENAT,LTSE,MEMX,IBEOS,OVERNIGHT,PSX', priceMagnifier=1, underConId=0, longName='APPLE INC', contractMonth='', industry='Technology', category='Computers', subcategory='Computers', timeZoneId='US/Eastern', tradingHours='20230712:0400-20230712:2000;20230713:0400-20230713:2000;20230714:0400-20230714:2000;20230715:CLOSED;20230716:CLOSED;20230717:0400-20230717:2000', liquidHours='20230712:0930-20230712:1600;20230713:0930-20230713:1600;20230714:0930-20230714:1600;20230715:CLOSED;20230716:CLOSED;20230717:0930-20230717:1600', evRule='', evMultiplier=0, mdSizeMultiplier=1, aggGroup=1, underSymbol='', underSecType='', marketRuleIds='26,26,26,26,26,26,26,26,26,26,26,26,26,26,26,26,26,26,26,26,26,26,26,26,26,26', secIdList=[TagValue(tag='ISIN', value='US0378331005')], realExpirationDate='', lastTradeTime='', stockType='COMMON', minSize=0.0001, sizeIncrement=0.0001, suggestedSizeIncrement=100.0, cusip='', ratings='', descAppend='', bondType='', couponType='', callable=False, putable=False, coupon=0, convertible=False, maturity='', issueDate='', nextOptionDate='', nextOptionType='', nextOptionPartial=False, notes='')]"
      ]
     },
     "execution_count": 44,
     "metadata": {},
     "output_type": "execute_result"
    }
   ],
   "source": [
    "# Contract Details\n",
    "cds = ib.reqContractDetails(contract) \n",
    "cds "
   ]
  },
  {
   "cell_type": "code",
   "execution_count": 45,
   "id": "2befec3f",
   "metadata": {},
   "outputs": [
    {
     "data": {
      "text/plain": [
       "1"
      ]
     },
     "execution_count": 45,
     "metadata": {},
     "output_type": "execute_result"
    }
   ],
   "source": [
    "len(cds)"
   ]
  },
  {
   "cell_type": "code",
   "execution_count": 50,
   "id": "87a2a52c",
   "metadata": {},
   "outputs": [
    {
     "data": {
      "text/plain": [
       "Contract(secType='STK', conId=265598, symbol='AAPL', exchange='SMART', primaryExchange='NASDAQ', currency='USD', localSymbol='AAPL', tradingClass='NMS')"
      ]
     },
     "execution_count": 50,
     "metadata": {},
     "output_type": "execute_result"
    }
   ],
   "source": [
    "cds[0].contract"
   ]
  },
  {
   "cell_type": "code",
   "execution_count": 51,
   "id": "1ab87f4c",
   "metadata": {},
   "outputs": [
    {
     "data": {
      "text/plain": [
       "265598"
      ]
     },
     "execution_count": 51,
     "metadata": {},
     "output_type": "execute_result"
    }
   ],
   "source": [
    "cds[0].contract.conId"
   ]
  },
  {
   "cell_type": "code",
   "execution_count": 52,
   "id": "14dc7484",
   "metadata": {},
   "outputs": [
    {
     "data": {
      "text/plain": [
       "'ACTIVETIM,AD,ADJUST,ALERT,ALGO,ALLOC,AON,AVGCOST,BASKET,BENCHPX,CASHQTY,COND,CONDORDER,DARKONLY,DARKPOLL,DAY,DEACT,DEACTDIS,DEACTEOD,DIS,DUR,GAT,GTC,GTD,GTT,HID,IBKRATS,ICE,IMB,IOC,LIT,LMT,LOC,MIDPX,MIT,MKT,MOC,MTL,NGCOMB,NODARK,NONALGO,OCA,OPG,OPGREROUT,PEGBENCH,PEGMID,POSTATS,POSTONLY,PREOPGRTH,PRICECHK,REL,REL2MID,RELPCTOFS,RPI,RTH,SCALE,SCALEODD,SCALERST,SIZECHK,SMARTSTG,SNAPMID,SNAPMKT,SNAPREL,STP,STPLMT,SWEEP,TRAIL,TRAILLIT,TRAILLMT,TRAILMIT,WHATIF'"
      ]
     },
     "execution_count": 52,
     "metadata": {},
     "output_type": "execute_result"
    }
   ],
   "source": [
    "cds[0].orderTypes"
   ]
  },
  {
   "cell_type": "markdown",
   "id": "07018f68",
   "metadata": {},
   "source": [
    "### Case 2: Unknown"
   ]
  },
  {
   "cell_type": "code",
   "execution_count": 53,
   "id": "0cbafb80",
   "metadata": {},
   "outputs": [
    {
     "data": {
      "text/plain": [
       "Stock(symbol='GSDFOLS', exchange='SMART', currency='USD')"
      ]
     },
     "execution_count": 53,
     "metadata": {},
     "output_type": "execute_result"
    }
   ],
   "source": [
    "contract = Stock(\"GSDFOLS\", \"SMART\", \"USD\")\n",
    "contract"
   ]
  },
  {
   "cell_type": "code",
   "execution_count": 54,
   "id": "14f2d259",
   "metadata": {},
   "outputs": [
    {
     "name": "stderr",
     "output_type": "stream",
     "text": [
      "Error 200, reqId 4: No security definition has been found for the request, contract: Stock(symbol='GSDFOLS', exchange='SMART', currency='USD')\n"
     ]
    },
    {
     "data": {
      "text/plain": [
       "[]"
      ]
     },
     "execution_count": 54,
     "metadata": {},
     "output_type": "execute_result"
    }
   ],
   "source": [
    "cds = ib.reqContractDetails(contract) # We will receive an error message\n",
    "cds"
   ]
  },
  {
   "cell_type": "code",
   "execution_count": 55,
   "id": "afa13e15",
   "metadata": {},
   "outputs": [
    {
     "data": {
      "text/plain": [
       "0"
      ]
     },
     "execution_count": 55,
     "metadata": {},
     "output_type": "execute_result"
    }
   ],
   "source": [
    "len(cds)"
   ]
  },
  {
   "cell_type": "markdown",
   "id": "69de7904",
   "metadata": {},
   "source": [
    "### Case 3: Ambiguous (multiple contracts)"
   ]
  },
  {
   "cell_type": "code",
   "execution_count": 56,
   "id": "d49c2332",
   "metadata": {},
   "outputs": [
    {
     "data": {
      "text/plain": [
       "Stock(symbol='AAPL')"
      ]
     },
     "execution_count": 56,
     "metadata": {},
     "output_type": "execute_result"
    }
   ],
   "source": [
    "contract = Stock(\"AAPL\")\n",
    "contract"
   ]
  },
  {
   "cell_type": "code",
   "execution_count": 57,
   "id": "98a94c69",
   "metadata": {},
   "outputs": [
    {
     "data": {
      "text/plain": [
       "[ContractDetails(contract=Contract(secType='STK', conId=265598, symbol='AAPL', exchange='SMART', primaryExchange='NASDAQ', currency='USD', localSymbol='AAPL', tradingClass='NMS'), marketName='NMS', minTick=0.01, orderTypes='ACTIVETIM,AD,ADJUST,ALERT,ALGO,ALLOC,AON,AVGCOST,BASKET,BENCHPX,CASHQTY,COND,CONDORDER,DARKONLY,DARKPOLL,DAY,DEACT,DEACTDIS,DEACTEOD,DIS,DUR,GAT,GTC,GTD,GTT,HID,IBKRATS,ICE,IMB,IOC,LIT,LMT,LOC,MIDPX,MIT,MKT,MOC,MTL,NGCOMB,NODARK,NONALGO,OCA,OPG,OPGREROUT,PEGBENCH,PEGMID,POSTATS,POSTONLY,PREOPGRTH,PRICECHK,REL,REL2MID,RELPCTOFS,RPI,RTH,SCALE,SCALEODD,SCALERST,SIZECHK,SMARTSTG,SNAPMID,SNAPMKT,SNAPREL,STP,STPLMT,SWEEP,TRAIL,TRAILLIT,TRAILLMT,TRAILMIT,WHATIF', validExchanges='SMART,AMEX,NYSE,CBOE,PHLX,ISE,CHX,ARCA,ISLAND,DRCTEDGE,BEX,BATS,EDGEA,CSFBALGO,JEFFALGO,BYX,IEX,EDGX,FOXRIVER,PEARL,NYSENAT,LTSE,MEMX,IBEOS,OVERNIGHT,PSX', priceMagnifier=1, underConId=0, longName='APPLE INC', contractMonth='', industry='Technology', category='Computers', subcategory='Computers', timeZoneId='US/Eastern', tradingHours='20230712:0400-20230712:2000;20230713:0400-20230713:2000;20230714:0400-20230714:2000;20230715:CLOSED;20230716:CLOSED;20230717:0400-20230717:2000', liquidHours='20230712:0930-20230712:1600;20230713:0930-20230713:1600;20230714:0930-20230714:1600;20230715:CLOSED;20230716:CLOSED;20230717:0930-20230717:1600', evRule='', evMultiplier=0, mdSizeMultiplier=1, aggGroup=1, underSymbol='', underSecType='', marketRuleIds='26,26,26,26,26,26,26,26,26,26,26,26,26,26,26,26,26,26,26,26,26,26,26,26,26,26', secIdList=[TagValue(tag='ISIN', value='US0378331005')], realExpirationDate='', lastTradeTime='', stockType='COMMON', minSize=0.0001, sizeIncrement=0.0001, suggestedSizeIncrement=100.0, cusip='', ratings='', descAppend='', bondType='', couponType='', callable=False, putable=False, coupon=0, convertible=False, maturity='', issueDate='', nextOptionDate='', nextOptionType='', nextOptionPartial=False, notes=''),\n",
       " ContractDetails(contract=Contract(secType='STK', conId=273982664, symbol='AAPL', exchange='SMART', primaryExchange='EBS', currency='CHF', localSymbol='AAPL', tradingClass='AAPL'), marketName='AAPL', minTick=0.001, orderTypes='ACTIVETIM,AD,ADJUST,ALERT,ALGO,ALGOLTH,ALLOC,AVGCOST,BASKET,BENCHPX,CASHQTY,COND,CONDORDER,DAY,DEACT,DEACTDIS,DEACTEOD,GAT,GTC,GTD,GTT,HID,IOC,LIT,LMT,LOC,MIT,MKT,MKT2BBO,MOC,MTL,NGCOMB,NODARK,NONALGO,OCA,OPG,PEGBENCH,REL,RELPCTOFS,RTH,RTH4MKT,SCALE,SCALERST,SIZECHK,SNAPMID,SNAPMKT,SNAPREL,STP,STPLMT,TRAIL,TRAILLIT,TRAILLMT,TRAILMIT,WHATIF', validExchanges='SMART,EBS', priceMagnifier=1, underConId=0, longName='APPLE INC', contractMonth='', industry='Technology', category='Computers', subcategory='Computers', timeZoneId='MET', tradingHours='20230712:0900-20230712:1732;20230713:0900-20230713:1732;20230714:0900-20230714:1732;20230715:CLOSED;20230716:CLOSED;20230717:0900-20230717:1732', liquidHours='20230712:0900-20230712:1732;20230713:0900-20230713:1732;20230714:0900-20230714:1732;20230715:CLOSED;20230716:CLOSED;20230717:0900-20230717:1732', evRule='', evMultiplier=0, mdSizeMultiplier=1, aggGroup=6, underSymbol='', underSecType='', marketRuleIds='579,579', secIdList=[TagValue(tag='ISIN', value='US0378331005')], realExpirationDate='', lastTradeTime='', stockType='COMMON', minSize=1.0, sizeIncrement=1.0, suggestedSizeIncrement=1.0, cusip='', ratings='', descAppend='', bondType='', couponType='', callable=False, putable=False, coupon=0, convertible=False, maturity='', issueDate='', nextOptionDate='', nextOptionType='', nextOptionPartial=False, notes=''),\n",
       " ContractDetails(contract=Contract(secType='STK', conId=493546048, symbol='AAPL', exchange='SMART', primaryExchange='LSEETF', currency='GBP', localSymbol='AAPL', tradingClass='ECE2'), marketName='ECE2', minTick=0.0005, orderTypes='ACTIVETIM,AD,ADJUST,ALERT,ALGO,ALGOLTH,ALLOC,AUC,AVGCOST,BASKET,BENCHPX,CASHQTY,COND,CONDORDER,DAY,DEACT,DEACTDIS,DEACTEOD,GAT,GTC,GTD,GTT,HID,IOC,LIT,LMT,LOC,MIT,MKT,MKT2BBO,MTL,NGCOMB,NODARK,NONALGO,OCA,PEGBENCH,RTH,RTH4MKT,SCALE,SCALERST,SIZECHK,SNAPMID,SNAPMKT,SNAPREL,STP,STPLMT,TRAIL,TRAILLIT,TRAILLMT,TRAILMIT,WHATIF', validExchanges='SMART,LSEETF', priceMagnifier=100, underConId=0, longName='LS 1X AAPL', contractMonth='', industry='', category='', subcategory='', timeZoneId='MET', tradingHours='20230712:0900-20230712:1750;20230713:0900-20230713:1750;20230714:0900-20230714:1750;20230715:CLOSED;20230716:CLOSED;20230717:0900-20230717:1750', liquidHours='20230712:0900-20230712:1750;20230713:0900-20230713:1750;20230714:0900-20230714:1750;20230715:CLOSED;20230716:CLOSED;20230717:0900-20230717:1750', evRule='', evMultiplier=0, mdSizeMultiplier=1, aggGroup=3, underSymbol='', underSecType='', marketRuleIds='984,984', secIdList=[TagValue(tag='ISIN', value='XS2337099563')], realExpirationDate='', lastTradeTime='', stockType='ETC', minSize=1.0, sizeIncrement=1.0, suggestedSizeIncrement=1.0, cusip='', ratings='', descAppend='', bondType='', couponType='', callable=False, putable=False, coupon=0, convertible=False, maturity='', issueDate='', nextOptionDate='', nextOptionType='', nextOptionPartial=False, notes=''),\n",
       " ContractDetails(contract=Contract(secType='STK', conId=532640894, symbol='AAPL', exchange='SMART', primaryExchange='AEQLIT', currency='CAD', localSymbol='AAPL', tradingClass='AAPL'), marketName='AAPL', minTick=0.005, orderTypes='ACTIVETIM,AD,ADJUST,ALERT,ALGO,ALLOC,AVGCOST,BASKET,BENCHPX,CASHQTY,COND,CONDORDER,DAY,DEACT,DEACTDIS,DEACTEOD,GAT,GTC,GTD,GTT,HID,ICE,LARGE,LIT,LMT,LOC,MINLOT,MIT,MKT,MOC,MTL,NGCOMB,NONALGO,OCA,OPG,PEGBENCH,REL,RELPCTOFS,RTH,SCALE,SCALERST,SIZECHK,SMARTSTG,SMARTSTGA,SNAPMID,SNAPMKT,SNAPREL,STP,STPLMT,TRAIL,TRAILLIT,TRAILLMT,TRAILMIT,WHATIF', validExchanges='SMART', priceMagnifier=1, underConId=0, longName='APPLE INC-CDR', contractMonth='', industry='Technology', category='Computers', subcategory='Computers', timeZoneId='US/Eastern', tradingHours='20230712:0700-20230712:1700;20230713:0700-20230713:1700;20230714:0700-20230714:1700;20230715:CLOSED;20230716:CLOSED;20230717:0700-20230717:1700', liquidHours='20230712:0930-20230712:1600;20230713:0930-20230713:1600;20230714:0930-20230714:1600;20230715:CLOSED;20230716:CLOSED;20230717:0930-20230717:1600', evRule='', evMultiplier=0, mdSizeMultiplier=1, aggGroup=11, underSymbol='', underSecType='', marketRuleIds='3030', secIdList=[TagValue(tag='ISIN', value='CA03785Y1007')], realExpirationDate='', lastTradeTime='', stockType='RECEIPT', minSize=500.0, sizeIncrement=500.0, suggestedSizeIncrement=500.0, cusip='', ratings='', descAppend='', bondType='', couponType='', callable=False, putable=False, coupon=0, convertible=False, maturity='', issueDate='', nextOptionDate='', nextOptionType='', nextOptionPartial=False, notes=''),\n",
       " ContractDetails(contract=Contract(secType='STK', conId=265598, symbol='AAPL', exchange='AMEX', primaryExchange='NASDAQ', currency='USD', localSymbol='AAPL', tradingClass='NMS'), marketName='NMS', minTick=0.01, orderTypes='ACTIVETIM,AD,ADJUST,ALERT,ALLOC,AVGCOST,BASKET,BENCHPX,CASHQTY,COND,CONDORDER,DAY,DEACT,DEACTDIS,DEACTEOD,GAT,GTC,GTD,GTT,HID,IOC,LIT,LMT,MIT,MKT,MTL,NGCOMB,NONALGO,OCA,PEGBENCH,SCALE,SCALERST,SNAPMID,SNAPMKT,SNAPREL,STP,STPLMT,TRAIL,TRAILLIT,TRAILLMT,TRAILMIT,WHATIF', validExchanges='SMART,AMEX,NYSE,CBOE,PHLX,ISE,CHX,ARCA,ISLAND,DRCTEDGE,BEX,BATS,EDGEA,CSFBALGO,JEFFALGO,BYX,IEX,EDGX,FOXRIVER,PEARL,NYSENAT,LTSE,MEMX,IBEOS,OVERNIGHT,PSX', priceMagnifier=1, underConId=0, longName='APPLE INC', contractMonth='', industry='Technology', category='Computers', subcategory='Computers', timeZoneId='US/Eastern', tradingHours='20230712:0700-20230712:2000;20230713:0700-20230713:2000;20230714:0700-20230714:2000;20230715:CLOSED;20230716:CLOSED;20230717:0700-20230717:2000', liquidHours='20230712:0700-20230712:2000;20230713:0700-20230713:2000;20230714:0700-20230714:2000;20230715:CLOSED;20230716:CLOSED;20230717:0700-20230717:2000', evRule='', evMultiplier=0, mdSizeMultiplier=1, aggGroup=1, underSymbol='', underSecType='', marketRuleIds='26,26,26,26,26,26,26,26,26,26,26,26,26,26,26,26,26,26,26,26,26,26,26,26,26,26', secIdList=[TagValue(tag='ISIN', value='US0378331005')], realExpirationDate='', lastTradeTime='', stockType='COMMON', minSize=0.0001, sizeIncrement=0.0001, suggestedSizeIncrement=100.0, cusip='', ratings='', descAppend='', bondType='', couponType='', callable=False, putable=False, coupon=0, convertible=False, maturity='', issueDate='', nextOptionDate='', nextOptionType='', nextOptionPartial=False, notes=''),\n",
       " ContractDetails(contract=Contract(secType='STK', conId=265598, symbol='AAPL', exchange='NYSE', primaryExchange='NASDAQ', currency='USD', localSymbol='AAPL', tradingClass='NMS'), marketName='NMS', minTick=0.01, orderTypes='ACTIVETIM,AD,ADJUST,ALERT,ALLOC,AVGCOST,BASKET,BENCHPX,CASHQTY,COND,CONDORDER,DAY,DEACT,DEACTDIS,DEACTEOD,GAT,GTC,GTD,GTT,HID,IOC,LIT,LMT,MIT,MKT,MTL,NGCOMB,NONALGO,OCA,PEGBENCH,REL,RELPCTOFS,SCALE,SCALERST,SNAPMID,SNAPMKT,SNAPREL,STP,STPLMT,TRAIL,TRAILLIT,TRAILLMT,TRAILMIT,WHATIF', validExchanges='SMART,AMEX,NYSE,CBOE,PHLX,ISE,CHX,ARCA,ISLAND,DRCTEDGE,BEX,BATS,EDGEA,CSFBALGO,JEFFALGO,BYX,IEX,EDGX,FOXRIVER,PEARL,NYSENAT,LTSE,MEMX,IBEOS,OVERNIGHT,PSX', priceMagnifier=1, underConId=0, longName='APPLE INC', contractMonth='', industry='Technology', category='Computers', subcategory='Computers', timeZoneId='US/Eastern', tradingHours='20230712:0700-20230712:1600;20230713:0700-20230713:1600;20230714:0700-20230714:1600;20230715:CLOSED;20230716:CLOSED;20230717:0700-20230717:1600', liquidHours='20230712:0700-20230712:1600;20230713:0700-20230713:1600;20230714:0700-20230714:1600;20230715:CLOSED;20230716:CLOSED;20230717:0700-20230717:1600', evRule='', evMultiplier=0, mdSizeMultiplier=1, aggGroup=1, underSymbol='', underSecType='', marketRuleIds='26,26,26,26,26,26,26,26,26,26,26,26,26,26,26,26,26,26,26,26,26,26,26,26,26,26', secIdList=[TagValue(tag='ISIN', value='US0378331005')], realExpirationDate='', lastTradeTime='', stockType='COMMON', minSize=0.0001, sizeIncrement=0.0001, suggestedSizeIncrement=100.0, cusip='', ratings='', descAppend='', bondType='', couponType='', callable=False, putable=False, coupon=0, convertible=False, maturity='', issueDate='', nextOptionDate='', nextOptionType='', nextOptionPartial=False, notes=''),\n",
       " ContractDetails(contract=Contract(secType='STK', conId=265598, symbol='AAPL', exchange='CBOE', primaryExchange='NASDAQ', currency='USD', localSymbol='AAPL', tradingClass='NMS'), marketName='NMS', minTick=0.01, orderTypes='ACTIVETIM,AD,ADJUST,ALERT,ALLOC,AVGCOST,BASKET,BENCHPX,CASHQTY,COND,CONDORDER,DAY,DEACT,DEACTDIS,DEACTEOD,GAT,GTC,GTD,GTT,HID,LIT,LMT,MIT,MKT,MTL,NGCOMB,NONALGO,OCA,PEGBENCH,SCALE,SCALERST,SNAPMID,SNAPMKT,SNAPREL,STP,STPLMT,TRAIL,TRAILLIT,TRAILLMT,TRAILMIT,WHATIF', validExchanges='SMART,AMEX,NYSE,CBOE,PHLX,ISE,CHX,ARCA,ISLAND,DRCTEDGE,BEX,BATS,EDGEA,CSFBALGO,JEFFALGO,BYX,IEX,EDGX,FOXRIVER,PEARL,NYSENAT,LTSE,MEMX,IBEOS,OVERNIGHT,PSX', priceMagnifier=1, underConId=0, longName='APPLE INC', contractMonth='', industry='Technology', category='Computers', subcategory='Computers', timeZoneId='US/Central', tradingHours='20230712:0830-20230712:1500;20230713:0830-20230713:1500;20230714:0830-20230714:1500;20230715:CLOSED;20230716:CLOSED;20230717:0830-20230717:1500', liquidHours='20230712:0830-20230712:1500;20230713:0830-20230713:1500;20230714:0830-20230714:1500;20230715:CLOSED;20230716:CLOSED;20230717:0830-20230717:1500', evRule='', evMultiplier=0, mdSizeMultiplier=1, aggGroup=2147483647, underSymbol='', underSecType='', marketRuleIds='26,26,26,26,26,26,26,26,26,26,26,26,26,26,26,26,26,26,26,26,26,26,26,26,26,26', secIdList=[TagValue(tag='ISIN', value='US0378331005')], realExpirationDate='', lastTradeTime='', stockType='COMMON', minSize=0.0001, sizeIncrement=0.0001, suggestedSizeIncrement=100.0, cusip='', ratings='', descAppend='', bondType='', couponType='', callable=False, putable=False, coupon=0, convertible=False, maturity='', issueDate='', nextOptionDate='', nextOptionType='', nextOptionPartial=False, notes=''),\n",
       " ContractDetails(contract=Contract(secType='STK', conId=265598, symbol='AAPL', exchange='PHLX', primaryExchange='NASDAQ', currency='USD', localSymbol='AAPL', tradingClass='NMS'), marketName='NMS', minTick=0.01, orderTypes='ACTIVETIM,AD,ADJUST,ALERT,ALLOC,AVGCOST,BASKET,BENCHPX,CASHQTY,COND,CONDORDER,DAY,DEACT,DEACTDIS,DEACTEOD,GAT,GTC,GTD,GTT,HID,LIT,LMT,MIT,MKT,MTL,NGCOMB,NONALGO,OCA,PEGBENCH,SCALE,SCALERST,SNAPMID,SNAPMKT,SNAPREL,STP,STPLMT,TRAIL,TRAILLIT,TRAILLMT,TRAILMIT,WHATIF', validExchanges='SMART,AMEX,NYSE,CBOE,PHLX,ISE,CHX,ARCA,ISLAND,DRCTEDGE,BEX,BATS,EDGEA,CSFBALGO,JEFFALGO,BYX,IEX,EDGX,FOXRIVER,PEARL,NYSENAT,LTSE,MEMX,IBEOS,OVERNIGHT,PSX', priceMagnifier=1, underConId=0, longName='APPLE INC', contractMonth='', industry='Technology', category='Computers', subcategory='Computers', timeZoneId='US/Eastern', tradingHours='20230712:0930-20230712:1600;20230713:0930-20230713:1600;20230714:0930-20230714:1600;20230715:CLOSED;20230716:CLOSED;20230717:0930-20230717:1600', liquidHours='20230712:0930-20230712:1600;20230713:0930-20230713:1600;20230714:0930-20230714:1600;20230715:CLOSED;20230716:CLOSED;20230717:0930-20230717:1600', evRule='', evMultiplier=0, mdSizeMultiplier=1, aggGroup=2147483647, underSymbol='', underSecType='', marketRuleIds='26,26,26,26,26,26,26,26,26,26,26,26,26,26,26,26,26,26,26,26,26,26,26,26,26,26', secIdList=[TagValue(tag='ISIN', value='US0378331005')], realExpirationDate='', lastTradeTime='', stockType='COMMON', minSize=0.0001, sizeIncrement=0.0001, suggestedSizeIncrement=100.0, cusip='', ratings='', descAppend='', bondType='', couponType='', callable=False, putable=False, coupon=0, convertible=False, maturity='', issueDate='', nextOptionDate='', nextOptionType='', nextOptionPartial=False, notes=''),\n",
       " ContractDetails(contract=Contract(secType='STK', conId=265598, symbol='AAPL', exchange='ISE', primaryExchange='NASDAQ', currency='USD', localSymbol='AAPL', tradingClass='NMS'), marketName='NMS', minTick=0.01, orderTypes='ACTIVETIM,AD,ADJUST,ALERT,ALLOC,AVGCOST,BASKET,BENCHPX,CASHQTY,COND,CONDORDER,DAY,DEACT,DEACTDIS,DEACTEOD,GAT,GTC,GTD,GTT,HID,LIT,LMT,MIT,MKT,MTL,NGCOMB,NONALGO,OCA,PEGBENCH,SCALE,SCALERST,SNAPMID,SNAPMKT,SNAPREL,STP,STPLMT,TRAIL,TRAILLIT,TRAILLMT,TRAILMIT,WHATIF', validExchanges='SMART,AMEX,NYSE,CBOE,PHLX,ISE,CHX,ARCA,ISLAND,DRCTEDGE,BEX,BATS,EDGEA,CSFBALGO,JEFFALGO,BYX,IEX,EDGX,FOXRIVER,PEARL,NYSENAT,LTSE,MEMX,IBEOS,OVERNIGHT,PSX', priceMagnifier=1, underConId=0, longName='APPLE INC', contractMonth='', industry='Technology', category='Computers', subcategory='Computers', timeZoneId='US/Eastern', tradingHours='20230712:0800-20230712:2000;20230713:0800-20230713:2000;20230714:0800-20230714:2000;20230715:CLOSED;20230716:CLOSED;20230717:0800-20230717:2000', liquidHours='20230712:0800-20230712:2000;20230713:0800-20230713:2000;20230714:0800-20230714:2000;20230715:CLOSED;20230716:CLOSED;20230717:0800-20230717:2000', evRule='', evMultiplier=0, mdSizeMultiplier=1, aggGroup=2147483647, underSymbol='', underSecType='', marketRuleIds='26,26,26,26,26,26,26,26,26,26,26,26,26,26,26,26,26,26,26,26,26,26,26,26,26,26', secIdList=[TagValue(tag='ISIN', value='US0378331005')], realExpirationDate='', lastTradeTime='', stockType='COMMON', minSize=0.0001, sizeIncrement=0.0001, suggestedSizeIncrement=100.0, cusip='', ratings='', descAppend='', bondType='', couponType='', callable=False, putable=False, coupon=0, convertible=False, maturity='', issueDate='', nextOptionDate='', nextOptionType='', nextOptionPartial=False, notes=''),\n",
       " ContractDetails(contract=Contract(secType='STK', conId=265598, symbol='AAPL', exchange='CHX', primaryExchange='NASDAQ', currency='USD', localSymbol='AAPL', tradingClass='NMS'), marketName='NMS', minTick=0.01, orderTypes='ACTIVETIM,AD,ADJUST,ALERT,ALLOC,AVGCOST,BASKET,BENCHPX,CASHQTY,COND,CONDORDER,DAY,DEACT,DEACTDIS,DEACTEOD,GAT,GTC,GTD,GTT,HID,IOC,LIT,LMT,MIT,MKT,MTL,NGCOMB,NONALGO,OCA,PEGBENCH,SCALE,SCALERST,SNAPMID,SNAPMKT,SNAPREL,STP,STPLMT,TRAIL,TRAILLIT,TRAILLMT,TRAILMIT,WHATIF', validExchanges='SMART,AMEX,NYSE,CBOE,PHLX,ISE,CHX,ARCA,ISLAND,DRCTEDGE,BEX,BATS,EDGEA,CSFBALGO,JEFFALGO,BYX,IEX,EDGX,FOXRIVER,PEARL,NYSENAT,LTSE,MEMX,IBEOS,OVERNIGHT,PSX', priceMagnifier=1, underConId=0, longName='APPLE INC', contractMonth='', industry='Technology', category='Computers', subcategory='Computers', timeZoneId='US/Central', tradingHours='20230712:0600-20230712:1900;20230713:0600-20230713:1900;20230714:0600-20230714:1900;20230715:CLOSED;20230716:CLOSED;20230717:0600-20230717:1900', liquidHours='20230712:0600-20230712:1900;20230713:0600-20230713:1900;20230714:0600-20230714:1900;20230715:CLOSED;20230716:CLOSED;20230717:0600-20230717:1900', evRule='', evMultiplier=0, mdSizeMultiplier=1, aggGroup=1, underSymbol='', underSecType='', marketRuleIds='26,26,26,26,26,26,26,26,26,26,26,26,26,26,26,26,26,26,26,26,26,26,26,26,26,26', secIdList=[TagValue(tag='ISIN', value='US0378331005')], realExpirationDate='', lastTradeTime='', stockType='COMMON', minSize=0.0001, sizeIncrement=0.0001, suggestedSizeIncrement=100.0, cusip='', ratings='', descAppend='', bondType='', couponType='', callable=False, putable=False, coupon=0, convertible=False, maturity='', issueDate='', nextOptionDate='', nextOptionType='', nextOptionPartial=False, notes=''),\n",
       " ContractDetails(contract=Contract(secType='STK', conId=265598, symbol='AAPL', exchange='ARCA', primaryExchange='NASDAQ', currency='USD', localSymbol='AAPL', tradingClass='NMS'), marketName='NMS', minTick=0.01, orderTypes='ACTIVETIM,AD,ADJUST,ALERT,ALLOC,AVGCOST,BASKET,BENCHPX,CASHQTY,COND,CONDORDER,DAY,DEACT,DEACTDIS,DEACTEOD,DIS,GAT,GTC,GTD,GTT,HID,IOC,LIT,LMT,LOC,MIT,MKT,MOC,MTL,NGCOMB,NONALGO,OCA,OPG,PEGBENCH,REL,RELPCTOFS,RTH,SCALE,SCALERST,SNAPMID,SNAPMKT,SNAPREL,STP,STPLMT,TRAIL,TRAILLIT,TRAILLMT,TRAILMIT,WHATIF', validExchanges='SMART,AMEX,NYSE,CBOE,PHLX,ISE,CHX,ARCA,ISLAND,DRCTEDGE,BEX,BATS,EDGEA,CSFBALGO,JEFFALGO,BYX,IEX,EDGX,FOXRIVER,PEARL,NYSENAT,LTSE,MEMX,IBEOS,OVERNIGHT,PSX', priceMagnifier=1, underConId=0, longName='APPLE INC', contractMonth='', industry='Technology', category='Computers', subcategory='Computers', timeZoneId='US/Eastern', tradingHours='20230712:0400-20230712:2000;20230713:0400-20230713:2000;20230714:0400-20230714:2000;20230715:CLOSED;20230716:CLOSED;20230717:0400-20230717:2000', liquidHours='20230712:0930-20230712:1600;20230713:0930-20230713:1600;20230714:0930-20230714:1600;20230715:CLOSED;20230716:CLOSED;20230717:0930-20230717:1600', evRule='', evMultiplier=0, mdSizeMultiplier=1, aggGroup=1, underSymbol='', underSecType='', marketRuleIds='26,26,26,26,26,26,26,26,26,26,26,26,26,26,26,26,26,26,26,26,26,26,26,26,26,26', secIdList=[TagValue(tag='ISIN', value='US0378331005')], realExpirationDate='', lastTradeTime='', stockType='COMMON', minSize=0.0001, sizeIncrement=0.0001, suggestedSizeIncrement=100.0, cusip='', ratings='', descAppend='', bondType='', couponType='', callable=False, putable=False, coupon=0, convertible=False, maturity='', issueDate='', nextOptionDate='', nextOptionType='', nextOptionPartial=False, notes=''),\n",
       " ContractDetails(contract=Contract(secType='STK', conId=265598, symbol='AAPL', exchange='ISLAND', primaryExchange='NASDAQ', currency='USD', localSymbol='AAPL', tradingClass='NMS'), marketName='NMS', minTick=0.01, orderTypes='ACTIVETIM,AD,ADJUST,ALERT,ALLOC,AON,AVGCOST,BASKET,BENCHPX,CASHQTY,COND,CONDORDER,DAY,DEACT,DEACTDIS,DEACTEOD,DIS,GAT,GTC,GTD,GTT,HID,IOC,LIT,LMT,LOC,MIT,MKT,MOC,MTL,NGCOMB,NONALGO,OCA,OPG,PEGBENCH,RELPCTOFS,RTH,SCALE,SCALERST,SNAPMID,SNAPMKT,SNAPREL,STP,STPLMT,TRAIL,TRAILLIT,TRAILLMT,TRAILMIT,WHATIF', validExchanges='SMART,AMEX,NYSE,CBOE,PHLX,ISE,CHX,ARCA,ISLAND,DRCTEDGE,BEX,BATS,EDGEA,CSFBALGO,JEFFALGO,BYX,IEX,EDGX,FOXRIVER,PEARL,NYSENAT,LTSE,MEMX,IBEOS,OVERNIGHT,PSX', priceMagnifier=1, underConId=0, longName='APPLE INC', contractMonth='', industry='Technology', category='Computers', subcategory='Computers', timeZoneId='US/Eastern', tradingHours='20230712:0400-20230712:2000;20230713:0400-20230713:2000;20230714:0400-20230714:2000;20230715:CLOSED;20230716:CLOSED;20230717:0400-20230717:2000', liquidHours='20230712:0930-20230712:1600;20230713:0930-20230713:1600;20230714:0930-20230714:1600;20230715:CLOSED;20230716:CLOSED;20230717:0930-20230717:1600', evRule='', evMultiplier=0, mdSizeMultiplier=1, aggGroup=1, underSymbol='', underSecType='', marketRuleIds='26,26,26,26,26,26,26,26,26,26,26,26,26,26,26,26,26,26,26,26,26,26,26,26,26,26', secIdList=[TagValue(tag='ISIN', value='US0378331005')], realExpirationDate='', lastTradeTime='', stockType='COMMON', minSize=0.0001, sizeIncrement=0.0001, suggestedSizeIncrement=100.0, cusip='', ratings='', descAppend='', bondType='', couponType='', callable=False, putable=False, coupon=0, convertible=False, maturity='', issueDate='', nextOptionDate='', nextOptionType='', nextOptionPartial=False, notes=''),\n",
       " ContractDetails(contract=Contract(secType='STK', conId=265598, symbol='AAPL', exchange='DRCTEDGE', primaryExchange='NASDAQ', currency='USD', localSymbol='AAPL', tradingClass='NMS'), marketName='NMS', minTick=0.01, orderTypes='ACTIVETIM,AD,ADJUST,ALERT,ALLOC,AON,AVGCOST,BASKET,BENCHPX,CASHQTY,COND,CONDORDER,DAY,DEACT,DEACTDIS,DEACTEOD,GAT,GTC,GTD,GTT,HID,LIT,LMT,MIT,MKT,MTL,NGCOMB,NONALGO,OCA,PEGBENCH,RTH,SCALE,SCALERST,SNAPMID,SNAPMKT,SNAPREL,STP,STPLMT,TRAIL,TRAILLIT,TRAILLMT,TRAILMIT,WHATIF', validExchanges='SMART,AMEX,NYSE,CBOE,PHLX,ISE,CHX,ARCA,ISLAND,DRCTEDGE,BEX,BATS,EDGEA,CSFBALGO,JEFFALGO,BYX,IEX,EDGX,FOXRIVER,PEARL,NYSENAT,LTSE,MEMX,IBEOS,OVERNIGHT,PSX', priceMagnifier=1, underConId=0, longName='APPLE INC', contractMonth='', industry='Technology', category='Computers', subcategory='Computers', timeZoneId='US/Eastern', tradingHours='20230712:0400-20230712:2000;20230713:0400-20230713:2000;20230714:0400-20230714:2000;20230715:CLOSED;20230716:CLOSED;20230717:0400-20230717:2000', liquidHours='20230712:0930-20230712:1600;20230713:0930-20230713:1600;20230714:0930-20230714:1600;20230715:CLOSED;20230716:CLOSED;20230717:0930-20230717:1600', evRule='', evMultiplier=0, mdSizeMultiplier=1, aggGroup=1, underSymbol='', underSecType='', marketRuleIds='26,26,26,26,26,26,26,26,26,26,26,26,26,26,26,26,26,26,26,26,26,26,26,26,26,26', secIdList=[TagValue(tag='ISIN', value='US0378331005')], realExpirationDate='', lastTradeTime='', stockType='COMMON', minSize=0.0001, sizeIncrement=0.0001, suggestedSizeIncrement=100.0, cusip='', ratings='', descAppend='', bondType='', couponType='', callable=False, putable=False, coupon=0, convertible=False, maturity='', issueDate='', nextOptionDate='', nextOptionType='', nextOptionPartial=False, notes=''),\n",
       " ContractDetails(contract=Contract(secType='STK', conId=265598, symbol='AAPL', exchange='BEX', primaryExchange='NASDAQ', currency='USD', localSymbol='AAPL', tradingClass='NMS'), marketName='NMS', minTick=0.01, orderTypes='ACTIVETIM,AD,ADJUST,ALERT,ALLOC,AON,AVGCOST,BASKET,BENCHPX,CASHQTY,COND,CONDORDER,DAY,DEACT,DEACTDIS,DEACTEOD,GAT,GTC,GTD,GTT,HID,LIT,LMT,MIT,MKT,MTL,NGCOMB,NONALGO,OCA,PEGBENCH,RTH,SCALE,SCALERST,SNAPMID,SNAPMKT,SNAPREL,STP,STPLMT,TRAIL,TRAILLIT,TRAILLMT,TRAILMIT,WHATIF', validExchanges='SMART,AMEX,NYSE,CBOE,PHLX,ISE,CHX,ARCA,ISLAND,DRCTEDGE,BEX,BATS,EDGEA,CSFBALGO,JEFFALGO,BYX,IEX,EDGX,FOXRIVER,PEARL,NYSENAT,LTSE,MEMX,IBEOS,OVERNIGHT,PSX', priceMagnifier=1, underConId=0, longName='APPLE INC', contractMonth='', industry='Technology', category='Computers', subcategory='Computers', timeZoneId='US/Eastern', tradingHours='20230712:0700-20230712:1900;20230713:0700-20230713:1900;20230714:0700-20230714:1900;20230715:CLOSED;20230716:CLOSED;20230717:0700-20230717:1900', liquidHours='20230712:0930-20230712:1600;20230713:0930-20230713:1600;20230714:0930-20230714:1600;20230715:CLOSED;20230716:CLOSED;20230717:0930-20230717:1600', evRule='', evMultiplier=0, mdSizeMultiplier=1, aggGroup=1, underSymbol='', underSecType='', marketRuleIds='26,26,26,26,26,26,26,26,26,26,26,26,26,26,26,26,26,26,26,26,26,26,26,26,26,26', secIdList=[TagValue(tag='ISIN', value='US0378331005')], realExpirationDate='', lastTradeTime='', stockType='COMMON', minSize=0.0001, sizeIncrement=0.0001, suggestedSizeIncrement=100.0, cusip='', ratings='', descAppend='', bondType='', couponType='', callable=False, putable=False, coupon=0, convertible=False, maturity='', issueDate='', nextOptionDate='', nextOptionType='', nextOptionPartial=False, notes=''),\n",
       " ContractDetails(contract=Contract(secType='STK', conId=265598, symbol='AAPL', exchange='BATS', primaryExchange='NASDAQ', currency='USD', localSymbol='AAPL', tradingClass='NMS'), marketName='NMS', minTick=0.01, orderTypes='ACTIVETIM,AD,ADJUST,ALERT,ALLOC,AON,AVGCOST,BASKET,BENCHPX,CASHQTY,COND,CONDORDER,DAY,DEACT,DEACTDIS,DEACTEOD,DIS,GAT,GTC,GTD,GTT,HID,IOC,LIT,LMT,MIT,MKT,MTL,NGCOMB,NONALGO,OCA,PEGBENCH,PREOPGRTH,REL,RELPCTOFS,RTH,SCALE,SCALERST,SNAPMID,SNAPMKT,SNAPREL,STP,STPLMT,TRAIL,TRAILLIT,TRAILLMT,TRAILMIT,WHATIF', validExchanges='SMART,AMEX,NYSE,CBOE,PHLX,ISE,CHX,ARCA,ISLAND,DRCTEDGE,BEX,BATS,EDGEA,CSFBALGO,JEFFALGO,BYX,IEX,EDGX,FOXRIVER,PEARL,NYSENAT,LTSE,MEMX,IBEOS,OVERNIGHT,PSX', priceMagnifier=1, underConId=0, longName='APPLE INC', contractMonth='', industry='Technology', category='Computers', subcategory='Computers', timeZoneId='US/Eastern', tradingHours='20230712:0700-20230712:2000;20230713:0700-20230713:2000;20230714:0700-20230714:2000;20230715:CLOSED;20230716:CLOSED;20230717:0700-20230717:2000', liquidHours='20230712:0930-20230712:1600;20230713:0930-20230713:1600;20230714:0930-20230714:1600;20230715:CLOSED;20230716:CLOSED;20230717:0930-20230717:1600', evRule='', evMultiplier=0, mdSizeMultiplier=1, aggGroup=1, underSymbol='', underSecType='', marketRuleIds='26,26,26,26,26,26,26,26,26,26,26,26,26,26,26,26,26,26,26,26,26,26,26,26,26,26', secIdList=[TagValue(tag='ISIN', value='US0378331005')], realExpirationDate='', lastTradeTime='', stockType='COMMON', minSize=0.0001, sizeIncrement=0.0001, suggestedSizeIncrement=100.0, cusip='', ratings='', descAppend='', bondType='', couponType='', callable=False, putable=False, coupon=0, convertible=False, maturity='', issueDate='', nextOptionDate='', nextOptionType='', nextOptionPartial=False, notes=''),\n",
       " ContractDetails(contract=Contract(secType='STK', conId=265598, symbol='AAPL', exchange='EDGEA', primaryExchange='NASDAQ', currency='USD', localSymbol='AAPL', tradingClass='NMS'), marketName='NMS', minTick=0.01, orderTypes='ACTIVETIM,AD,ADJUST,ALERT,ALLOC,AVGCOST,BASKET,BENCHPX,CASHQTY,COND,CONDORDER,DAY,DEACT,DEACTDIS,DEACTEOD,GAT,GTC,GTD,GTT,HID,LIT,LMT,MIT,MKT,MTL,NGCOMB,NONALGO,OCA,PEGBENCH,RTH,SCALE,SCALERST,SNAPMID,SNAPMKT,SNAPREL,STP,STPLMT,TRAIL,TRAILLIT,TRAILLMT,TRAILMIT,WHATIF', validExchanges='SMART,AMEX,NYSE,CBOE,PHLX,ISE,CHX,ARCA,ISLAND,DRCTEDGE,BEX,BATS,EDGEA,CSFBALGO,JEFFALGO,BYX,IEX,EDGX,FOXRIVER,PEARL,NYSENAT,LTSE,MEMX,IBEOS,OVERNIGHT,PSX', priceMagnifier=1, underConId=0, longName='APPLE INC', contractMonth='', industry='Technology', category='Computers', subcategory='Computers', timeZoneId='US/Eastern', tradingHours='20230712:0700-20230712:2000;20230713:0700-20230713:2000;20230714:0700-20230714:2000;20230715:CLOSED;20230716:CLOSED;20230717:0700-20230717:2000', liquidHours='20230712:0930-20230712:1600;20230713:0930-20230713:1600;20230714:0930-20230714:1600;20230715:CLOSED;20230716:CLOSED;20230717:0930-20230717:1600', evRule='', evMultiplier=0, mdSizeMultiplier=1, aggGroup=1, underSymbol='', underSecType='', marketRuleIds='26,26,26,26,26,26,26,26,26,26,26,26,26,26,26,26,26,26,26,26,26,26,26,26,26,26', secIdList=[TagValue(tag='ISIN', value='US0378331005')], realExpirationDate='', lastTradeTime='', stockType='COMMON', minSize=0.0001, sizeIncrement=0.0001, suggestedSizeIncrement=100.0, cusip='', ratings='', descAppend='', bondType='', couponType='', callable=False, putable=False, coupon=0, convertible=False, maturity='', issueDate='', nextOptionDate='', nextOptionType='', nextOptionPartial=False, notes=''),\n",
       " ContractDetails(contract=Contract(secType='STK', conId=265598, symbol='AAPL', exchange='CSFBALGO', primaryExchange='NASDAQ', currency='USD', localSymbol='AAPL', tradingClass='NMS'), marketName='NMS', minTick=0.01, orderTypes='AD,ALERT,ALLOC,AVGCOST,BASKET,BENCHPX,CASHQTY,DAY,DEACT,DEACTDIS,HID,LMT,MKT,NGCOMB,PEGBENCH,WHATIF', validExchanges='SMART,AMEX,NYSE,CBOE,PHLX,ISE,CHX,ARCA,ISLAND,DRCTEDGE,BEX,BATS,EDGEA,CSFBALGO,JEFFALGO,BYX,IEX,EDGX,FOXRIVER,PEARL,NYSENAT,LTSE,MEMX,IBEOS,OVERNIGHT,PSX', priceMagnifier=1, underConId=0, longName='APPLE INC', contractMonth='', industry='Technology', category='Computers', subcategory='Computers', timeZoneId='US/Eastern', tradingHours='20230712:0930-20230712:1600;20230713:0930-20230713:1600;20230714:0930-20230714:1600;20230715:CLOSED;20230716:CLOSED;20230717:0930-20230717:1600', liquidHours='20230712:0930-20230712:1600;20230713:0930-20230713:1600;20230714:0930-20230714:1600;20230715:CLOSED;20230716:CLOSED;20230717:0930-20230717:1600', evRule='', evMultiplier=0, mdSizeMultiplier=1, aggGroup=2147483647, underSymbol='', underSecType='', marketRuleIds='26,26,26,26,26,26,26,26,26,26,26,26,26,26,26,26,26,26,26,26,26,26,26,26,26,26', secIdList=[TagValue(tag='ISIN', value='US0378331005')], realExpirationDate='', lastTradeTime='', stockType='COMMON', minSize=0.0001, sizeIncrement=0.0001, suggestedSizeIncrement=100.0, cusip='', ratings='', descAppend='', bondType='', couponType='', callable=False, putable=False, coupon=0, convertible=False, maturity='', issueDate='', nextOptionDate='', nextOptionType='', nextOptionPartial=False, notes=''),\n",
       " ContractDetails(contract=Contract(secType='STK', conId=265598, symbol='AAPL', exchange='JEFFALGO', primaryExchange='NASDAQ', currency='USD', localSymbol='AAPL', tradingClass='NMS'), marketName='NMS', minTick=0.01, orderTypes='AD,ALERT,ALLOC,AVGCOST,BASKET,BENCHPX,CASHQTY,DAY,DEACT,DEACTDIS,HID,LMT,MKT,NGCOMB,PEGBENCH,WHATIF', validExchanges='SMART,AMEX,NYSE,CBOE,PHLX,ISE,CHX,ARCA,ISLAND,DRCTEDGE,BEX,BATS,EDGEA,CSFBALGO,JEFFALGO,BYX,IEX,EDGX,FOXRIVER,PEARL,NYSENAT,LTSE,MEMX,IBEOS,OVERNIGHT,PSX', priceMagnifier=1, underConId=0, longName='APPLE INC', contractMonth='', industry='Technology', category='Computers', subcategory='Computers', timeZoneId='US/Eastern', tradingHours='20230712:0930-20230712:1600;20230713:0930-20230713:1600;20230714:0930-20230714:1600;20230715:CLOSED;20230716:CLOSED;20230717:0930-20230717:1600', liquidHours='20230712:0930-20230712:1600;20230713:0930-20230713:1600;20230714:0930-20230714:1600;20230715:CLOSED;20230716:CLOSED;20230717:0930-20230717:1600', evRule='', evMultiplier=0, mdSizeMultiplier=1, aggGroup=2147483647, underSymbol='', underSecType='', marketRuleIds='26,26,26,26,26,26,26,26,26,26,26,26,26,26,26,26,26,26,26,26,26,26,26,26,26,26', secIdList=[TagValue(tag='ISIN', value='US0378331005')], realExpirationDate='', lastTradeTime='', stockType='COMMON', minSize=0.0001, sizeIncrement=0.0001, suggestedSizeIncrement=100.0, cusip='', ratings='', descAppend='', bondType='', couponType='', callable=False, putable=False, coupon=0, convertible=False, maturity='', issueDate='', nextOptionDate='', nextOptionType='', nextOptionPartial=False, notes=''),\n",
       " ContractDetails(contract=Contract(secType='STK', conId=265598, symbol='AAPL', exchange='BYX', primaryExchange='NASDAQ', currency='USD', localSymbol='AAPL', tradingClass='NMS'), marketName='NMS', minTick=0.01, orderTypes='ACTIVETIM,AD,ADJUST,ALERT,ALLOC,AON,AVGCOST,BASKET,BENCHPX,CASHQTY,COND,CONDORDER,DAY,DEACT,DEACTDIS,DEACTEOD,GAT,GTC,GTD,GTT,HID,IOC,LIT,LMT,MIT,MKT,MTL,NGCOMB,NONALGO,OCA,PEGBENCH,RTH,SCALE,SCALERST,SNAPMID,SNAPMKT,SNAPREL,STP,STPLMT,TRAIL,TRAILLIT,TRAILLMT,TRAILMIT,WHATIF', validExchanges='SMART,AMEX,NYSE,CBOE,PHLX,ISE,CHX,ARCA,ISLAND,DRCTEDGE,BEX,BATS,EDGEA,CSFBALGO,JEFFALGO,BYX,IEX,EDGX,FOXRIVER,PEARL,NYSENAT,LTSE,MEMX,IBEOS,OVERNIGHT,PSX', priceMagnifier=1, underConId=0, longName='APPLE INC', contractMonth='', industry='Technology', category='Computers', subcategory='Computers', timeZoneId='US/Eastern', tradingHours='20230712:0700-20230712:2000;20230713:0700-20230713:2000;20230714:0700-20230714:2000;20230715:CLOSED;20230716:CLOSED;20230717:0700-20230717:2000', liquidHours='20230712:0930-20230712:1600;20230713:0930-20230713:1600;20230714:0930-20230714:1600;20230715:CLOSED;20230716:CLOSED;20230717:0930-20230717:1600', evRule='', evMultiplier=0, mdSizeMultiplier=1, aggGroup=1, underSymbol='', underSecType='', marketRuleIds='26,26,26,26,26,26,26,26,26,26,26,26,26,26,26,26,26,26,26,26,26,26,26,26,26,26', secIdList=[TagValue(tag='ISIN', value='US0378331005')], realExpirationDate='', lastTradeTime='', stockType='COMMON', minSize=0.0001, sizeIncrement=0.0001, suggestedSizeIncrement=100.0, cusip='', ratings='', descAppend='', bondType='', couponType='', callable=False, putable=False, coupon=0, convertible=False, maturity='', issueDate='', nextOptionDate='', nextOptionType='', nextOptionPartial=False, notes=''),\n",
       " ContractDetails(contract=Contract(secType='STK', conId=265598, symbol='AAPL', exchange='IEX', primaryExchange='NASDAQ', currency='USD', localSymbol='AAPL', tradingClass='NMS'), marketName='NMS', minTick=0.01, orderTypes='ACTIVETIM,AD,ADJUST,ALLOC,AON,AVGCOST,BASKET,BENCHPX,CASHQTY,CONDORDER,DAY,DEACT,DEACTDIS,DEACTEOD,GAT,GTC,GTD,GTT,HID,IOC,LIT,LMT,MIT,MKT,MTL,NGCOMB,NONALGO,OCA,PEGBENCH,RELPCTOFS,SCALE,SCALERST,SNAPMID,SNAPMKT,SNAPREL,STP,STPLMT,TRAIL,TRAILLIT,TRAILLMT,TRAILMIT,WHATIF', validExchanges='SMART,AMEX,NYSE,CBOE,PHLX,ISE,CHX,ARCA,ISLAND,DRCTEDGE,BEX,BATS,EDGEA,CSFBALGO,JEFFALGO,BYX,IEX,EDGX,FOXRIVER,PEARL,NYSENAT,LTSE,MEMX,IBEOS,OVERNIGHT,PSX', priceMagnifier=1, underConId=0, longName='APPLE INC', contractMonth='', industry='Technology', category='Computers', subcategory='Computers', timeZoneId='US/Eastern', tradingHours='20230712:0800-20230712:1700;20230713:0800-20230713:1700;20230714:0800-20230714:1700;20230715:CLOSED;20230716:CLOSED;20230717:0800-20230717:1700', liquidHours='20230712:0800-20230712:1700;20230713:0800-20230713:1700;20230714:0800-20230714:1700;20230715:CLOSED;20230716:CLOSED;20230717:0800-20230717:1700', evRule='', evMultiplier=0, mdSizeMultiplier=1, aggGroup=1, underSymbol='', underSecType='', marketRuleIds='26,26,26,26,26,26,26,26,26,26,26,26,26,26,26,26,26,26,26,26,26,26,26,26,26,26', secIdList=[TagValue(tag='ISIN', value='US0378331005')], realExpirationDate='', lastTradeTime='', stockType='COMMON', minSize=0.0001, sizeIncrement=0.0001, suggestedSizeIncrement=100.0, cusip='', ratings='', descAppend='', bondType='', couponType='', callable=False, putable=False, coupon=0, convertible=False, maturity='', issueDate='', nextOptionDate='', nextOptionType='', nextOptionPartial=False, notes=''),\n",
       " ContractDetails(contract=Contract(secType='STK', conId=265598, symbol='AAPL', exchange='EDGX', primaryExchange='NASDAQ', currency='USD', localSymbol='AAPL', tradingClass='NMS'), marketName='NMS', minTick=0.01, orderTypes='ACTIVETIM,AD,ADJUST,ALERT,ALLOC,AVGCOST,BASKET,BENCHPX,CASHQTY,COND,CONDORDER,DAY,DEACT,DEACTDIS,DEACTEOD,GAT,GTC,GTD,GTT,HID,LIT,LMT,MIT,MKT,MTL,NGCOMB,NONALGO,OCA,PEGBENCH,SCALE,SCALERST,SNAPMID,SNAPMKT,SNAPREL,STP,STPLMT,TRAIL,TRAILLIT,TRAILLMT,TRAILMIT,WHATIF', validExchanges='SMART,AMEX,NYSE,CBOE,PHLX,ISE,CHX,ARCA,ISLAND,DRCTEDGE,BEX,BATS,EDGEA,CSFBALGO,JEFFALGO,BYX,IEX,EDGX,FOXRIVER,PEARL,NYSENAT,LTSE,MEMX,IBEOS,OVERNIGHT,PSX', priceMagnifier=1, underConId=0, longName='APPLE INC', contractMonth='', industry='Technology', category='Computers', subcategory='Computers', timeZoneId='US/Eastern', tradingHours='20230712:0700-20230712:2000;20230713:0700-20230713:2000;20230714:0700-20230714:2000;20230715:CLOSED;20230716:CLOSED;20230717:0700-20230717:2000', liquidHours='20230712:0700-20230712:2000;20230713:0700-20230713:2000;20230714:0700-20230714:2000;20230715:CLOSED;20230716:CLOSED;20230717:0700-20230717:2000', evRule='', evMultiplier=0, mdSizeMultiplier=1, aggGroup=2147483647, underSymbol='', underSecType='', marketRuleIds='26,26,26,26,26,26,26,26,26,26,26,26,26,26,26,26,26,26,26,26,26,26,26,26,26,26', secIdList=[TagValue(tag='ISIN', value='US0378331005')], realExpirationDate='', lastTradeTime='', stockType='COMMON', minSize=0.0001, sizeIncrement=0.0001, suggestedSizeIncrement=100.0, cusip='', ratings='', descAppend='', bondType='', couponType='', callable=False, putable=False, coupon=0, convertible=False, maturity='', issueDate='', nextOptionDate='', nextOptionType='', nextOptionPartial=False, notes=''),\n",
       " ContractDetails(contract=Contract(secType='STK', conId=265598, symbol='AAPL', exchange='FOXRIVER', primaryExchange='NASDAQ', currency='USD', localSymbol='AAPL', tradingClass='NMS'), marketName='NMS', minTick=0.01, orderTypes='AD,ALERT,ALLOC,AVGCOST,BASKET,BENCHPX,CASHQTY,DAY,DEACT,DEACTDIS,HID,IOC,LMT,MKT,NGCOMB,PEGBENCH,RTH,SNAPMID,SNAPMKT,SNAPREL,WHATIF', validExchanges='SMART,AMEX,NYSE,CBOE,PHLX,ISE,CHX,ARCA,ISLAND,DRCTEDGE,BEX,BATS,EDGEA,CSFBALGO,JEFFALGO,BYX,IEX,EDGX,FOXRIVER,PEARL,NYSENAT,LTSE,MEMX,IBEOS,OVERNIGHT,PSX', priceMagnifier=1, underConId=0, longName='APPLE INC', contractMonth='', industry='Technology', category='Computers', subcategory='Computers', timeZoneId='US/Eastern', tradingHours='20230712:0400-20230712:2000;20230713:0400-20230713:2000;20230714:0400-20230714:2000;20230715:CLOSED;20230716:CLOSED;20230717:0400-20230717:2000', liquidHours='20230712:0930-20230712:1600;20230713:0930-20230713:1600;20230714:0930-20230714:1600;20230715:CLOSED;20230716:CLOSED;20230717:0930-20230717:1600', evRule='', evMultiplier=0, mdSizeMultiplier=1, aggGroup=2147483647, underSymbol='', underSecType='', marketRuleIds='26,26,26,26,26,26,26,26,26,26,26,26,26,26,26,26,26,26,26,26,26,26,26,26,26,26', secIdList=[TagValue(tag='ISIN', value='US0378331005')], realExpirationDate='', lastTradeTime='', stockType='COMMON', minSize=0.0001, sizeIncrement=0.0001, suggestedSizeIncrement=100.0, cusip='', ratings='', descAppend='', bondType='', couponType='', callable=False, putable=False, coupon=0, convertible=False, maturity='', issueDate='', nextOptionDate='', nextOptionType='', nextOptionPartial=False, notes=''),\n",
       " ContractDetails(contract=Contract(secType='STK', conId=265598, symbol='AAPL', exchange='PEARL', primaryExchange='NASDAQ', currency='USD', localSymbol='AAPL', tradingClass='NMS'), marketName='NMS', minTick=0.01, orderTypes='ACTIVETIM,AD,ADJUST,ALERT,ALLOC,AVGCOST,BASKET,BENCHPX,CASHQTY,COND,CONDORDER,DAY,DEACT,DEACTDIS,DEACTEOD,GAT,GTC,GTD,GTT,HID,IOC,LIT,LMT,MIT,MKT,MTL,NGCOMB,NONALGO,OCA,PEGBENCH,SCALE,SCALERST,SNAPMID,SNAPMKT,SNAPREL,STP,STPLMT,TRAIL,TRAILLIT,TRAILLMT,TRAILMIT,WHATIF', validExchanges='SMART,AMEX,NYSE,CBOE,PHLX,ISE,CHX,ARCA,ISLAND,DRCTEDGE,BEX,BATS,EDGEA,CSFBALGO,JEFFALGO,BYX,IEX,EDGX,FOXRIVER,PEARL,NYSENAT,LTSE,MEMX,IBEOS,OVERNIGHT,PSX', priceMagnifier=1, underConId=0, longName='APPLE INC', contractMonth='', industry='Technology', category='Computers', subcategory='Computers', timeZoneId='US/Eastern', tradingHours='20230712:0930-20230712:1600;20230713:0930-20230713:1600;20230714:0930-20230714:1600;20230715:CLOSED;20230716:CLOSED;20230717:0930-20230717:1600', liquidHours='20230712:0930-20230712:1600;20230713:0930-20230713:1600;20230714:0930-20230714:1600;20230715:CLOSED;20230716:CLOSED;20230717:0930-20230717:1600', evRule='', evMultiplier=0, mdSizeMultiplier=1, aggGroup=1, underSymbol='', underSecType='', marketRuleIds='26,26,26,26,26,26,26,26,26,26,26,26,26,26,26,26,26,26,26,26,26,26,26,26,26,26', secIdList=[TagValue(tag='ISIN', value='US0378331005')], realExpirationDate='', lastTradeTime='', stockType='COMMON', minSize=0.0001, sizeIncrement=0.0001, suggestedSizeIncrement=100.0, cusip='', ratings='', descAppend='', bondType='', couponType='', callable=False, putable=False, coupon=0, convertible=False, maturity='', issueDate='', nextOptionDate='', nextOptionType='', nextOptionPartial=False, notes=''),\n",
       " ContractDetails(contract=Contract(secType='STK', conId=265598, symbol='AAPL', exchange='NYSENAT', primaryExchange='NASDAQ', currency='USD', localSymbol='AAPL', tradingClass='NMS'), marketName='NMS', minTick=0.01, orderTypes='ACTIVETIM,AD,ADJUST,ALERT,ALLOC,AVGCOST,BASKET,BENCHPX,CASHQTY,COND,CONDORDER,DAY,DEACT,DEACTDIS,DEACTEOD,GAT,GTC,GTD,GTT,HID,IOC,LIT,LMT,MIT,MKT,MTL,NGCOMB,NONALGO,OCA,PEGBENCH,SCALE,SCALERST,SNAPMID,SNAPMKT,SNAPREL,STP,STPLMT,TRAIL,TRAILLIT,TRAILLMT,TRAILMIT,WHATIF', validExchanges='SMART,AMEX,NYSE,CBOE,PHLX,ISE,CHX,ARCA,ISLAND,DRCTEDGE,BEX,BATS,EDGEA,CSFBALGO,JEFFALGO,BYX,IEX,EDGX,FOXRIVER,PEARL,NYSENAT,LTSE,MEMX,IBEOS,OVERNIGHT,PSX', priceMagnifier=1, underConId=0, longName='APPLE INC', contractMonth='', industry='Technology', category='Computers', subcategory='Computers', timeZoneId='US/Eastern', tradingHours='20230712:0700-20230712:2000;20230713:0700-20230713:2000;20230714:0700-20230714:2000;20230715:CLOSED;20230716:CLOSED;20230717:0700-20230717:2000', liquidHours='20230712:0700-20230712:2000;20230713:0700-20230713:2000;20230714:0700-20230714:2000;20230715:CLOSED;20230716:CLOSED;20230717:0700-20230717:2000', evRule='', evMultiplier=0, mdSizeMultiplier=1, aggGroup=1, underSymbol='', underSecType='', marketRuleIds='26,26,26,26,26,26,26,26,26,26,26,26,26,26,26,26,26,26,26,26,26,26,26,26,26,26', secIdList=[TagValue(tag='ISIN', value='US0378331005')], realExpirationDate='', lastTradeTime='', stockType='COMMON', minSize=0.0001, sizeIncrement=0.0001, suggestedSizeIncrement=100.0, cusip='', ratings='', descAppend='', bondType='', couponType='', callable=False, putable=False, coupon=0, convertible=False, maturity='', issueDate='', nextOptionDate='', nextOptionType='', nextOptionPartial=False, notes=''),\n",
       " ContractDetails(contract=Contract(secType='STK', conId=265598, symbol='AAPL', exchange='LTSE', primaryExchange='NASDAQ', currency='USD', localSymbol='AAPL', tradingClass='NMS'), marketName='NMS', minTick=0.01, orderTypes='ACTIVETIM,AD,ADJUST,ALERT,ALLOC,AVGCOST,BASKET,BENCHPX,CASHQTY,COND,CONDORDER,DAY,DEACT,DEACTDIS,DEACTEOD,GAT,GTC,GTD,GTT,HID,IOC,LIT,LMT,MIT,MKT,MTL,NGCOMB,NONALGO,OCA,PEGBENCH,SCALE,SCALERST,SNAPMID,SNAPMKT,SNAPREL,STP,STPLMT,TRAIL,TRAILLIT,TRAILLMT,TRAILMIT,WHATIF', validExchanges='SMART,AMEX,NYSE,CBOE,PHLX,ISE,CHX,ARCA,ISLAND,DRCTEDGE,BEX,BATS,EDGEA,CSFBALGO,JEFFALGO,BYX,IEX,EDGX,FOXRIVER,PEARL,NYSENAT,LTSE,MEMX,IBEOS,OVERNIGHT,PSX', priceMagnifier=1, underConId=0, longName='APPLE INC', contractMonth='', industry='Technology', category='Computers', subcategory='Computers', timeZoneId='US/Eastern', tradingHours='20230712:0800-20230712:1700;20230713:0800-20230713:1700;20230714:0800-20230714:1700;20230715:CLOSED;20230716:CLOSED;20230717:0800-20230717:1700', liquidHours='20230712:0800-20230712:1700;20230713:0800-20230713:1700;20230714:0800-20230714:1700;20230715:CLOSED;20230716:CLOSED;20230717:0800-20230717:1700', evRule='', evMultiplier=0, mdSizeMultiplier=1, aggGroup=1, underSymbol='', underSecType='', marketRuleIds='26,26,26,26,26,26,26,26,26,26,26,26,26,26,26,26,26,26,26,26,26,26,26,26,26,26', secIdList=[TagValue(tag='ISIN', value='US0378331005')], realExpirationDate='', lastTradeTime='', stockType='COMMON', minSize=0.0001, sizeIncrement=0.0001, suggestedSizeIncrement=100.0, cusip='', ratings='', descAppend='', bondType='', couponType='', callable=False, putable=False, coupon=0, convertible=False, maturity='', issueDate='', nextOptionDate='', nextOptionType='', nextOptionPartial=False, notes=''),\n",
       " ContractDetails(contract=Contract(secType='STK', conId=265598, symbol='AAPL', exchange='MEMX', primaryExchange='NASDAQ', currency='USD', localSymbol='AAPL', tradingClass='NMS'), marketName='NMS', minTick=0.01, orderTypes='ACTIVETIM,AD,ADJUST,ALERT,ALLOC,AVGCOST,BASKET,BENCHPX,CASHQTY,COND,CONDORDER,DAY,DEACT,DEACTDIS,DEACTEOD,GAT,GTC,GTD,GTT,HID,IOC,LIT,LMT,MIT,MKT,MTL,NGCOMB,NONALGO,OCA,PEGBENCH,SCALE,SCALERST,SNAPMID,SNAPMKT,SNAPREL,STP,STPLMT,TRAIL,TRAILLIT,TRAILLMT,TRAILMIT,WHATIF', validExchanges='SMART,AMEX,NYSE,CBOE,PHLX,ISE,CHX,ARCA,ISLAND,DRCTEDGE,BEX,BATS,EDGEA,CSFBALGO,JEFFALGO,BYX,IEX,EDGX,FOXRIVER,PEARL,NYSENAT,LTSE,MEMX,IBEOS,OVERNIGHT,PSX', priceMagnifier=1, underConId=0, longName='APPLE INC', contractMonth='', industry='Technology', category='Computers', subcategory='Computers', timeZoneId='US/Eastern', tradingHours='20230712:0700-20230712:2000;20230713:0700-20230713:2000;20230714:0700-20230714:2000;20230715:CLOSED;20230716:CLOSED;20230717:0700-20230717:2000', liquidHours='20230712:0700-20230712:2000;20230713:0700-20230713:2000;20230714:0700-20230714:2000;20230715:CLOSED;20230716:CLOSED;20230717:0700-20230717:2000', evRule='', evMultiplier=0, mdSizeMultiplier=1, aggGroup=1, underSymbol='', underSecType='', marketRuleIds='26,26,26,26,26,26,26,26,26,26,26,26,26,26,26,26,26,26,26,26,26,26,26,26,26,26', secIdList=[TagValue(tag='ISIN', value='US0378331005')], realExpirationDate='', lastTradeTime='', stockType='COMMON', minSize=0.0001, sizeIncrement=0.0001, suggestedSizeIncrement=100.0, cusip='', ratings='', descAppend='', bondType='', couponType='', callable=False, putable=False, coupon=0, convertible=False, maturity='', issueDate='', nextOptionDate='', nextOptionType='', nextOptionPartial=False, notes=''),\n",
       " ContractDetails(contract=Contract(secType='STK', conId=265598, symbol='AAPL', exchange='IBEOS', primaryExchange='NASDAQ', currency='USD', localSymbol='AAPL', tradingClass='NMS'), marketName='NMS', minTick=0.01, orderTypes='ACTIVETIM,AD,ALERT,ALLOC,AVGCOST,BASKET,BENCHPX,CASHQTY,DAY,DEACT,DEACTDIS,HID,LMT,NGCOMB,NONALGO,OCA,PEGBENCH,SCALE,SCALERST,WHATIF', validExchanges='SMART,AMEX,NYSE,CBOE,PHLX,ISE,CHX,ARCA,ISLAND,DRCTEDGE,BEX,BATS,EDGEA,CSFBALGO,JEFFALGO,BYX,IEX,EDGX,FOXRIVER,PEARL,NYSENAT,LTSE,MEMX,IBEOS,OVERNIGHT,PSX', priceMagnifier=1, underConId=0, longName='APPLE INC', contractMonth='', industry='Technology', category='Computers', subcategory='Computers', timeZoneId='US/Eastern', tradingHours='20230711:2000-20230712:0330;20230712:2000-20230713:0330;20230713:2000-20230714:0330;20230715:CLOSED;20230716:2000-20230717:0330;20230717:2000-20230718:0330', liquidHours='20230711:2000-20230712:0330;20230712:2000-20230713:0330;20230713:2000-20230714:0330;20230715:CLOSED;20230716:2000-20230717:0330;20230717:2000-20230718:0330', evRule='', evMultiplier=0, mdSizeMultiplier=1, aggGroup=2147483647, underSymbol='', underSecType='', marketRuleIds='26,26,26,26,26,26,26,26,26,26,26,26,26,26,26,26,26,26,26,26,26,26,26,26,26,26', secIdList=[TagValue(tag='ISIN', value='US0378331005')], realExpirationDate='', lastTradeTime='', stockType='COMMON', minSize=0.0001, sizeIncrement=0.0001, suggestedSizeIncrement=100.0, cusip='', ratings='', descAppend='', bondType='', couponType='', callable=False, putable=False, coupon=0, convertible=False, maturity='', issueDate='', nextOptionDate='', nextOptionType='', nextOptionPartial=False, notes=''),\n",
       " ContractDetails(contract=Contract(secType='STK', conId=265598, symbol='AAPL', exchange='OVERNIGHT', primaryExchange='NASDAQ', currency='USD', localSymbol='AAPL', tradingClass='NMS'), marketName='NMS', minTick=0.01, orderTypes='ACTIVETIM,AD,ALERT,ALLOC,AVGCOST,BASKET,BENCHPX,CASHQTY,DAY,DEACT,DEACTDIS,HID,LMT,NGCOMB,NONALGO,OCA,PEGBENCH,SCALE,SCALERST,WHATIF', validExchanges='SMART,AMEX,NYSE,CBOE,PHLX,ISE,CHX,ARCA,ISLAND,DRCTEDGE,BEX,BATS,EDGEA,CSFBALGO,JEFFALGO,BYX,IEX,EDGX,FOXRIVER,PEARL,NYSENAT,LTSE,MEMX,IBEOS,OVERNIGHT,PSX', priceMagnifier=1, underConId=0, longName='APPLE INC', contractMonth='', industry='Technology', category='Computers', subcategory='Computers', timeZoneId='US/Eastern', tradingHours='20230711:2000-20230712:0330;20230712:2000-20230713:0330;20230713:2000-20230714:0330;20230715:CLOSED;20230716:2000-20230717:0330;20230717:2000-20230718:0330', liquidHours='20230711:2000-20230712:0330;20230712:2000-20230713:0330;20230713:2000-20230714:0330;20230715:CLOSED;20230716:2000-20230717:0330;20230717:2000-20230718:0330', evRule='', evMultiplier=0, mdSizeMultiplier=1, aggGroup=2147483647, underSymbol='', underSecType='', marketRuleIds='26,26,26,26,26,26,26,26,26,26,26,26,26,26,26,26,26,26,26,26,26,26,26,26,26,26', secIdList=[TagValue(tag='ISIN', value='US0378331005')], realExpirationDate='', lastTradeTime='', stockType='COMMON', minSize=0.0001, sizeIncrement=0.0001, suggestedSizeIncrement=100.0, cusip='', ratings='', descAppend='', bondType='', couponType='', callable=False, putable=False, coupon=0, convertible=False, maturity='', issueDate='', nextOptionDate='', nextOptionType='', nextOptionPartial=False, notes=''),\n",
       " ContractDetails(contract=Contract(secType='STK', conId=265598, symbol='AAPL', exchange='PSX', primaryExchange='NASDAQ', currency='USD', localSymbol='AAPL', tradingClass='NMS'), marketName='NMS', minTick=0.01, orderTypes='ACTIVETIM,AD,ADJUST,ALERT,ALLOC,AON,AVGCOST,BASKET,BENCHPX,CASHQTY,COND,CONDORDER,DAY,DEACT,DEACTDIS,DEACTEOD,GAT,GTC,GTD,GTT,HID,LIT,LMT,MIT,MKT,MTL,NGCOMB,NONALGO,OCA,PEGBENCH,RTH,SCALE,SCALERST,SNAPMID,SNAPMKT,SNAPREL,STP,STPLMT,TRAIL,TRAILLIT,TRAILLMT,TRAILMIT,WHATIF', validExchanges='SMART,AMEX,NYSE,CBOE,PHLX,ISE,CHX,ARCA,ISLAND,DRCTEDGE,BEX,BATS,EDGEA,CSFBALGO,JEFFALGO,BYX,IEX,EDGX,FOXRIVER,PEARL,NYSENAT,LTSE,MEMX,IBEOS,OVERNIGHT,PSX', priceMagnifier=1, underConId=0, longName='APPLE INC', contractMonth='', industry='Technology', category='Computers', subcategory='Computers', timeZoneId='US/Eastern', tradingHours='20230712:0800-20230712:1700;20230713:0800-20230713:1700;20230714:0800-20230714:1700;20230715:CLOSED;20230716:CLOSED;20230717:0800-20230717:1700', liquidHours='20230712:0930-20230712:1600;20230713:0930-20230713:1600;20230714:0930-20230714:1600;20230715:CLOSED;20230716:CLOSED;20230717:0930-20230717:1600', evRule='', evMultiplier=0, mdSizeMultiplier=1, aggGroup=1, underSymbol='', underSecType='', marketRuleIds='26,26,26,26,26,26,26,26,26,26,26,26,26,26,26,26,26,26,26,26,26,26,26,26,26,26', secIdList=[TagValue(tag='ISIN', value='US0378331005')], realExpirationDate='', lastTradeTime='', stockType='COMMON', minSize=0.0001, sizeIncrement=0.0001, suggestedSizeIncrement=100.0, cusip='', ratings='', descAppend='', bondType='', couponType='', callable=False, putable=False, coupon=0, convertible=False, maturity='', issueDate='', nextOptionDate='', nextOptionType='', nextOptionPartial=False, notes=''),\n",
       " ContractDetails(contract=Contract(secType='STK', conId=38708077, symbol='AAPL', exchange='MEXI', primaryExchange='MEXI', currency='MXN', localSymbol='AAPL', tradingClass='AAPL'), marketName='AAPL', minTick=0.01, orderTypes='ACTIVETIM,AD,ADJUST,ALERT,ALLOC,AVGCOST,BASKET,BENCHPX,CASHQTY,COND,CONDORDER,DAY,DEACT,DEACTDIS,DEACTEOD,GAT,GTC,GTD,GTT,HID,LIT,LMT,MIT,MKT,MTL,NGCOMB,NONALGO,OCA,PEGBENCH,SCALE,SCALERST,SNAPMID,SNAPMKT,SNAPREL,STP,STPLMT,TRAIL,TRAILLIT,TRAILLMT,TRAILMIT,WHATIF', validExchanges='MEXI', priceMagnifier=1, underConId=0, longName='APPLE INC', contractMonth='', industry='Technology', category='Computers', subcategory='Computers', timeZoneId='US/Central', tradingHours='20230712:0830-20230712:1500;20230713:0830-20230713:1500;20230714:0830-20230714:1500;20230715:CLOSED;20230716:CLOSED;20230717:0830-20230717:1500', liquidHours='20230712:0830-20230712:1500;20230713:0830-20230713:1500;20230714:0830-20230714:1500;20230715:CLOSED;20230716:CLOSED;20230717:0830-20230717:1500', evRule='', evMultiplier=0, mdSizeMultiplier=1, aggGroup=2147483647, underSymbol='', underSecType='', marketRuleIds='26', secIdList=[TagValue(tag='ISIN', value='US0378331005')], realExpirationDate='', lastTradeTime='', stockType='COMMON', minSize=100.0, sizeIncrement=100.0, suggestedSizeIncrement=100.0, cusip='', ratings='', descAppend='', bondType='', couponType='', callable=False, putable=False, coupon=0, convertible=False, maturity='', issueDate='', nextOptionDate='', nextOptionType='', nextOptionPartial=False, notes=''),\n",
       " ContractDetails(contract=Contract(secType='STK', conId=273982664, symbol='AAPL', exchange='EBS', primaryExchange='EBS', currency='CHF', localSymbol='AAPL', tradingClass='AAPL'), marketName='AAPL', minTick=0.001, orderTypes='ACTIVETIM,AD,ADJUST,ALERT,ALGOCLS,ALLOC,AVGCOST,BASKET,BENCHPX,CASHQTY,COND,CONDORDER,DAY,DEACT,DEACTDIS,DEACTEOD,GAT,GTC,GTD,GTT,HID,IOC,LIT,LMT,MIT,MKT,MTL,NGCOMB,NONALGO,OCA,PEGBENCH,RTH,RTH4MKT,SCALE,SCALERST,SNAPMID,SNAPMKT,SNAPREL,STP,STPLMT,TRAIL,TRAILLIT,TRAILLMT,TRAILMIT,WHATIF', validExchanges='SMART,EBS', priceMagnifier=1, underConId=0, longName='APPLE INC', contractMonth='', industry='Technology', category='Computers', subcategory='Computers', timeZoneId='MET', tradingHours='20230712:0900-20230712:1732;20230713:0900-20230713:1732;20230714:0900-20230714:1732;20230715:CLOSED;20230716:CLOSED;20230717:0900-20230717:1732', liquidHours='20230712:0900-20230712:1720;20230713:0900-20230713:1720;20230714:0900-20230714:1720;20230715:CLOSED;20230716:CLOSED;20230717:0900-20230717:1720', evRule='', evMultiplier=0, mdSizeMultiplier=1, aggGroup=6, underSymbol='', underSecType='', marketRuleIds='579,579', secIdList=[TagValue(tag='ISIN', value='US0378331005')], realExpirationDate='', lastTradeTime='', stockType='COMMON', minSize=1.0, sizeIncrement=1.0, suggestedSizeIncrement=1.0, cusip='', ratings='', descAppend='', bondType='', couponType='', callable=False, putable=False, coupon=0, convertible=False, maturity='', issueDate='', nextOptionDate='', nextOptionType='', nextOptionPartial=False, notes=''),\n",
       " ContractDetails(contract=Contract(secType='STK', conId=493546048, symbol='AAPL', exchange='LSEETF', primaryExchange='LSEETF', currency='GBP', localSymbol='AAPL', tradingClass='ECE2'), marketName='ECE2', minTick=0.0005, orderTypes='ACTIVETIM,AD,ADJUST,ALERT,ALLOC,AVGCOST,BASKET,BENCHPX,CASHQTY,COND,CONDORDER,DAY,DEACT,DEACTDIS,DEACTEOD,GAT,GTC,GTD,GTT,HID,LIT,LMT,MIT,MKT,MTL,NGCOMB,NONALGO,OCA,PEGBENCH,RTH,RTH4MKT,SCALE,SCALERST,SNAPMID,SNAPMKT,SNAPREL,STP,STPLMT,TRAIL,TRAILLIT,TRAILLMT,TRAILMIT,WHATIF', validExchanges='SMART,LSEETF', priceMagnifier=100, underConId=0, longName='LS 1X AAPL', contractMonth='', industry='', category='', subcategory='', timeZoneId='MET', tradingHours='20230712:0900-20230712:1750;20230713:0900-20230713:1750;20230714:0900-20230714:1750;20230715:CLOSED;20230716:CLOSED;20230717:0900-20230717:1750', liquidHours='20230712:0900-20230712:1750;20230713:0900-20230713:1750;20230714:0900-20230714:1750;20230715:CLOSED;20230716:CLOSED;20230717:0900-20230717:1750', evRule='', evMultiplier=0, mdSizeMultiplier=1, aggGroup=3, underSymbol='', underSecType='', marketRuleIds='984,984', secIdList=[TagValue(tag='ISIN', value='XS2337099563')], realExpirationDate='', lastTradeTime='', stockType='ETC', minSize=1.0, sizeIncrement=1.0, suggestedSizeIncrement=1.0, cusip='', ratings='', descAppend='', bondType='', couponType='', callable=False, putable=False, coupon=0, convertible=False, maturity='', issueDate='', nextOptionDate='', nextOptionType='', nextOptionPartial=False, notes='')]"
      ]
     },
     "execution_count": 57,
     "metadata": {},
     "output_type": "execute_result"
    }
   ],
   "source": [
    "cds = ib.reqContractDetails(contract)\n",
    "cds"
   ]
  },
  {
   "cell_type": "code",
   "execution_count": 58,
   "id": "5433f7ec",
   "metadata": {},
   "outputs": [
    {
     "data": {
      "text/plain": [
       "32"
      ]
     },
     "execution_count": 58,
     "metadata": {},
     "output_type": "execute_result"
    }
   ],
   "source": [
    "len(cds)"
   ]
  },
  {
   "cell_type": "code",
   "execution_count": 59,
   "id": "73b57ced",
   "metadata": {},
   "outputs": [
    {
     "data": {
      "text/plain": [
       "[Contract(secType='STK', conId=265598, symbol='AAPL', exchange='SMART', primaryExchange='NASDAQ', currency='USD', localSymbol='AAPL', tradingClass='NMS'),\n",
       " Contract(secType='STK', conId=273982664, symbol='AAPL', exchange='SMART', primaryExchange='EBS', currency='CHF', localSymbol='AAPL', tradingClass='AAPL'),\n",
       " Contract(secType='STK', conId=493546048, symbol='AAPL', exchange='SMART', primaryExchange='LSEETF', currency='GBP', localSymbol='AAPL', tradingClass='ECE2'),\n",
       " Contract(secType='STK', conId=532640894, symbol='AAPL', exchange='SMART', primaryExchange='AEQLIT', currency='CAD', localSymbol='AAPL', tradingClass='AAPL'),\n",
       " Contract(secType='STK', conId=265598, symbol='AAPL', exchange='AMEX', primaryExchange='NASDAQ', currency='USD', localSymbol='AAPL', tradingClass='NMS'),\n",
       " Contract(secType='STK', conId=265598, symbol='AAPL', exchange='NYSE', primaryExchange='NASDAQ', currency='USD', localSymbol='AAPL', tradingClass='NMS'),\n",
       " Contract(secType='STK', conId=265598, symbol='AAPL', exchange='CBOE', primaryExchange='NASDAQ', currency='USD', localSymbol='AAPL', tradingClass='NMS'),\n",
       " Contract(secType='STK', conId=265598, symbol='AAPL', exchange='PHLX', primaryExchange='NASDAQ', currency='USD', localSymbol='AAPL', tradingClass='NMS'),\n",
       " Contract(secType='STK', conId=265598, symbol='AAPL', exchange='ISE', primaryExchange='NASDAQ', currency='USD', localSymbol='AAPL', tradingClass='NMS'),\n",
       " Contract(secType='STK', conId=265598, symbol='AAPL', exchange='CHX', primaryExchange='NASDAQ', currency='USD', localSymbol='AAPL', tradingClass='NMS'),\n",
       " Contract(secType='STK', conId=265598, symbol='AAPL', exchange='ARCA', primaryExchange='NASDAQ', currency='USD', localSymbol='AAPL', tradingClass='NMS'),\n",
       " Contract(secType='STK', conId=265598, symbol='AAPL', exchange='ISLAND', primaryExchange='NASDAQ', currency='USD', localSymbol='AAPL', tradingClass='NMS'),\n",
       " Contract(secType='STK', conId=265598, symbol='AAPL', exchange='DRCTEDGE', primaryExchange='NASDAQ', currency='USD', localSymbol='AAPL', tradingClass='NMS'),\n",
       " Contract(secType='STK', conId=265598, symbol='AAPL', exchange='BEX', primaryExchange='NASDAQ', currency='USD', localSymbol='AAPL', tradingClass='NMS'),\n",
       " Contract(secType='STK', conId=265598, symbol='AAPL', exchange='BATS', primaryExchange='NASDAQ', currency='USD', localSymbol='AAPL', tradingClass='NMS'),\n",
       " Contract(secType='STK', conId=265598, symbol='AAPL', exchange='EDGEA', primaryExchange='NASDAQ', currency='USD', localSymbol='AAPL', tradingClass='NMS'),\n",
       " Contract(secType='STK', conId=265598, symbol='AAPL', exchange='CSFBALGO', primaryExchange='NASDAQ', currency='USD', localSymbol='AAPL', tradingClass='NMS'),\n",
       " Contract(secType='STK', conId=265598, symbol='AAPL', exchange='JEFFALGO', primaryExchange='NASDAQ', currency='USD', localSymbol='AAPL', tradingClass='NMS'),\n",
       " Contract(secType='STK', conId=265598, symbol='AAPL', exchange='BYX', primaryExchange='NASDAQ', currency='USD', localSymbol='AAPL', tradingClass='NMS'),\n",
       " Contract(secType='STK', conId=265598, symbol='AAPL', exchange='IEX', primaryExchange='NASDAQ', currency='USD', localSymbol='AAPL', tradingClass='NMS'),\n",
       " Contract(secType='STK', conId=265598, symbol='AAPL', exchange='EDGX', primaryExchange='NASDAQ', currency='USD', localSymbol='AAPL', tradingClass='NMS'),\n",
       " Contract(secType='STK', conId=265598, symbol='AAPL', exchange='FOXRIVER', primaryExchange='NASDAQ', currency='USD', localSymbol='AAPL', tradingClass='NMS'),\n",
       " Contract(secType='STK', conId=265598, symbol='AAPL', exchange='PEARL', primaryExchange='NASDAQ', currency='USD', localSymbol='AAPL', tradingClass='NMS'),\n",
       " Contract(secType='STK', conId=265598, symbol='AAPL', exchange='NYSENAT', primaryExchange='NASDAQ', currency='USD', localSymbol='AAPL', tradingClass='NMS'),\n",
       " Contract(secType='STK', conId=265598, symbol='AAPL', exchange='LTSE', primaryExchange='NASDAQ', currency='USD', localSymbol='AAPL', tradingClass='NMS'),\n",
       " Contract(secType='STK', conId=265598, symbol='AAPL', exchange='MEMX', primaryExchange='NASDAQ', currency='USD', localSymbol='AAPL', tradingClass='NMS'),\n",
       " Contract(secType='STK', conId=265598, symbol='AAPL', exchange='IBEOS', primaryExchange='NASDAQ', currency='USD', localSymbol='AAPL', tradingClass='NMS'),\n",
       " Contract(secType='STK', conId=265598, symbol='AAPL', exchange='OVERNIGHT', primaryExchange='NASDAQ', currency='USD', localSymbol='AAPL', tradingClass='NMS'),\n",
       " Contract(secType='STK', conId=265598, symbol='AAPL', exchange='PSX', primaryExchange='NASDAQ', currency='USD', localSymbol='AAPL', tradingClass='NMS'),\n",
       " Contract(secType='STK', conId=38708077, symbol='AAPL', exchange='MEXI', primaryExchange='MEXI', currency='MXN', localSymbol='AAPL', tradingClass='AAPL'),\n",
       " Contract(secType='STK', conId=273982664, symbol='AAPL', exchange='EBS', primaryExchange='EBS', currency='CHF', localSymbol='AAPL', tradingClass='AAPL'),\n",
       " Contract(secType='STK', conId=493546048, symbol='AAPL', exchange='LSEETF', primaryExchange='LSEETF', currency='GBP', localSymbol='AAPL', tradingClass='ECE2')]"
      ]
     },
     "execution_count": 59,
     "metadata": {},
     "output_type": "execute_result"
    }
   ],
   "source": [
    "contracts = [cd.contract for cd in cds]\n",
    "contracts"
   ]
  },
  {
   "cell_type": "code",
   "execution_count": 61,
   "id": "fe7d6cf2",
   "metadata": {},
   "outputs": [
    {
     "data": {
      "text/plain": [
       "Contract(secType='STK', conId=265598, symbol='AAPL', exchange='SMART', primaryExchange='NASDAQ', currency='USD', localSymbol='AAPL', tradingClass='NMS')"
      ]
     },
     "execution_count": 61,
     "metadata": {},
     "output_type": "execute_result"
    }
   ],
   "source": [
    "contracts[0]"
   ]
  },
  {
   "cell_type": "code",
   "execution_count": 62,
   "id": "7a041e14",
   "metadata": {},
   "outputs": [
    {
     "data": {
      "text/html": [
       "<div>\n",
       "<style scoped>\n",
       "    .dataframe tbody tr th:only-of-type {\n",
       "        vertical-align: middle;\n",
       "    }\n",
       "\n",
       "    .dataframe tbody tr th {\n",
       "        vertical-align: top;\n",
       "    }\n",
       "\n",
       "    .dataframe thead th {\n",
       "        text-align: right;\n",
       "    }\n",
       "</style>\n",
       "<table border=\"1\" class=\"dataframe\">\n",
       "  <thead>\n",
       "    <tr style=\"text-align: right;\">\n",
       "      <th></th>\n",
       "      <th>secType</th>\n",
       "      <th>conId</th>\n",
       "      <th>symbol</th>\n",
       "      <th>lastTradeDateOrContractMonth</th>\n",
       "      <th>strike</th>\n",
       "      <th>right</th>\n",
       "      <th>multiplier</th>\n",
       "      <th>exchange</th>\n",
       "      <th>primaryExchange</th>\n",
       "      <th>currency</th>\n",
       "      <th>localSymbol</th>\n",
       "      <th>tradingClass</th>\n",
       "      <th>includeExpired</th>\n",
       "      <th>secIdType</th>\n",
       "      <th>secId</th>\n",
       "      <th>description</th>\n",
       "      <th>issuerId</th>\n",
       "      <th>comboLegsDescrip</th>\n",
       "      <th>comboLegs</th>\n",
       "      <th>deltaNeutralContract</th>\n",
       "    </tr>\n",
       "  </thead>\n",
       "  <tbody>\n",
       "    <tr>\n",
       "      <th>0</th>\n",
       "      <td>STK</td>\n",
       "      <td>265598</td>\n",
       "      <td>AAPL</td>\n",
       "      <td></td>\n",
       "      <td>0.0</td>\n",
       "      <td></td>\n",
       "      <td></td>\n",
       "      <td>SMART</td>\n",
       "      <td>NASDAQ</td>\n",
       "      <td>USD</td>\n",
       "      <td>AAPL</td>\n",
       "      <td>NMS</td>\n",
       "      <td>False</td>\n",
       "      <td></td>\n",
       "      <td></td>\n",
       "      <td></td>\n",
       "      <td></td>\n",
       "      <td></td>\n",
       "      <td>[]</td>\n",
       "      <td>None</td>\n",
       "    </tr>\n",
       "    <tr>\n",
       "      <th>1</th>\n",
       "      <td>STK</td>\n",
       "      <td>273982664</td>\n",
       "      <td>AAPL</td>\n",
       "      <td></td>\n",
       "      <td>0.0</td>\n",
       "      <td></td>\n",
       "      <td></td>\n",
       "      <td>SMART</td>\n",
       "      <td>EBS</td>\n",
       "      <td>CHF</td>\n",
       "      <td>AAPL</td>\n",
       "      <td>AAPL</td>\n",
       "      <td>False</td>\n",
       "      <td></td>\n",
       "      <td></td>\n",
       "      <td></td>\n",
       "      <td></td>\n",
       "      <td></td>\n",
       "      <td>[]</td>\n",
       "      <td>None</td>\n",
       "    </tr>\n",
       "    <tr>\n",
       "      <th>2</th>\n",
       "      <td>STK</td>\n",
       "      <td>493546048</td>\n",
       "      <td>AAPL</td>\n",
       "      <td></td>\n",
       "      <td>0.0</td>\n",
       "      <td></td>\n",
       "      <td></td>\n",
       "      <td>SMART</td>\n",
       "      <td>LSEETF</td>\n",
       "      <td>GBP</td>\n",
       "      <td>AAPL</td>\n",
       "      <td>ECE2</td>\n",
       "      <td>False</td>\n",
       "      <td></td>\n",
       "      <td></td>\n",
       "      <td></td>\n",
       "      <td></td>\n",
       "      <td></td>\n",
       "      <td>[]</td>\n",
       "      <td>None</td>\n",
       "    </tr>\n",
       "    <tr>\n",
       "      <th>3</th>\n",
       "      <td>STK</td>\n",
       "      <td>532640894</td>\n",
       "      <td>AAPL</td>\n",
       "      <td></td>\n",
       "      <td>0.0</td>\n",
       "      <td></td>\n",
       "      <td></td>\n",
       "      <td>SMART</td>\n",
       "      <td>AEQLIT</td>\n",
       "      <td>CAD</td>\n",
       "      <td>AAPL</td>\n",
       "      <td>AAPL</td>\n",
       "      <td>False</td>\n",
       "      <td></td>\n",
       "      <td></td>\n",
       "      <td></td>\n",
       "      <td></td>\n",
       "      <td></td>\n",
       "      <td>[]</td>\n",
       "      <td>None</td>\n",
       "    </tr>\n",
       "    <tr>\n",
       "      <th>4</th>\n",
       "      <td>STK</td>\n",
       "      <td>265598</td>\n",
       "      <td>AAPL</td>\n",
       "      <td></td>\n",
       "      <td>0.0</td>\n",
       "      <td></td>\n",
       "      <td></td>\n",
       "      <td>AMEX</td>\n",
       "      <td>NASDAQ</td>\n",
       "      <td>USD</td>\n",
       "      <td>AAPL</td>\n",
       "      <td>NMS</td>\n",
       "      <td>False</td>\n",
       "      <td></td>\n",
       "      <td></td>\n",
       "      <td></td>\n",
       "      <td></td>\n",
       "      <td></td>\n",
       "      <td>[]</td>\n",
       "      <td>None</td>\n",
       "    </tr>\n",
       "    <tr>\n",
       "      <th>5</th>\n",
       "      <td>STK</td>\n",
       "      <td>265598</td>\n",
       "      <td>AAPL</td>\n",
       "      <td></td>\n",
       "      <td>0.0</td>\n",
       "      <td></td>\n",
       "      <td></td>\n",
       "      <td>NYSE</td>\n",
       "      <td>NASDAQ</td>\n",
       "      <td>USD</td>\n",
       "      <td>AAPL</td>\n",
       "      <td>NMS</td>\n",
       "      <td>False</td>\n",
       "      <td></td>\n",
       "      <td></td>\n",
       "      <td></td>\n",
       "      <td></td>\n",
       "      <td></td>\n",
       "      <td>[]</td>\n",
       "      <td>None</td>\n",
       "    </tr>\n",
       "    <tr>\n",
       "      <th>6</th>\n",
       "      <td>STK</td>\n",
       "      <td>265598</td>\n",
       "      <td>AAPL</td>\n",
       "      <td></td>\n",
       "      <td>0.0</td>\n",
       "      <td></td>\n",
       "      <td></td>\n",
       "      <td>CBOE</td>\n",
       "      <td>NASDAQ</td>\n",
       "      <td>USD</td>\n",
       "      <td>AAPL</td>\n",
       "      <td>NMS</td>\n",
       "      <td>False</td>\n",
       "      <td></td>\n",
       "      <td></td>\n",
       "      <td></td>\n",
       "      <td></td>\n",
       "      <td></td>\n",
       "      <td>[]</td>\n",
       "      <td>None</td>\n",
       "    </tr>\n",
       "    <tr>\n",
       "      <th>7</th>\n",
       "      <td>STK</td>\n",
       "      <td>265598</td>\n",
       "      <td>AAPL</td>\n",
       "      <td></td>\n",
       "      <td>0.0</td>\n",
       "      <td></td>\n",
       "      <td></td>\n",
       "      <td>PHLX</td>\n",
       "      <td>NASDAQ</td>\n",
       "      <td>USD</td>\n",
       "      <td>AAPL</td>\n",
       "      <td>NMS</td>\n",
       "      <td>False</td>\n",
       "      <td></td>\n",
       "      <td></td>\n",
       "      <td></td>\n",
       "      <td></td>\n",
       "      <td></td>\n",
       "      <td>[]</td>\n",
       "      <td>None</td>\n",
       "    </tr>\n",
       "    <tr>\n",
       "      <th>8</th>\n",
       "      <td>STK</td>\n",
       "      <td>265598</td>\n",
       "      <td>AAPL</td>\n",
       "      <td></td>\n",
       "      <td>0.0</td>\n",
       "      <td></td>\n",
       "      <td></td>\n",
       "      <td>ISE</td>\n",
       "      <td>NASDAQ</td>\n",
       "      <td>USD</td>\n",
       "      <td>AAPL</td>\n",
       "      <td>NMS</td>\n",
       "      <td>False</td>\n",
       "      <td></td>\n",
       "      <td></td>\n",
       "      <td></td>\n",
       "      <td></td>\n",
       "      <td></td>\n",
       "      <td>[]</td>\n",
       "      <td>None</td>\n",
       "    </tr>\n",
       "    <tr>\n",
       "      <th>9</th>\n",
       "      <td>STK</td>\n",
       "      <td>265598</td>\n",
       "      <td>AAPL</td>\n",
       "      <td></td>\n",
       "      <td>0.0</td>\n",
       "      <td></td>\n",
       "      <td></td>\n",
       "      <td>CHX</td>\n",
       "      <td>NASDAQ</td>\n",
       "      <td>USD</td>\n",
       "      <td>AAPL</td>\n",
       "      <td>NMS</td>\n",
       "      <td>False</td>\n",
       "      <td></td>\n",
       "      <td></td>\n",
       "      <td></td>\n",
       "      <td></td>\n",
       "      <td></td>\n",
       "      <td>[]</td>\n",
       "      <td>None</td>\n",
       "    </tr>\n",
       "    <tr>\n",
       "      <th>10</th>\n",
       "      <td>STK</td>\n",
       "      <td>265598</td>\n",
       "      <td>AAPL</td>\n",
       "      <td></td>\n",
       "      <td>0.0</td>\n",
       "      <td></td>\n",
       "      <td></td>\n",
       "      <td>ARCA</td>\n",
       "      <td>NASDAQ</td>\n",
       "      <td>USD</td>\n",
       "      <td>AAPL</td>\n",
       "      <td>NMS</td>\n",
       "      <td>False</td>\n",
       "      <td></td>\n",
       "      <td></td>\n",
       "      <td></td>\n",
       "      <td></td>\n",
       "      <td></td>\n",
       "      <td>[]</td>\n",
       "      <td>None</td>\n",
       "    </tr>\n",
       "    <tr>\n",
       "      <th>11</th>\n",
       "      <td>STK</td>\n",
       "      <td>265598</td>\n",
       "      <td>AAPL</td>\n",
       "      <td></td>\n",
       "      <td>0.0</td>\n",
       "      <td></td>\n",
       "      <td></td>\n",
       "      <td>ISLAND</td>\n",
       "      <td>NASDAQ</td>\n",
       "      <td>USD</td>\n",
       "      <td>AAPL</td>\n",
       "      <td>NMS</td>\n",
       "      <td>False</td>\n",
       "      <td></td>\n",
       "      <td></td>\n",
       "      <td></td>\n",
       "      <td></td>\n",
       "      <td></td>\n",
       "      <td>[]</td>\n",
       "      <td>None</td>\n",
       "    </tr>\n",
       "    <tr>\n",
       "      <th>12</th>\n",
       "      <td>STK</td>\n",
       "      <td>265598</td>\n",
       "      <td>AAPL</td>\n",
       "      <td></td>\n",
       "      <td>0.0</td>\n",
       "      <td></td>\n",
       "      <td></td>\n",
       "      <td>DRCTEDGE</td>\n",
       "      <td>NASDAQ</td>\n",
       "      <td>USD</td>\n",
       "      <td>AAPL</td>\n",
       "      <td>NMS</td>\n",
       "      <td>False</td>\n",
       "      <td></td>\n",
       "      <td></td>\n",
       "      <td></td>\n",
       "      <td></td>\n",
       "      <td></td>\n",
       "      <td>[]</td>\n",
       "      <td>None</td>\n",
       "    </tr>\n",
       "    <tr>\n",
       "      <th>13</th>\n",
       "      <td>STK</td>\n",
       "      <td>265598</td>\n",
       "      <td>AAPL</td>\n",
       "      <td></td>\n",
       "      <td>0.0</td>\n",
       "      <td></td>\n",
       "      <td></td>\n",
       "      <td>BEX</td>\n",
       "      <td>NASDAQ</td>\n",
       "      <td>USD</td>\n",
       "      <td>AAPL</td>\n",
       "      <td>NMS</td>\n",
       "      <td>False</td>\n",
       "      <td></td>\n",
       "      <td></td>\n",
       "      <td></td>\n",
       "      <td></td>\n",
       "      <td></td>\n",
       "      <td>[]</td>\n",
       "      <td>None</td>\n",
       "    </tr>\n",
       "    <tr>\n",
       "      <th>14</th>\n",
       "      <td>STK</td>\n",
       "      <td>265598</td>\n",
       "      <td>AAPL</td>\n",
       "      <td></td>\n",
       "      <td>0.0</td>\n",
       "      <td></td>\n",
       "      <td></td>\n",
       "      <td>BATS</td>\n",
       "      <td>NASDAQ</td>\n",
       "      <td>USD</td>\n",
       "      <td>AAPL</td>\n",
       "      <td>NMS</td>\n",
       "      <td>False</td>\n",
       "      <td></td>\n",
       "      <td></td>\n",
       "      <td></td>\n",
       "      <td></td>\n",
       "      <td></td>\n",
       "      <td>[]</td>\n",
       "      <td>None</td>\n",
       "    </tr>\n",
       "    <tr>\n",
       "      <th>15</th>\n",
       "      <td>STK</td>\n",
       "      <td>265598</td>\n",
       "      <td>AAPL</td>\n",
       "      <td></td>\n",
       "      <td>0.0</td>\n",
       "      <td></td>\n",
       "      <td></td>\n",
       "      <td>EDGEA</td>\n",
       "      <td>NASDAQ</td>\n",
       "      <td>USD</td>\n",
       "      <td>AAPL</td>\n",
       "      <td>NMS</td>\n",
       "      <td>False</td>\n",
       "      <td></td>\n",
       "      <td></td>\n",
       "      <td></td>\n",
       "      <td></td>\n",
       "      <td></td>\n",
       "      <td>[]</td>\n",
       "      <td>None</td>\n",
       "    </tr>\n",
       "    <tr>\n",
       "      <th>16</th>\n",
       "      <td>STK</td>\n",
       "      <td>265598</td>\n",
       "      <td>AAPL</td>\n",
       "      <td></td>\n",
       "      <td>0.0</td>\n",
       "      <td></td>\n",
       "      <td></td>\n",
       "      <td>CSFBALGO</td>\n",
       "      <td>NASDAQ</td>\n",
       "      <td>USD</td>\n",
       "      <td>AAPL</td>\n",
       "      <td>NMS</td>\n",
       "      <td>False</td>\n",
       "      <td></td>\n",
       "      <td></td>\n",
       "      <td></td>\n",
       "      <td></td>\n",
       "      <td></td>\n",
       "      <td>[]</td>\n",
       "      <td>None</td>\n",
       "    </tr>\n",
       "    <tr>\n",
       "      <th>17</th>\n",
       "      <td>STK</td>\n",
       "      <td>265598</td>\n",
       "      <td>AAPL</td>\n",
       "      <td></td>\n",
       "      <td>0.0</td>\n",
       "      <td></td>\n",
       "      <td></td>\n",
       "      <td>JEFFALGO</td>\n",
       "      <td>NASDAQ</td>\n",
       "      <td>USD</td>\n",
       "      <td>AAPL</td>\n",
       "      <td>NMS</td>\n",
       "      <td>False</td>\n",
       "      <td></td>\n",
       "      <td></td>\n",
       "      <td></td>\n",
       "      <td></td>\n",
       "      <td></td>\n",
       "      <td>[]</td>\n",
       "      <td>None</td>\n",
       "    </tr>\n",
       "    <tr>\n",
       "      <th>18</th>\n",
       "      <td>STK</td>\n",
       "      <td>265598</td>\n",
       "      <td>AAPL</td>\n",
       "      <td></td>\n",
       "      <td>0.0</td>\n",
       "      <td></td>\n",
       "      <td></td>\n",
       "      <td>BYX</td>\n",
       "      <td>NASDAQ</td>\n",
       "      <td>USD</td>\n",
       "      <td>AAPL</td>\n",
       "      <td>NMS</td>\n",
       "      <td>False</td>\n",
       "      <td></td>\n",
       "      <td></td>\n",
       "      <td></td>\n",
       "      <td></td>\n",
       "      <td></td>\n",
       "      <td>[]</td>\n",
       "      <td>None</td>\n",
       "    </tr>\n",
       "    <tr>\n",
       "      <th>19</th>\n",
       "      <td>STK</td>\n",
       "      <td>265598</td>\n",
       "      <td>AAPL</td>\n",
       "      <td></td>\n",
       "      <td>0.0</td>\n",
       "      <td></td>\n",
       "      <td></td>\n",
       "      <td>IEX</td>\n",
       "      <td>NASDAQ</td>\n",
       "      <td>USD</td>\n",
       "      <td>AAPL</td>\n",
       "      <td>NMS</td>\n",
       "      <td>False</td>\n",
       "      <td></td>\n",
       "      <td></td>\n",
       "      <td></td>\n",
       "      <td></td>\n",
       "      <td></td>\n",
       "      <td>[]</td>\n",
       "      <td>None</td>\n",
       "    </tr>\n",
       "    <tr>\n",
       "      <th>20</th>\n",
       "      <td>STK</td>\n",
       "      <td>265598</td>\n",
       "      <td>AAPL</td>\n",
       "      <td></td>\n",
       "      <td>0.0</td>\n",
       "      <td></td>\n",
       "      <td></td>\n",
       "      <td>EDGX</td>\n",
       "      <td>NASDAQ</td>\n",
       "      <td>USD</td>\n",
       "      <td>AAPL</td>\n",
       "      <td>NMS</td>\n",
       "      <td>False</td>\n",
       "      <td></td>\n",
       "      <td></td>\n",
       "      <td></td>\n",
       "      <td></td>\n",
       "      <td></td>\n",
       "      <td>[]</td>\n",
       "      <td>None</td>\n",
       "    </tr>\n",
       "    <tr>\n",
       "      <th>21</th>\n",
       "      <td>STK</td>\n",
       "      <td>265598</td>\n",
       "      <td>AAPL</td>\n",
       "      <td></td>\n",
       "      <td>0.0</td>\n",
       "      <td></td>\n",
       "      <td></td>\n",
       "      <td>FOXRIVER</td>\n",
       "      <td>NASDAQ</td>\n",
       "      <td>USD</td>\n",
       "      <td>AAPL</td>\n",
       "      <td>NMS</td>\n",
       "      <td>False</td>\n",
       "      <td></td>\n",
       "      <td></td>\n",
       "      <td></td>\n",
       "      <td></td>\n",
       "      <td></td>\n",
       "      <td>[]</td>\n",
       "      <td>None</td>\n",
       "    </tr>\n",
       "    <tr>\n",
       "      <th>22</th>\n",
       "      <td>STK</td>\n",
       "      <td>265598</td>\n",
       "      <td>AAPL</td>\n",
       "      <td></td>\n",
       "      <td>0.0</td>\n",
       "      <td></td>\n",
       "      <td></td>\n",
       "      <td>PEARL</td>\n",
       "      <td>NASDAQ</td>\n",
       "      <td>USD</td>\n",
       "      <td>AAPL</td>\n",
       "      <td>NMS</td>\n",
       "      <td>False</td>\n",
       "      <td></td>\n",
       "      <td></td>\n",
       "      <td></td>\n",
       "      <td></td>\n",
       "      <td></td>\n",
       "      <td>[]</td>\n",
       "      <td>None</td>\n",
       "    </tr>\n",
       "    <tr>\n",
       "      <th>23</th>\n",
       "      <td>STK</td>\n",
       "      <td>265598</td>\n",
       "      <td>AAPL</td>\n",
       "      <td></td>\n",
       "      <td>0.0</td>\n",
       "      <td></td>\n",
       "      <td></td>\n",
       "      <td>NYSENAT</td>\n",
       "      <td>NASDAQ</td>\n",
       "      <td>USD</td>\n",
       "      <td>AAPL</td>\n",
       "      <td>NMS</td>\n",
       "      <td>False</td>\n",
       "      <td></td>\n",
       "      <td></td>\n",
       "      <td></td>\n",
       "      <td></td>\n",
       "      <td></td>\n",
       "      <td>[]</td>\n",
       "      <td>None</td>\n",
       "    </tr>\n",
       "    <tr>\n",
       "      <th>24</th>\n",
       "      <td>STK</td>\n",
       "      <td>265598</td>\n",
       "      <td>AAPL</td>\n",
       "      <td></td>\n",
       "      <td>0.0</td>\n",
       "      <td></td>\n",
       "      <td></td>\n",
       "      <td>LTSE</td>\n",
       "      <td>NASDAQ</td>\n",
       "      <td>USD</td>\n",
       "      <td>AAPL</td>\n",
       "      <td>NMS</td>\n",
       "      <td>False</td>\n",
       "      <td></td>\n",
       "      <td></td>\n",
       "      <td></td>\n",
       "      <td></td>\n",
       "      <td></td>\n",
       "      <td>[]</td>\n",
       "      <td>None</td>\n",
       "    </tr>\n",
       "    <tr>\n",
       "      <th>25</th>\n",
       "      <td>STK</td>\n",
       "      <td>265598</td>\n",
       "      <td>AAPL</td>\n",
       "      <td></td>\n",
       "      <td>0.0</td>\n",
       "      <td></td>\n",
       "      <td></td>\n",
       "      <td>MEMX</td>\n",
       "      <td>NASDAQ</td>\n",
       "      <td>USD</td>\n",
       "      <td>AAPL</td>\n",
       "      <td>NMS</td>\n",
       "      <td>False</td>\n",
       "      <td></td>\n",
       "      <td></td>\n",
       "      <td></td>\n",
       "      <td></td>\n",
       "      <td></td>\n",
       "      <td>[]</td>\n",
       "      <td>None</td>\n",
       "    </tr>\n",
       "    <tr>\n",
       "      <th>26</th>\n",
       "      <td>STK</td>\n",
       "      <td>265598</td>\n",
       "      <td>AAPL</td>\n",
       "      <td></td>\n",
       "      <td>0.0</td>\n",
       "      <td></td>\n",
       "      <td></td>\n",
       "      <td>IBEOS</td>\n",
       "      <td>NASDAQ</td>\n",
       "      <td>USD</td>\n",
       "      <td>AAPL</td>\n",
       "      <td>NMS</td>\n",
       "      <td>False</td>\n",
       "      <td></td>\n",
       "      <td></td>\n",
       "      <td></td>\n",
       "      <td></td>\n",
       "      <td></td>\n",
       "      <td>[]</td>\n",
       "      <td>None</td>\n",
       "    </tr>\n",
       "    <tr>\n",
       "      <th>27</th>\n",
       "      <td>STK</td>\n",
       "      <td>265598</td>\n",
       "      <td>AAPL</td>\n",
       "      <td></td>\n",
       "      <td>0.0</td>\n",
       "      <td></td>\n",
       "      <td></td>\n",
       "      <td>OVERNIGHT</td>\n",
       "      <td>NASDAQ</td>\n",
       "      <td>USD</td>\n",
       "      <td>AAPL</td>\n",
       "      <td>NMS</td>\n",
       "      <td>False</td>\n",
       "      <td></td>\n",
       "      <td></td>\n",
       "      <td></td>\n",
       "      <td></td>\n",
       "      <td></td>\n",
       "      <td>[]</td>\n",
       "      <td>None</td>\n",
       "    </tr>\n",
       "    <tr>\n",
       "      <th>28</th>\n",
       "      <td>STK</td>\n",
       "      <td>265598</td>\n",
       "      <td>AAPL</td>\n",
       "      <td></td>\n",
       "      <td>0.0</td>\n",
       "      <td></td>\n",
       "      <td></td>\n",
       "      <td>PSX</td>\n",
       "      <td>NASDAQ</td>\n",
       "      <td>USD</td>\n",
       "      <td>AAPL</td>\n",
       "      <td>NMS</td>\n",
       "      <td>False</td>\n",
       "      <td></td>\n",
       "      <td></td>\n",
       "      <td></td>\n",
       "      <td></td>\n",
       "      <td></td>\n",
       "      <td>[]</td>\n",
       "      <td>None</td>\n",
       "    </tr>\n",
       "    <tr>\n",
       "      <th>29</th>\n",
       "      <td>STK</td>\n",
       "      <td>38708077</td>\n",
       "      <td>AAPL</td>\n",
       "      <td></td>\n",
       "      <td>0.0</td>\n",
       "      <td></td>\n",
       "      <td></td>\n",
       "      <td>MEXI</td>\n",
       "      <td>MEXI</td>\n",
       "      <td>MXN</td>\n",
       "      <td>AAPL</td>\n",
       "      <td>AAPL</td>\n",
       "      <td>False</td>\n",
       "      <td></td>\n",
       "      <td></td>\n",
       "      <td></td>\n",
       "      <td></td>\n",
       "      <td></td>\n",
       "      <td>[]</td>\n",
       "      <td>None</td>\n",
       "    </tr>\n",
       "    <tr>\n",
       "      <th>30</th>\n",
       "      <td>STK</td>\n",
       "      <td>273982664</td>\n",
       "      <td>AAPL</td>\n",
       "      <td></td>\n",
       "      <td>0.0</td>\n",
       "      <td></td>\n",
       "      <td></td>\n",
       "      <td>EBS</td>\n",
       "      <td>EBS</td>\n",
       "      <td>CHF</td>\n",
       "      <td>AAPL</td>\n",
       "      <td>AAPL</td>\n",
       "      <td>False</td>\n",
       "      <td></td>\n",
       "      <td></td>\n",
       "      <td></td>\n",
       "      <td></td>\n",
       "      <td></td>\n",
       "      <td>[]</td>\n",
       "      <td>None</td>\n",
       "    </tr>\n",
       "    <tr>\n",
       "      <th>31</th>\n",
       "      <td>STK</td>\n",
       "      <td>493546048</td>\n",
       "      <td>AAPL</td>\n",
       "      <td></td>\n",
       "      <td>0.0</td>\n",
       "      <td></td>\n",
       "      <td></td>\n",
       "      <td>LSEETF</td>\n",
       "      <td>LSEETF</td>\n",
       "      <td>GBP</td>\n",
       "      <td>AAPL</td>\n",
       "      <td>ECE2</td>\n",
       "      <td>False</td>\n",
       "      <td></td>\n",
       "      <td></td>\n",
       "      <td></td>\n",
       "      <td></td>\n",
       "      <td></td>\n",
       "      <td>[]</td>\n",
       "      <td>None</td>\n",
       "    </tr>\n",
       "  </tbody>\n",
       "</table>\n",
       "</div>"
      ],
      "text/plain": [
       "   secType      conId symbol lastTradeDateOrContractMonth  strike right  \\\n",
       "0      STK     265598   AAPL                                  0.0         \n",
       "1      STK  273982664   AAPL                                  0.0         \n",
       "2      STK  493546048   AAPL                                  0.0         \n",
       "3      STK  532640894   AAPL                                  0.0         \n",
       "4      STK     265598   AAPL                                  0.0         \n",
       "5      STK     265598   AAPL                                  0.0         \n",
       "6      STK     265598   AAPL                                  0.0         \n",
       "7      STK     265598   AAPL                                  0.0         \n",
       "8      STK     265598   AAPL                                  0.0         \n",
       "9      STK     265598   AAPL                                  0.0         \n",
       "10     STK     265598   AAPL                                  0.0         \n",
       "11     STK     265598   AAPL                                  0.0         \n",
       "12     STK     265598   AAPL                                  0.0         \n",
       "13     STK     265598   AAPL                                  0.0         \n",
       "14     STK     265598   AAPL                                  0.0         \n",
       "15     STK     265598   AAPL                                  0.0         \n",
       "16     STK     265598   AAPL                                  0.0         \n",
       "17     STK     265598   AAPL                                  0.0         \n",
       "18     STK     265598   AAPL                                  0.0         \n",
       "19     STK     265598   AAPL                                  0.0         \n",
       "20     STK     265598   AAPL                                  0.0         \n",
       "21     STK     265598   AAPL                                  0.0         \n",
       "22     STK     265598   AAPL                                  0.0         \n",
       "23     STK     265598   AAPL                                  0.0         \n",
       "24     STK     265598   AAPL                                  0.0         \n",
       "25     STK     265598   AAPL                                  0.0         \n",
       "26     STK     265598   AAPL                                  0.0         \n",
       "27     STK     265598   AAPL                                  0.0         \n",
       "28     STK     265598   AAPL                                  0.0         \n",
       "29     STK   38708077   AAPL                                  0.0         \n",
       "30     STK  273982664   AAPL                                  0.0         \n",
       "31     STK  493546048   AAPL                                  0.0         \n",
       "\n",
       "   multiplier   exchange primaryExchange currency localSymbol tradingClass  \\\n",
       "0                  SMART          NASDAQ      USD        AAPL          NMS   \n",
       "1                  SMART             EBS      CHF        AAPL         AAPL   \n",
       "2                  SMART          LSEETF      GBP        AAPL         ECE2   \n",
       "3                  SMART          AEQLIT      CAD        AAPL         AAPL   \n",
       "4                   AMEX          NASDAQ      USD        AAPL          NMS   \n",
       "5                   NYSE          NASDAQ      USD        AAPL          NMS   \n",
       "6                   CBOE          NASDAQ      USD        AAPL          NMS   \n",
       "7                   PHLX          NASDAQ      USD        AAPL          NMS   \n",
       "8                    ISE          NASDAQ      USD        AAPL          NMS   \n",
       "9                    CHX          NASDAQ      USD        AAPL          NMS   \n",
       "10                  ARCA          NASDAQ      USD        AAPL          NMS   \n",
       "11                ISLAND          NASDAQ      USD        AAPL          NMS   \n",
       "12              DRCTEDGE          NASDAQ      USD        AAPL          NMS   \n",
       "13                   BEX          NASDAQ      USD        AAPL          NMS   \n",
       "14                  BATS          NASDAQ      USD        AAPL          NMS   \n",
       "15                 EDGEA          NASDAQ      USD        AAPL          NMS   \n",
       "16              CSFBALGO          NASDAQ      USD        AAPL          NMS   \n",
       "17              JEFFALGO          NASDAQ      USD        AAPL          NMS   \n",
       "18                   BYX          NASDAQ      USD        AAPL          NMS   \n",
       "19                   IEX          NASDAQ      USD        AAPL          NMS   \n",
       "20                  EDGX          NASDAQ      USD        AAPL          NMS   \n",
       "21              FOXRIVER          NASDAQ      USD        AAPL          NMS   \n",
       "22                 PEARL          NASDAQ      USD        AAPL          NMS   \n",
       "23               NYSENAT          NASDAQ      USD        AAPL          NMS   \n",
       "24                  LTSE          NASDAQ      USD        AAPL          NMS   \n",
       "25                  MEMX          NASDAQ      USD        AAPL          NMS   \n",
       "26                 IBEOS          NASDAQ      USD        AAPL          NMS   \n",
       "27             OVERNIGHT          NASDAQ      USD        AAPL          NMS   \n",
       "28                   PSX          NASDAQ      USD        AAPL          NMS   \n",
       "29                  MEXI            MEXI      MXN        AAPL         AAPL   \n",
       "30                   EBS             EBS      CHF        AAPL         AAPL   \n",
       "31                LSEETF          LSEETF      GBP        AAPL         ECE2   \n",
       "\n",
       "    includeExpired secIdType secId description issuerId comboLegsDescrip  \\\n",
       "0            False                                                         \n",
       "1            False                                                         \n",
       "2            False                                                         \n",
       "3            False                                                         \n",
       "4            False                                                         \n",
       "5            False                                                         \n",
       "6            False                                                         \n",
       "7            False                                                         \n",
       "8            False                                                         \n",
       "9            False                                                         \n",
       "10           False                                                         \n",
       "11           False                                                         \n",
       "12           False                                                         \n",
       "13           False                                                         \n",
       "14           False                                                         \n",
       "15           False                                                         \n",
       "16           False                                                         \n",
       "17           False                                                         \n",
       "18           False                                                         \n",
       "19           False                                                         \n",
       "20           False                                                         \n",
       "21           False                                                         \n",
       "22           False                                                         \n",
       "23           False                                                         \n",
       "24           False                                                         \n",
       "25           False                                                         \n",
       "26           False                                                         \n",
       "27           False                                                         \n",
       "28           False                                                         \n",
       "29           False                                                         \n",
       "30           False                                                         \n",
       "31           False                                                         \n",
       "\n",
       "   comboLegs deltaNeutralContract  \n",
       "0         []                 None  \n",
       "1         []                 None  \n",
       "2         []                 None  \n",
       "3         []                 None  \n",
       "4         []                 None  \n",
       "5         []                 None  \n",
       "6         []                 None  \n",
       "7         []                 None  \n",
       "8         []                 None  \n",
       "9         []                 None  \n",
       "10        []                 None  \n",
       "11        []                 None  \n",
       "12        []                 None  \n",
       "13        []                 None  \n",
       "14        []                 None  \n",
       "15        []                 None  \n",
       "16        []                 None  \n",
       "17        []                 None  \n",
       "18        []                 None  \n",
       "19        []                 None  \n",
       "20        []                 None  \n",
       "21        []                 None  \n",
       "22        []                 None  \n",
       "23        []                 None  \n",
       "24        []                 None  \n",
       "25        []                 None  \n",
       "26        []                 None  \n",
       "27        []                 None  \n",
       "28        []                 None  \n",
       "29        []                 None  \n",
       "30        []                 None  \n",
       "31        []                 None  "
      ]
     },
     "execution_count": 62,
     "metadata": {},
     "output_type": "execute_result"
    }
   ],
   "source": [
    "util.df(contracts) # converting the list into a pandas dataframe # Alternative to pd.dataframe()"
   ]
  },
  {
   "cell_type": "code",
   "execution_count": 63,
   "id": "74271742",
   "metadata": {},
   "outputs": [
    {
     "data": {
      "text/plain": [
       "Stock(symbol='LHA', exchange='SMART', currency='EUR')"
      ]
     },
     "execution_count": 63,
     "metadata": {},
     "output_type": "execute_result"
    }
   ],
   "source": [
    "contract = Stock(\"LHA\",\"SMART\", \"EUR\")\n",
    "contract"
   ]
  },
  {
   "cell_type": "code",
   "execution_count": 64,
   "id": "46fa6023",
   "metadata": {},
   "outputs": [
    {
     "data": {
      "text/plain": [
       "[ContractDetails(contract=Contract(secType='STK', conId=14171, symbol='LHA', exchange='SMART', primaryExchange='IBIS', currency='EUR', localSymbol='LHA', tradingClass='XETRA'), marketName='XETRA', minTick=0.0001, orderTypes='ACTIVETIM,AD,ADJUST,ALERT,ALGO,ALGOLTH,ALLOC,AVGCOST,BASKET,BENCHPX,CASHQTY,COND,CONDORDER,DAY,DEACT,DEACTDIS,DEACTEOD,GAT,GTC,GTD,GTT,HID,IOC,LIT,LMT,LOC,MIT,MKT,MKT2BBO,MOC,MTL,NGCOMB,NODARK,NONALGO,OCA,OPG,PEGBENCH,REL,RELPCTOFS,RTH,RTH4MKT,SCALE,SCALERST,SIZECHK,SNAPMID,SNAPMKT,SNAPREL,STP,STPLMT,TRAIL,TRAILLIT,TRAILLMT,TRAILMIT,WHATIF', validExchanges='SMART,FWB,IBIS,BVME,VSE,SWB,CHIXDE,CHIXIT,TRQXDE,BATEDE,BATEIT,TGATE,GETTEX,DXEDE,TGHEDE,DXEIT,EUIBSI,AQEUDE', priceMagnifier=1, underConId=0, longName='DEUTSCHE LUFTHANSA-REG', contractMonth='', industry='Consumer, Cyclical', category='Airlines', subcategory='Airlines', timeZoneId='MET', tradingHours='20230712:0800-20230712:2200;20230713:0800-20230713:2200;20230714:0800-20230714:2200;20230715:CLOSED;20230716:CLOSED;20230717:0800-20230717:2200', liquidHours='20230712:0900-20230712:1745;20230713:0900-20230713:1745;20230714:0900-20230714:1745;20230715:CLOSED;20230716:CLOSED;20230717:0900-20230717:1745', evRule='', evMultiplier=0, mdSizeMultiplier=1, aggGroup=6, underSymbol='', underSecType='', marketRuleIds='1874,1874,1874,1874,1874,1874,1874,1874,1943,1874,1874,1874,1874,1874,1943,1874,3055,1943', secIdList=[TagValue(tag='ISIN', value='DE0008232125')], realExpirationDate='', lastTradeTime='', stockType='COMMON', minSize=0.0001, sizeIncrement=0.0001, suggestedSizeIncrement=1.0, cusip='', ratings='', descAppend='', bondType='', couponType='', callable=False, putable=False, coupon=0, convertible=False, maturity='', issueDate='', nextOptionDate='', nextOptionType='', nextOptionPartial=False, notes='')]"
      ]
     },
     "execution_count": 64,
     "metadata": {},
     "output_type": "execute_result"
    }
   ],
   "source": [
    "cds = ib.reqContractDetails(contract)\n",
    "cds"
   ]
  },
  {
   "cell_type": "code",
   "execution_count": 65,
   "id": "1c280818",
   "metadata": {},
   "outputs": [
    {
     "data": {
      "text/plain": [
       "1"
      ]
     },
     "execution_count": 65,
     "metadata": {},
     "output_type": "execute_result"
    }
   ],
   "source": [
    "len(cds)"
   ]
  },
  {
   "cell_type": "code",
   "execution_count": null,
   "id": "d3ad9680",
   "metadata": {},
   "outputs": [],
   "source": [
    "ib.disconnect()"
   ]
  },
  {
   "cell_type": "markdown",
   "id": "f074b093",
   "metadata": {},
   "source": [
    "## Forex and CFD Contracts"
   ]
  },
  {
   "cell_type": "markdown",
   "id": "c53f0996",
   "metadata": {},
   "source": [
    "### Forex"
   ]
  },
  {
   "cell_type": "code",
   "execution_count": 66,
   "id": "a2362d67",
   "metadata": {},
   "outputs": [
    {
     "data": {
      "text/plain": [
       "Forex('EURUSD', exchange='IDEALPRO')"
      ]
     },
     "execution_count": 66,
     "metadata": {},
     "output_type": "execute_result"
    }
   ],
   "source": [
    "contract = Forex(\"EURUSD\")\n",
    "contract"
   ]
  },
  {
   "cell_type": "code",
   "execution_count": 67,
   "id": "13af50de",
   "metadata": {},
   "outputs": [
    {
     "data": {
      "text/plain": [
       "[Forex('EURUSD', conId=12087792, exchange='IDEALPRO', localSymbol='EUR.USD', tradingClass='EUR.USD')]"
      ]
     },
     "execution_count": 67,
     "metadata": {},
     "output_type": "execute_result"
    }
   ],
   "source": [
    "ib.qualifyContracts(contract)"
   ]
  },
  {
   "cell_type": "code",
   "execution_count": 68,
   "id": "bf6464c2",
   "metadata": {},
   "outputs": [],
   "source": [
    "data = ib.reqMktData(contract)"
   ]
  },
  {
   "cell_type": "code",
   "execution_count": 69,
   "id": "fecfd7bd",
   "metadata": {},
   "outputs": [
    {
     "data": {
      "text/plain": [
       "Ticker(contract=Forex('EURUSD', conId=12087792, exchange='IDEALPRO', localSymbol='EUR.USD', tradingClass='EUR.USD'), time=datetime.datetime(2023, 7, 12, 12, 59, 56, 518249, tzinfo=datetime.timezone.utc), minTick=1e-05, bid=1.10581, bidSize=2500000.0, ask=1.10584, askSize=2000000.0, prevBid=1.10579, prevBidSize=3000000.0, prevAsk=1.10583, prevAskSize=3000000.0, high=1.10715, low=1.10065, close=1.1009, ticks=[TickData(time=datetime.datetime(2023, 7, 12, 12, 59, 56, 518249, tzinfo=datetime.timezone.utc), tickType=0, price=1.10581, size=2500000.0), TickData(time=datetime.datetime(2023, 7, 12, 12, 59, 56, 518249, tzinfo=datetime.timezone.utc), tickType=3, price=1.10584, size=2000000.0)])"
      ]
     },
     "execution_count": 69,
     "metadata": {},
     "output_type": "execute_result"
    }
   ],
   "source": [
    "data"
   ]
  },
  {
   "cell_type": "code",
   "execution_count": 70,
   "id": "e98daafd",
   "metadata": {},
   "outputs": [
    {
     "data": {
      "text/plain": [
       "1.10585"
      ]
     },
     "execution_count": 70,
     "metadata": {},
     "output_type": "execute_result"
    }
   ],
   "source": [
    "data.ask"
   ]
  },
  {
   "cell_type": "markdown",
   "id": "c87243a8",
   "metadata": {},
   "source": [
    "### CFD"
   ]
  },
  {
   "cell_type": "code",
   "execution_count": 71,
   "id": "ab4823f4",
   "metadata": {},
   "outputs": [
    {
     "data": {
      "text/plain": [
       "CFD(symbol='EUR', currency='USD')"
      ]
     },
     "execution_count": 71,
     "metadata": {},
     "output_type": "execute_result"
    }
   ],
   "source": [
    "contract = CFD(\"EUR\", currency = \"USD\")\n",
    "contract"
   ]
  },
  {
   "cell_type": "code",
   "execution_count": 73,
   "id": "36686070",
   "metadata": {},
   "outputs": [
    {
     "data": {
      "text/plain": [
       "[CFD(conId=143916318, symbol='EUR', exchange='SMART', currency='USD', localSymbol='EUR.USD', tradingClass='EUR.USD')]"
      ]
     },
     "execution_count": 73,
     "metadata": {},
     "output_type": "execute_result"
    }
   ],
   "source": [
    "ib.qualifyContracts(contract)"
   ]
  },
  {
   "cell_type": "code",
   "execution_count": 74,
   "id": "37b5273b",
   "metadata": {},
   "outputs": [
    {
     "data": {
      "text/plain": [
       "Ticker(contract=CFD(conId=143916318, symbol='EUR', exchange='SMART', currency='USD', localSymbol='EUR.USD', tradingClass='EUR.USD'))"
      ]
     },
     "execution_count": 74,
     "metadata": {},
     "output_type": "execute_result"
    }
   ],
   "source": [
    "data = ib.reqMktData(contract)\n",
    "data"
   ]
  },
  {
   "cell_type": "code",
   "execution_count": 75,
   "id": "9cef21af",
   "metadata": {},
   "outputs": [
    {
     "data": {
      "text/plain": [
       "nan"
      ]
     },
     "execution_count": 75,
     "metadata": {},
     "output_type": "execute_result"
    }
   ],
   "source": [
    "data.ask"
   ]
  },
  {
   "cell_type": "code",
   "execution_count": 76,
   "id": "2a0666cd",
   "metadata": {},
   "outputs": [],
   "source": [
    "ib.disconnect()"
   ]
  },
  {
   "cell_type": "markdown",
   "id": "9606d496",
   "metadata": {},
   "source": [
    "## Creating Orders"
   ]
  },
  {
   "cell_type": "markdown",
   "id": "ce30a733",
   "metadata": {},
   "source": [
    "### Please run the following code only with your paper trading account!!!\n",
    "\n",
    "### Check the Regular trading hours!!!"
   ]
  },
  {
   "cell_type": "code",
   "execution_count": 80,
   "id": "bc098881",
   "metadata": {},
   "outputs": [],
   "source": [
    "import pandas as pd \n",
    "from ib_insync import *\n",
    "util.startLoop()"
   ]
  },
  {
   "cell_type": "code",
   "execution_count": 81,
   "id": "5e8f93b5",
   "metadata": {},
   "outputs": [],
   "source": [
    "ib = IB()"
   ]
  },
  {
   "cell_type": "code",
   "execution_count": 82,
   "id": "190e5fbd",
   "metadata": {},
   "outputs": [
    {
     "data": {
      "text/plain": [
       "<IB connected to 127.0.0.1:7497 clientId=1>"
      ]
     },
     "execution_count": 82,
     "metadata": {},
     "output_type": "execute_result"
    }
   ],
   "source": [
    "ib.connect()"
   ]
  },
  {
   "cell_type": "code",
   "execution_count": 83,
   "id": "5b1ac863",
   "metadata": {},
   "outputs": [
    {
     "data": {
      "text/plain": [
       "Stock(symbol='AAPL', exchange='SMART', currency='USD')"
      ]
     },
     "execution_count": 83,
     "metadata": {},
     "output_type": "execute_result"
    }
   ],
   "source": [
    "contract = Stock(\"AAPL\", \"SMART\", \"USD\")\n",
    "contract"
   ]
  },
  {
   "cell_type": "code",
   "execution_count": 84,
   "id": "f5e6ee80",
   "metadata": {},
   "outputs": [
    {
     "data": {
      "text/plain": [
       "[Stock(conId=265598, symbol='AAPL', exchange='SMART', primaryExchange='NASDAQ', currency='USD', localSymbol='AAPL', tradingClass='NMS')]"
      ]
     },
     "execution_count": 84,
     "metadata": {},
     "output_type": "execute_result"
    }
   ],
   "source": [
    "ib.qualifyContracts(contract)"
   ]
  },
  {
   "cell_type": "markdown",
   "id": "59d8c180",
   "metadata": {},
   "source": [
    "## Market Buy Order"
   ]
  },
  {
   "cell_type": "code",
   "execution_count": 86,
   "id": "535f1587",
   "metadata": {},
   "outputs": [
    {
     "data": {
      "text/plain": [
       "MarketOrder(action='BUY', totalQuantity=1)"
      ]
     },
     "execution_count": 86,
     "metadata": {},
     "output_type": "execute_result"
    }
   ],
   "source": [
    "order = MarketOrder(action = \"BUY\", totalQuantity = 1)\n",
    "order"
   ]
  },
  {
   "cell_type": "code",
   "execution_count": 87,
   "id": "492bd2f5",
   "metadata": {},
   "outputs": [
    {
     "data": {
      "text/plain": [
       "Trade(contract=Stock(conId=265598, symbol='AAPL', exchange='SMART', primaryExchange='NASDAQ', currency='USD', localSymbol='AAPL', tradingClass='NMS'), order=MarketOrder(orderId=4, clientId=1, action='BUY', totalQuantity=1), orderStatus=OrderStatus(orderId=4, status='PendingSubmit', filled=0.0, remaining=0.0, avgFillPrice=0.0, permId=0, parentId=0, lastFillPrice=0.0, clientId=0, whyHeld='', mktCapPrice=0.0), fills=[], log=[TradeLogEntry(time=datetime.datetime(2023, 7, 12, 14, 43, 21, 854458, tzinfo=datetime.timezone.utc), status='PendingSubmit', message='', errorCode=0)], advancedError='')"
      ]
     },
     "execution_count": 87,
     "metadata": {},
     "output_type": "execute_result"
    }
   ],
   "source": [
    "trade = ib.placeOrder(contract, order)\n",
    "trade"
   ]
  },
  {
   "cell_type": "markdown",
   "id": "c40bd350",
   "metadata": {},
   "source": [
    "## Time Lag until Order is filled"
   ]
  },
  {
   "cell_type": "code",
   "execution_count": 88,
   "id": "5c7fbf44",
   "metadata": {},
   "outputs": [
    {
     "data": {
      "text/plain": [
       "[TradeLogEntry(time=datetime.datetime(2023, 7, 12, 14, 43, 21, 854458, tzinfo=datetime.timezone.utc), status='PendingSubmit', message='', errorCode=0),\n",
       " TradeLogEntry(time=datetime.datetime(2023, 7, 12, 14, 43, 23, 360761, tzinfo=datetime.timezone.utc), status='Submitted', message='', errorCode=0),\n",
       " TradeLogEntry(time=datetime.datetime(2023, 7, 12, 14, 43, 23, 755933, tzinfo=datetime.timezone.utc), status='Submitted', message='Fill 1.0@190.45', errorCode=0),\n",
       " TradeLogEntry(time=datetime.datetime(2023, 7, 12, 14, 43, 23, 773499, tzinfo=datetime.timezone.utc), status='Filled', message='', errorCode=0)]"
      ]
     },
     "execution_count": 88,
     "metadata": {},
     "output_type": "execute_result"
    }
   ],
   "source": [
    "ib.sleep(5)\n",
    "trade.log"
   ]
  },
  {
   "cell_type": "code",
   "execution_count": 89,
   "id": "d46c0894",
   "metadata": {},
   "outputs": [
    {
     "data": {
      "text/plain": [
       "Trade(contract=Stock(conId=265598, symbol='AAPL', exchange='SMART', primaryExchange='NASDAQ', currency='USD', localSymbol='AAPL', tradingClass='NMS'), order=MarketOrder(orderId=4, clientId=1, permId=1382121114, action='BUY', totalQuantity=1.0, lmtPrice=0.0, auxPrice=0.0), orderStatus=OrderStatus(orderId=4, status='Filled', filled=1.0, remaining=0.0, avgFillPrice=190.45, permId=1382121114, parentId=0, lastFillPrice=190.45, clientId=1, whyHeld='', mktCapPrice=0.0), fills=[Fill(contract=Stock(conId=265598, symbol='AAPL', exchange='SMART', primaryExchange='NASDAQ', currency='USD', localSymbol='AAPL', tradingClass='NMS'), execution=Execution(execId='00012ec5.64ae63ca.01.01', time=datetime.datetime(2023, 7, 12, 14, 43, 22, tzinfo=datetime.timezone.utc), acctNumber='DU7458153', exchange='EDGEA', side='BOT', shares=1.0, price=190.45, permId=1382121114, clientId=1, orderId=4, liquidation=0, cumQty=1.0, avgPrice=190.45, orderRef='', evRule='', evMultiplier=0.0, modelCode='', lastLiquidity=2), commissionReport=CommissionReport(execId='00012ec5.64ae63ca.01.01', commission=1.0, currency='USD', realizedPNL=0.0, yield_=0.0, yieldRedemptionDate=0), time=datetime.datetime(2023, 7, 12, 14, 43, 23, 755933, tzinfo=datetime.timezone.utc))], log=[TradeLogEntry(time=datetime.datetime(2023, 7, 12, 14, 43, 21, 854458, tzinfo=datetime.timezone.utc), status='PendingSubmit', message='', errorCode=0), TradeLogEntry(time=datetime.datetime(2023, 7, 12, 14, 43, 23, 360761, tzinfo=datetime.timezone.utc), status='Submitted', message='', errorCode=0), TradeLogEntry(time=datetime.datetime(2023, 7, 12, 14, 43, 23, 755933, tzinfo=datetime.timezone.utc), status='Submitted', message='Fill 1.0@190.45', errorCode=0), TradeLogEntry(time=datetime.datetime(2023, 7, 12, 14, 43, 23, 773499, tzinfo=datetime.timezone.utc), status='Filled', message='', errorCode=0)], advancedError='')"
      ]
     },
     "execution_count": 89,
     "metadata": {},
     "output_type": "execute_result"
    }
   ],
   "source": [
    "trade"
   ]
  },
  {
   "cell_type": "code",
   "execution_count": 90,
   "id": "e4b7e197",
   "metadata": {},
   "outputs": [
    {
     "data": {
      "text/plain": [
       "'Filled'"
      ]
     },
     "execution_count": 90,
     "metadata": {},
     "output_type": "execute_result"
    }
   ],
   "source": [
    "trade.orderStatus.status"
   ]
  },
  {
   "cell_type": "code",
   "execution_count": 91,
   "id": "688f8e62",
   "metadata": {},
   "outputs": [
    {
     "data": {
      "text/plain": [
       "190.45"
      ]
     },
     "execution_count": 91,
     "metadata": {},
     "output_type": "execute_result"
    }
   ],
   "source": [
    "trade.orderStatus.avgFillPrice"
   ]
  },
  {
   "cell_type": "code",
   "execution_count": 92,
   "id": "89c693ed",
   "metadata": {},
   "outputs": [
    {
     "data": {
      "text/plain": [
       "[Trade(contract=Stock(conId=265598, symbol='AAPL', exchange='SMART', primaryExchange='NASDAQ', currency='USD', localSymbol='AAPL', tradingClass='NMS'), order=MarketOrder(orderId=4, clientId=1, permId=1382121114, action='BUY', totalQuantity=1.0, lmtPrice=0.0, auxPrice=0.0), orderStatus=OrderStatus(orderId=4, status='Filled', filled=1.0, remaining=0.0, avgFillPrice=190.45, permId=1382121114, parentId=0, lastFillPrice=190.45, clientId=1, whyHeld='', mktCapPrice=0.0), fills=[Fill(contract=Stock(conId=265598, symbol='AAPL', exchange='SMART', primaryExchange='NASDAQ', currency='USD', localSymbol='AAPL', tradingClass='NMS'), execution=Execution(execId='00012ec5.64ae63ca.01.01', time=datetime.datetime(2023, 7, 12, 14, 43, 22, tzinfo=datetime.timezone.utc), acctNumber='DU7458153', exchange='EDGEA', side='BOT', shares=1.0, price=190.45, permId=1382121114, clientId=1, orderId=4, liquidation=0, cumQty=1.0, avgPrice=190.45, orderRef='', evRule='', evMultiplier=0.0, modelCode='', lastLiquidity=2), commissionReport=CommissionReport(execId='00012ec5.64ae63ca.01.01', commission=1.0, currency='USD', realizedPNL=0.0, yield_=0.0, yieldRedemptionDate=0), time=datetime.datetime(2023, 7, 12, 14, 43, 23, 755933, tzinfo=datetime.timezone.utc))], log=[TradeLogEntry(time=datetime.datetime(2023, 7, 12, 14, 43, 21, 854458, tzinfo=datetime.timezone.utc), status='PendingSubmit', message='', errorCode=0), TradeLogEntry(time=datetime.datetime(2023, 7, 12, 14, 43, 23, 360761, tzinfo=datetime.timezone.utc), status='Submitted', message='', errorCode=0), TradeLogEntry(time=datetime.datetime(2023, 7, 12, 14, 43, 23, 755933, tzinfo=datetime.timezone.utc), status='Submitted', message='Fill 1.0@190.45', errorCode=0), TradeLogEntry(time=datetime.datetime(2023, 7, 12, 14, 43, 23, 773499, tzinfo=datetime.timezone.utc), status='Filled', message='', errorCode=0)], advancedError='')]"
      ]
     },
     "execution_count": 92,
     "metadata": {},
     "output_type": "execute_result"
    }
   ],
   "source": [
    "ib.trades()"
   ]
  },
  {
   "cell_type": "code",
   "execution_count": 93,
   "id": "bd0b6cd4",
   "metadata": {},
   "outputs": [
    {
     "data": {
      "text/plain": [
       "[MarketOrder(orderId=4, clientId=1, permId=1382121114, action='BUY', totalQuantity=1.0, lmtPrice=0.0, auxPrice=0.0)]"
      ]
     },
     "execution_count": 93,
     "metadata": {},
     "output_type": "execute_result"
    }
   ],
   "source": [
    "ib.orders()"
   ]
  },
  {
   "cell_type": "markdown",
   "id": "5aee8da8",
   "metadata": {},
   "source": [
    "## Market Sell Order"
   ]
  },
  {
   "cell_type": "code",
   "execution_count": 118,
   "id": "70c9c276",
   "metadata": {},
   "outputs": [
    {
     "data": {
      "text/plain": [
       "MarketOrder(action='SELL', totalQuantity=1)"
      ]
     },
     "execution_count": 118,
     "metadata": {},
     "output_type": "execute_result"
    }
   ],
   "source": [
    "order = MarketOrder(action = \"SELL\", totalQuantity = 1)\n",
    "order"
   ]
  },
  {
   "cell_type": "code",
   "execution_count": 119,
   "id": "120111bb",
   "metadata": {},
   "outputs": [
    {
     "data": {
      "text/plain": [
       "Trade(contract=CFD(conId=143916318, symbol='EUR', exchange='SMART', currency='USD', localSymbol='EUR.USD', tradingClass='EUR.USD'), order=MarketOrder(orderId=14, clientId=1, permId=1382121127, action='SELL', totalQuantity=1.0, lmtPrice=1.1118, auxPrice=0.0), orderStatus=OrderStatus(orderId=14, status='PreSubmitted', filled=0.0, remaining=1.0, avgFillPrice=0.0, permId=1382121127, parentId=0, lastFillPrice=0.0, clientId=1, whyHeld='', mktCapPrice=0.0), fills=[], log=[TradeLogEntry(time=datetime.datetime(2023, 7, 12, 15, 3, 52, 788726, tzinfo=datetime.timezone.utc), status='PendingSubmit', message='', errorCode=0), TradeLogEntry(time=datetime.datetime(2023, 7, 12, 15, 3, 53, 625055, tzinfo=datetime.timezone.utc), status='PreSubmitted', message='', errorCode=0)], advancedError='')"
      ]
     },
     "execution_count": 119,
     "metadata": {},
     "output_type": "execute_result"
    }
   ],
   "source": [
    "trade = ib.placeOrder(contract, order)\n",
    "ib.sleep(1)\n",
    "trade"
   ]
  },
  {
   "cell_type": "code",
   "execution_count": 96,
   "id": "9a1bd47f",
   "metadata": {},
   "outputs": [
    {
     "data": {
      "text/plain": [
       "[Trade(contract=Stock(conId=265598, symbol='AAPL', exchange='SMART', primaryExchange='NASDAQ', currency='USD', localSymbol='AAPL', tradingClass='NMS'), order=MarketOrder(orderId=4, clientId=1, permId=1382121114, action='BUY', totalQuantity=1.0, lmtPrice=0.0, auxPrice=0.0), orderStatus=OrderStatus(orderId=4, status='Filled', filled=1.0, remaining=0.0, avgFillPrice=190.45, permId=1382121114, parentId=0, lastFillPrice=190.45, clientId=1, whyHeld='', mktCapPrice=0.0), fills=[Fill(contract=Stock(conId=265598, symbol='AAPL', exchange='SMART', primaryExchange='NASDAQ', currency='USD', localSymbol='AAPL', tradingClass='NMS'), execution=Execution(execId='00012ec5.64ae63ca.01.01', time=datetime.datetime(2023, 7, 12, 14, 43, 22, tzinfo=datetime.timezone.utc), acctNumber='DU7458153', exchange='EDGEA', side='BOT', shares=1.0, price=190.45, permId=1382121114, clientId=1, orderId=4, liquidation=0, cumQty=1.0, avgPrice=190.45, orderRef='', evRule='', evMultiplier=0.0, modelCode='', lastLiquidity=2), commissionReport=CommissionReport(execId='00012ec5.64ae63ca.01.01', commission=1.0, currency='USD', realizedPNL=0.0, yield_=0.0, yieldRedemptionDate=0), time=datetime.datetime(2023, 7, 12, 14, 43, 23, 755933, tzinfo=datetime.timezone.utc))], log=[TradeLogEntry(time=datetime.datetime(2023, 7, 12, 14, 43, 21, 854458, tzinfo=datetime.timezone.utc), status='PendingSubmit', message='', errorCode=0), TradeLogEntry(time=datetime.datetime(2023, 7, 12, 14, 43, 23, 360761, tzinfo=datetime.timezone.utc), status='Submitted', message='', errorCode=0), TradeLogEntry(time=datetime.datetime(2023, 7, 12, 14, 43, 23, 755933, tzinfo=datetime.timezone.utc), status='Submitted', message='Fill 1.0@190.45', errorCode=0), TradeLogEntry(time=datetime.datetime(2023, 7, 12, 14, 43, 23, 773499, tzinfo=datetime.timezone.utc), status='Filled', message='', errorCode=0)], advancedError=''),\n",
       " Trade(contract=Stock(conId=265598, symbol='AAPL', exchange='SMART', primaryExchange='NASDAQ', currency='USD', localSymbol='AAPL', tradingClass='NMS'), order=MarketOrder(orderId=5, clientId=1, permId=1382121115, action='SELL', totalQuantity=1.0, lmtPrice=190.21, auxPrice=0.0), orderStatus=OrderStatus(orderId=5, status='Filled', filled=1.0, remaining=0.0, avgFillPrice=190.21, permId=1382121115, parentId=0, lastFillPrice=190.21, clientId=1, whyHeld='', mktCapPrice=0.0), fills=[Fill(contract=Stock(conId=265598, symbol='AAPL', exchange='SMART', primaryExchange='NASDAQ', currency='USD', localSymbol='AAPL', tradingClass='NMS'), execution=Execution(execId='00012ec5.64ae64f1.01.01', time=datetime.datetime(2023, 7, 12, 14, 47, 43, tzinfo=datetime.timezone.utc), acctNumber='DU7458153', exchange='ISLAND', side='SLD', shares=1.0, price=190.21, permId=1382121115, clientId=1, orderId=5, liquidation=0, cumQty=1.0, avgPrice=190.21, orderRef='', evRule='', evMultiplier=0.0, modelCode='', lastLiquidity=2), commissionReport=CommissionReport(execId='00012ec5.64ae64f1.01.01', commission=1.001667, currency='USD', realizedPNL=-2.241667, yield_=0.0, yieldRedemptionDate=0), time=datetime.datetime(2023, 7, 12, 14, 47, 43, 579857, tzinfo=datetime.timezone.utc))], log=[TradeLogEntry(time=datetime.datetime(2023, 7, 12, 14, 47, 42, 671685, tzinfo=datetime.timezone.utc), status='PendingSubmit', message='', errorCode=0), TradeLogEntry(time=datetime.datetime(2023, 7, 12, 14, 47, 43, 562291, tzinfo=datetime.timezone.utc), status='PreSubmitted', message='', errorCode=0), TradeLogEntry(time=datetime.datetime(2023, 7, 12, 14, 47, 43, 579857, tzinfo=datetime.timezone.utc), status='PreSubmitted', message='Fill 1.0@190.21', errorCode=0), TradeLogEntry(time=datetime.datetime(2023, 7, 12, 14, 47, 43, 579857, tzinfo=datetime.timezone.utc), status='Filled', message='', errorCode=0)], advancedError='')]"
      ]
     },
     "execution_count": 96,
     "metadata": {},
     "output_type": "execute_result"
    }
   ],
   "source": [
    "ib.trades()"
   ]
  },
  {
   "cell_type": "markdown",
   "id": "b8169bd1",
   "metadata": {},
   "source": [
    "### wait until order is either filled on cancelled"
   ]
  },
  {
   "cell_type": "code",
   "execution_count": 120,
   "id": "cbfa66f6",
   "metadata": {},
   "outputs": [
    {
     "name": "stdout",
     "output_type": "stream",
     "text": [
      "CPU times: total: 15.6 ms\n",
      "Wall time: 652 ms\n"
     ]
    }
   ],
   "source": [
    "%%time\n",
    "order = MarketOrder(\"BUY\",1)\n",
    "\n",
    "trade = ib.placeOrder(contract, order)\n",
    "while not trade.isDone():\n",
    "    ib.waitOnUpdate()"
   ]
  },
  {
   "cell_type": "code",
   "execution_count": 121,
   "id": "1fe88f71",
   "metadata": {},
   "outputs": [
    {
     "data": {
      "text/plain": [
       "Trade(contract=CFD(conId=143916318, symbol='EUR', exchange='SMART', currency='USD', localSymbol='EUR.USD', tradingClass='EUR.USD'), order=MarketOrder(orderId=15, clientId=1, permId=1382121131, action='BUY', totalQuantity=1.0, lmtPrice=1.11185, auxPrice=0.0), orderStatus=OrderStatus(orderId=15, status='Filled', filled=1.0, remaining=0.0, avgFillPrice=1.11185, permId=1382121131, parentId=0, lastFillPrice=1.11185, clientId=1, whyHeld='', mktCapPrice=0.0), fills=[Fill(contract=CFD(conId=143916318, symbol='EUR', exchange='SMART', currency='USD', localSymbol='EUR.USD', tradingClass='EUR.USD'), execution=Execution(execId='000132a9.64ae27a7.01.01', time=datetime.datetime(2023, 7, 12, 15, 4, 34, tzinfo=datetime.timezone.utc), acctNumber='DU7458153', exchange='SMART', side='BOT', shares=1.0, price=1.11185, permId=1382121131, clientId=1, orderId=15, liquidation=0, cumQty=1.0, avgPrice=1.11185, orderRef='', evRule='', evMultiplier=0.0, modelCode='', lastLiquidity=2), commissionReport=CommissionReport(execId='000132a9.64ae27a7.01.01', commission=2.0, currency='USD', realizedPNL=-4.0, yield_=0.0, yieldRedemptionDate=0), time=datetime.datetime(2023, 7, 12, 15, 4, 34, 805331, tzinfo=datetime.timezone.utc))], log=[TradeLogEntry(time=datetime.datetime(2023, 7, 12, 15, 4, 34, 164177, tzinfo=datetime.timezone.utc), status='PendingSubmit', message='', errorCode=0), TradeLogEntry(time=datetime.datetime(2023, 7, 12, 15, 4, 34, 805331, tzinfo=datetime.timezone.utc), status='PreSubmitted', message='', errorCode=0), TradeLogEntry(time=datetime.datetime(2023, 7, 12, 15, 4, 34, 805331, tzinfo=datetime.timezone.utc), status='PreSubmitted', message='Fill 1.0@1.11185', errorCode=0), TradeLogEntry(time=datetime.datetime(2023, 7, 12, 15, 4, 34, 805331, tzinfo=datetime.timezone.utc), status='Filled', message='', errorCode=0)], advancedError='')"
      ]
     },
     "execution_count": 121,
     "metadata": {},
     "output_type": "execute_result"
    }
   ],
   "source": [
    "trade"
   ]
  },
  {
   "cell_type": "code",
   "execution_count": 122,
   "id": "e621d9cc",
   "metadata": {},
   "outputs": [
    {
     "data": {
      "text/plain": [
       "[Fill(contract=Stock(conId=265598, symbol='AAPL', right='?', exchange='SMART', currency='USD', localSymbol='AAPL', tradingClass='NMS'), execution=Execution(execId='00012ec5.64ae63ca.01.01', time=datetime.datetime(2023, 7, 12, 14, 43, 22, tzinfo=datetime.timezone.utc), acctNumber='DU7458153', exchange='EDGEA', side='BOT', shares=1.0, price=190.45, permId=1382121114, clientId=1, orderId=4, liquidation=0, cumQty=1.0, avgPrice=190.45, orderRef='', evRule='', evMultiplier=0.0, modelCode='', lastLiquidity=2), commissionReport=CommissionReport(execId='00012ec5.64ae63ca.01.01', commission=1.0, currency='USD', realizedPNL=0.0, yield_=0.0, yieldRedemptionDate=0), time=datetime.datetime(2023, 7, 12, 14, 43, 22, tzinfo=datetime.timezone.utc)),\n",
       " Fill(contract=Stock(conId=265598, symbol='AAPL', right='?', exchange='SMART', currency='USD', localSymbol='AAPL', tradingClass='NMS'), execution=Execution(execId='00012ec5.64ae64f1.01.01', time=datetime.datetime(2023, 7, 12, 14, 47, 43, tzinfo=datetime.timezone.utc), acctNumber='DU7458153', exchange='ISLAND', side='SLD', shares=1.0, price=190.21, permId=1382121115, clientId=1, orderId=5, liquidation=0, cumQty=1.0, avgPrice=190.21, orderRef='', evRule='', evMultiplier=0.0, modelCode='', lastLiquidity=2), commissionReport=CommissionReport(execId='00012ec5.64ae64f1.01.01', commission=1.001667, currency='USD', realizedPNL=-2.241667, yield_=0.0, yieldRedemptionDate=0), time=datetime.datetime(2023, 7, 12, 14, 47, 43, tzinfo=datetime.timezone.utc)),\n",
       " Fill(contract=Stock(conId=265598, symbol='AAPL', right='?', exchange='SMART', currency='USD', localSymbol='AAPL', tradingClass='NMS'), execution=Execution(execId='00012ec5.64ae653c.01.01', time=datetime.datetime(2023, 7, 12, 14, 49, 33, tzinfo=datetime.timezone.utc), acctNumber='DU7458153', exchange='EDGEA', side='BOT', shares=1.0, price=190.12, permId=1382121116, clientId=1, orderId=6, liquidation=0, cumQty=1.0, avgPrice=190.12, orderRef='', evRule='', evMultiplier=0.0, modelCode='', lastLiquidity=2), commissionReport=CommissionReport(execId='00012ec5.64ae653c.01.01', commission=1.0, currency='USD', realizedPNL=0.0, yield_=0.0, yieldRedemptionDate=0), time=datetime.datetime(2023, 7, 12, 14, 49, 33, tzinfo=datetime.timezone.utc)),\n",
       " Fill(contract=CFD(conId=143916318, symbol='EUR', exchange='SMART', currency='USD', localSymbol='EUR.USD', tradingClass='EUR.USD'), execution=Execution(execId='000132a9.64ae279f.01.01', time=datetime.datetime(2023, 7, 12, 14, 58, 39, tzinfo=datetime.timezone.utc), acctNumber='DU7458153', exchange='SMART', side='SLD', shares=10000.0, price=1.112, permId=1382121121, clientId=1, orderId=10, liquidation=0, cumQty=10000.0, avgPrice=1.112, orderRef='', evRule='', evMultiplier=0.0, modelCode='', lastLiquidity=2), commissionReport=CommissionReport(execId='000132a9.64ae279f.01.01', commission=2.0, currency='USD', realizedPNL=0.0, yield_=0.0, yieldRedemptionDate=0), time=datetime.datetime(2023, 7, 12, 14, 58, 39, 983116, tzinfo=datetime.timezone.utc)),\n",
       " Fill(contract=CFD(conId=143916318, symbol='EUR', exchange='SMART', currency='USD', localSymbol='EUR.USD', tradingClass='EUR.USD'), execution=Execution(execId='000132a9.64ae27a2.01.01', time=datetime.datetime(2023, 7, 12, 14, 59, 46, tzinfo=datetime.timezone.utc), acctNumber='DU7458153', exchange='SMART', side='SLD', shares=10000.0, price=1.11205, permId=1382121122, clientId=1, orderId=11, liquidation=0, cumQty=10000.0, avgPrice=1.11205, orderRef='', evRule='', evMultiplier=0.0, modelCode='', lastLiquidity=2), commissionReport=CommissionReport(execId='000132a9.64ae27a2.01.01', commission=2.0, currency='USD', realizedPNL=0.0, yield_=0.0, yieldRedemptionDate=0), time=datetime.datetime(2023, 7, 12, 14, 59, 46, 302437, tzinfo=datetime.timezone.utc)),\n",
       " Fill(contract=CFD(conId=143916318, symbol='EUR', exchange='SMART', currency='USD', localSymbol='EUR.USD', tradingClass='EUR.USD'), execution=Execution(execId='000132a9.64ae27a4.01.01', time=datetime.datetime(2023, 7, 12, 15, 2, 34, tzinfo=datetime.timezone.utc), acctNumber='DU7458153', exchange='SMART', side='BOT', shares=10000.0, price=1.1121, permId=1382121124, clientId=1, orderId=12, liquidation=0, cumQty=10000.0, avgPrice=1.1121, orderRef='', evRule='', evMultiplier=0.0, modelCode='', lastLiquidity=2), commissionReport=CommissionReport(execId='000132a9.64ae27a4.01.01', commission=2.0, currency='USD', realizedPNL=-4.75, yield_=0.0, yieldRedemptionDate=0), time=datetime.datetime(2023, 7, 12, 15, 2, 34, 985486, tzinfo=datetime.timezone.utc)),\n",
       " Fill(contract=CFD(conId=143916318, symbol='EUR', exchange='SMART', currency='USD', localSymbol='EUR.USD', tradingClass='EUR.USD'), execution=Execution(execId='000132a9.64ae27a5.01.01', time=datetime.datetime(2023, 7, 12, 15, 2, 44, tzinfo=datetime.timezone.utc), acctNumber='DU7458153', exchange='SMART', side='BOT', shares=10000.0, price=1.11205, permId=1382121125, clientId=1, orderId=13, liquidation=0, cumQty=10000.0, avgPrice=1.11205, orderRef='', evRule='', evMultiplier=0.0, modelCode='', lastLiquidity=2), commissionReport=CommissionReport(execId='000132a9.64ae27a5.01.01', commission=2.0, currency='USD', realizedPNL=-4.25, yield_=0.0, yieldRedemptionDate=0), time=datetime.datetime(2023, 7, 12, 15, 2, 44, 410610, tzinfo=datetime.timezone.utc)),\n",
       " Fill(contract=CFD(conId=143916318, symbol='EUR', exchange='SMART', currency='USD', localSymbol='EUR.USD', tradingClass='EUR.USD'), execution=Execution(execId='000132a9.64ae27a6.01.01', time=datetime.datetime(2023, 7, 12, 15, 3, 54, tzinfo=datetime.timezone.utc), acctNumber='DU7458153', exchange='SMART', side='SLD', shares=1.0, price=1.11185, permId=1382121127, clientId=1, orderId=14, liquidation=0, cumQty=1.0, avgPrice=1.11185, orderRef='', evRule='', evMultiplier=0.0, modelCode='', lastLiquidity=2), commissionReport=CommissionReport(execId='000132a9.64ae27a6.01.01', commission=2.0, currency='USD', realizedPNL=0.0, yield_=0.0, yieldRedemptionDate=0), time=datetime.datetime(2023, 7, 12, 15, 3, 54, 191071, tzinfo=datetime.timezone.utc)),\n",
       " Fill(contract=CFD(conId=143916318, symbol='EUR', exchange='SMART', currency='USD', localSymbol='EUR.USD', tradingClass='EUR.USD'), execution=Execution(execId='000132a9.64ae27a7.01.01', time=datetime.datetime(2023, 7, 12, 15, 4, 34, tzinfo=datetime.timezone.utc), acctNumber='DU7458153', exchange='SMART', side='BOT', shares=1.0, price=1.11185, permId=1382121131, clientId=1, orderId=15, liquidation=0, cumQty=1.0, avgPrice=1.11185, orderRef='', evRule='', evMultiplier=0.0, modelCode='', lastLiquidity=2), commissionReport=CommissionReport(execId='000132a9.64ae27a7.01.01', commission=2.0, currency='USD', realizedPNL=-4.0, yield_=0.0, yieldRedemptionDate=0), time=datetime.datetime(2023, 7, 12, 15, 4, 34, 805331, tzinfo=datetime.timezone.utc))]"
      ]
     },
     "execution_count": 122,
     "metadata": {},
     "output_type": "execute_result"
    }
   ],
   "source": [
    "ib.fills()"
   ]
  },
  {
   "cell_type": "code",
   "execution_count": 123,
   "id": "f7c1d8ab",
   "metadata": {},
   "outputs": [
    {
     "data": {
      "text/html": [
       "<div>\n",
       "<style scoped>\n",
       "    .dataframe tbody tr th:only-of-type {\n",
       "        vertical-align: middle;\n",
       "    }\n",
       "\n",
       "    .dataframe tbody tr th {\n",
       "        vertical-align: top;\n",
       "    }\n",
       "\n",
       "    .dataframe thead th {\n",
       "        text-align: right;\n",
       "    }\n",
       "</style>\n",
       "<table border=\"1\" class=\"dataframe\">\n",
       "  <thead>\n",
       "    <tr style=\"text-align: right;\">\n",
       "      <th></th>\n",
       "      <th>execId</th>\n",
       "      <th>time</th>\n",
       "      <th>acctNumber</th>\n",
       "      <th>exchange</th>\n",
       "      <th>side</th>\n",
       "      <th>shares</th>\n",
       "      <th>price</th>\n",
       "      <th>permId</th>\n",
       "      <th>clientId</th>\n",
       "      <th>orderId</th>\n",
       "      <th>liquidation</th>\n",
       "      <th>cumQty</th>\n",
       "      <th>avgPrice</th>\n",
       "      <th>orderRef</th>\n",
       "      <th>evRule</th>\n",
       "      <th>evMultiplier</th>\n",
       "      <th>modelCode</th>\n",
       "      <th>lastLiquidity</th>\n",
       "    </tr>\n",
       "  </thead>\n",
       "  <tbody>\n",
       "    <tr>\n",
       "      <th>0</th>\n",
       "      <td>00012ec5.64ae63ca.01.01</td>\n",
       "      <td>2023-07-12 14:43:22+00:00</td>\n",
       "      <td>DU7458153</td>\n",
       "      <td>EDGEA</td>\n",
       "      <td>BOT</td>\n",
       "      <td>1.0</td>\n",
       "      <td>190.45000</td>\n",
       "      <td>1382121114</td>\n",
       "      <td>1</td>\n",
       "      <td>4</td>\n",
       "      <td>0</td>\n",
       "      <td>1.0</td>\n",
       "      <td>190.45000</td>\n",
       "      <td></td>\n",
       "      <td></td>\n",
       "      <td>0.0</td>\n",
       "      <td></td>\n",
       "      <td>2</td>\n",
       "    </tr>\n",
       "    <tr>\n",
       "      <th>1</th>\n",
       "      <td>00012ec5.64ae64f1.01.01</td>\n",
       "      <td>2023-07-12 14:47:43+00:00</td>\n",
       "      <td>DU7458153</td>\n",
       "      <td>ISLAND</td>\n",
       "      <td>SLD</td>\n",
       "      <td>1.0</td>\n",
       "      <td>190.21000</td>\n",
       "      <td>1382121115</td>\n",
       "      <td>1</td>\n",
       "      <td>5</td>\n",
       "      <td>0</td>\n",
       "      <td>1.0</td>\n",
       "      <td>190.21000</td>\n",
       "      <td></td>\n",
       "      <td></td>\n",
       "      <td>0.0</td>\n",
       "      <td></td>\n",
       "      <td>2</td>\n",
       "    </tr>\n",
       "    <tr>\n",
       "      <th>2</th>\n",
       "      <td>00012ec5.64ae653c.01.01</td>\n",
       "      <td>2023-07-12 14:49:33+00:00</td>\n",
       "      <td>DU7458153</td>\n",
       "      <td>EDGEA</td>\n",
       "      <td>BOT</td>\n",
       "      <td>1.0</td>\n",
       "      <td>190.12000</td>\n",
       "      <td>1382121116</td>\n",
       "      <td>1</td>\n",
       "      <td>6</td>\n",
       "      <td>0</td>\n",
       "      <td>1.0</td>\n",
       "      <td>190.12000</td>\n",
       "      <td></td>\n",
       "      <td></td>\n",
       "      <td>0.0</td>\n",
       "      <td></td>\n",
       "      <td>2</td>\n",
       "    </tr>\n",
       "    <tr>\n",
       "      <th>3</th>\n",
       "      <td>000132a9.64ae279f.01.01</td>\n",
       "      <td>2023-07-12 14:58:39+00:00</td>\n",
       "      <td>DU7458153</td>\n",
       "      <td>SMART</td>\n",
       "      <td>SLD</td>\n",
       "      <td>10000.0</td>\n",
       "      <td>1.11200</td>\n",
       "      <td>1382121121</td>\n",
       "      <td>1</td>\n",
       "      <td>10</td>\n",
       "      <td>0</td>\n",
       "      <td>10000.0</td>\n",
       "      <td>1.11200</td>\n",
       "      <td></td>\n",
       "      <td></td>\n",
       "      <td>0.0</td>\n",
       "      <td></td>\n",
       "      <td>2</td>\n",
       "    </tr>\n",
       "    <tr>\n",
       "      <th>4</th>\n",
       "      <td>000132a9.64ae27a2.01.01</td>\n",
       "      <td>2023-07-12 14:59:46+00:00</td>\n",
       "      <td>DU7458153</td>\n",
       "      <td>SMART</td>\n",
       "      <td>SLD</td>\n",
       "      <td>10000.0</td>\n",
       "      <td>1.11205</td>\n",
       "      <td>1382121122</td>\n",
       "      <td>1</td>\n",
       "      <td>11</td>\n",
       "      <td>0</td>\n",
       "      <td>10000.0</td>\n",
       "      <td>1.11205</td>\n",
       "      <td></td>\n",
       "      <td></td>\n",
       "      <td>0.0</td>\n",
       "      <td></td>\n",
       "      <td>2</td>\n",
       "    </tr>\n",
       "    <tr>\n",
       "      <th>5</th>\n",
       "      <td>000132a9.64ae27a4.01.01</td>\n",
       "      <td>2023-07-12 15:02:34+00:00</td>\n",
       "      <td>DU7458153</td>\n",
       "      <td>SMART</td>\n",
       "      <td>BOT</td>\n",
       "      <td>10000.0</td>\n",
       "      <td>1.11210</td>\n",
       "      <td>1382121124</td>\n",
       "      <td>1</td>\n",
       "      <td>12</td>\n",
       "      <td>0</td>\n",
       "      <td>10000.0</td>\n",
       "      <td>1.11210</td>\n",
       "      <td></td>\n",
       "      <td></td>\n",
       "      <td>0.0</td>\n",
       "      <td></td>\n",
       "      <td>2</td>\n",
       "    </tr>\n",
       "    <tr>\n",
       "      <th>6</th>\n",
       "      <td>000132a9.64ae27a5.01.01</td>\n",
       "      <td>2023-07-12 15:02:44+00:00</td>\n",
       "      <td>DU7458153</td>\n",
       "      <td>SMART</td>\n",
       "      <td>BOT</td>\n",
       "      <td>10000.0</td>\n",
       "      <td>1.11205</td>\n",
       "      <td>1382121125</td>\n",
       "      <td>1</td>\n",
       "      <td>13</td>\n",
       "      <td>0</td>\n",
       "      <td>10000.0</td>\n",
       "      <td>1.11205</td>\n",
       "      <td></td>\n",
       "      <td></td>\n",
       "      <td>0.0</td>\n",
       "      <td></td>\n",
       "      <td>2</td>\n",
       "    </tr>\n",
       "    <tr>\n",
       "      <th>7</th>\n",
       "      <td>000132a9.64ae27a6.01.01</td>\n",
       "      <td>2023-07-12 15:03:54+00:00</td>\n",
       "      <td>DU7458153</td>\n",
       "      <td>SMART</td>\n",
       "      <td>SLD</td>\n",
       "      <td>1.0</td>\n",
       "      <td>1.11185</td>\n",
       "      <td>1382121127</td>\n",
       "      <td>1</td>\n",
       "      <td>14</td>\n",
       "      <td>0</td>\n",
       "      <td>1.0</td>\n",
       "      <td>1.11185</td>\n",
       "      <td></td>\n",
       "      <td></td>\n",
       "      <td>0.0</td>\n",
       "      <td></td>\n",
       "      <td>2</td>\n",
       "    </tr>\n",
       "    <tr>\n",
       "      <th>8</th>\n",
       "      <td>000132a9.64ae27a7.01.01</td>\n",
       "      <td>2023-07-12 15:04:34+00:00</td>\n",
       "      <td>DU7458153</td>\n",
       "      <td>SMART</td>\n",
       "      <td>BOT</td>\n",
       "      <td>1.0</td>\n",
       "      <td>1.11185</td>\n",
       "      <td>1382121131</td>\n",
       "      <td>1</td>\n",
       "      <td>15</td>\n",
       "      <td>0</td>\n",
       "      <td>1.0</td>\n",
       "      <td>1.11185</td>\n",
       "      <td></td>\n",
       "      <td></td>\n",
       "      <td>0.0</td>\n",
       "      <td></td>\n",
       "      <td>2</td>\n",
       "    </tr>\n",
       "  </tbody>\n",
       "</table>\n",
       "</div>"
      ],
      "text/plain": [
       "                    execId                      time acctNumber exchange side  \\\n",
       "0  00012ec5.64ae63ca.01.01 2023-07-12 14:43:22+00:00  DU7458153    EDGEA  BOT   \n",
       "1  00012ec5.64ae64f1.01.01 2023-07-12 14:47:43+00:00  DU7458153   ISLAND  SLD   \n",
       "2  00012ec5.64ae653c.01.01 2023-07-12 14:49:33+00:00  DU7458153    EDGEA  BOT   \n",
       "3  000132a9.64ae279f.01.01 2023-07-12 14:58:39+00:00  DU7458153    SMART  SLD   \n",
       "4  000132a9.64ae27a2.01.01 2023-07-12 14:59:46+00:00  DU7458153    SMART  SLD   \n",
       "5  000132a9.64ae27a4.01.01 2023-07-12 15:02:34+00:00  DU7458153    SMART  BOT   \n",
       "6  000132a9.64ae27a5.01.01 2023-07-12 15:02:44+00:00  DU7458153    SMART  BOT   \n",
       "7  000132a9.64ae27a6.01.01 2023-07-12 15:03:54+00:00  DU7458153    SMART  SLD   \n",
       "8  000132a9.64ae27a7.01.01 2023-07-12 15:04:34+00:00  DU7458153    SMART  BOT   \n",
       "\n",
       "    shares      price      permId  clientId  orderId  liquidation   cumQty  \\\n",
       "0      1.0  190.45000  1382121114         1        4            0      1.0   \n",
       "1      1.0  190.21000  1382121115         1        5            0      1.0   \n",
       "2      1.0  190.12000  1382121116         1        6            0      1.0   \n",
       "3  10000.0    1.11200  1382121121         1       10            0  10000.0   \n",
       "4  10000.0    1.11205  1382121122         1       11            0  10000.0   \n",
       "5  10000.0    1.11210  1382121124         1       12            0  10000.0   \n",
       "6  10000.0    1.11205  1382121125         1       13            0  10000.0   \n",
       "7      1.0    1.11185  1382121127         1       14            0      1.0   \n",
       "8      1.0    1.11185  1382121131         1       15            0      1.0   \n",
       "\n",
       "    avgPrice orderRef evRule  evMultiplier modelCode  lastLiquidity  \n",
       "0  190.45000                           0.0                        2  \n",
       "1  190.21000                           0.0                        2  \n",
       "2  190.12000                           0.0                        2  \n",
       "3    1.11200                           0.0                        2  \n",
       "4    1.11205                           0.0                        2  \n",
       "5    1.11210                           0.0                        2  \n",
       "6    1.11205                           0.0                        2  \n",
       "7    1.11185                           0.0                        2  \n",
       "8    1.11185                           0.0                        2  "
      ]
     },
     "execution_count": 123,
     "metadata": {},
     "output_type": "execute_result"
    }
   ],
   "source": [
    "df = util.df([fs.execution for fs in ib.fills()])\n",
    "df"
   ]
  },
  {
   "cell_type": "code",
   "execution_count": 101,
   "id": "aebe5204",
   "metadata": {},
   "outputs": [],
   "source": [
    "ib.disconnect()"
   ]
  },
  {
   "cell_type": "markdown",
   "id": "d70b8b9b",
   "metadata": {},
   "source": [
    "## Creating Orders (CFD Trade)"
   ]
  },
  {
   "cell_type": "code",
   "execution_count": 80,
   "id": "fb44f201",
   "metadata": {},
   "outputs": [],
   "source": [
    "import pandas as pd \n",
    "from ib_insync import *\n",
    "util.startLoop()"
   ]
  },
  {
   "cell_type": "code",
   "execution_count": 102,
   "id": "76558bbd",
   "metadata": {},
   "outputs": [],
   "source": [
    "ib = IB()"
   ]
  },
  {
   "cell_type": "code",
   "execution_count": 103,
   "id": "61ba2c63",
   "metadata": {},
   "outputs": [
    {
     "data": {
      "text/plain": [
       "<IB connected to 127.0.0.1:7497 clientId=1>"
      ]
     },
     "execution_count": 103,
     "metadata": {},
     "output_type": "execute_result"
    }
   ],
   "source": [
    "ib.connect()"
   ]
  },
  {
   "cell_type": "code",
   "execution_count": 104,
   "id": "5366af96",
   "metadata": {},
   "outputs": [
    {
     "data": {
      "text/plain": [
       "CFD(symbol='EUR', currency='USD')"
      ]
     },
     "execution_count": 104,
     "metadata": {},
     "output_type": "execute_result"
    }
   ],
   "source": [
    "contract = CFD(\"EUR\", currency = \"USD\")\n",
    "contract"
   ]
  },
  {
   "cell_type": "code",
   "execution_count": 105,
   "id": "3dc82822",
   "metadata": {},
   "outputs": [
    {
     "data": {
      "text/plain": [
       "[CFD(conId=143916318, symbol='EUR', exchange='SMART', currency='USD', localSymbol='EUR.USD', tradingClass='EUR.USD')]"
      ]
     },
     "execution_count": 105,
     "metadata": {},
     "output_type": "execute_result"
    }
   ],
   "source": [
    "ib.qualifyContracts(contract)"
   ]
  },
  {
   "cell_type": "markdown",
   "id": "7703e28b",
   "metadata": {},
   "source": [
    "### Going Long"
   ]
  },
  {
   "cell_type": "code",
   "execution_count": 116,
   "id": "36d6f544",
   "metadata": {
    "scrolled": true
   },
   "outputs": [
    {
     "data": {
      "text/plain": [
       "MarketOrder(action='BUY', totalQuantity=10000)"
      ]
     },
     "execution_count": 116,
     "metadata": {},
     "output_type": "execute_result"
    }
   ],
   "source": [
    "order = MarketOrder(action = \"BUY\", totalQuantity = 10000)\n",
    "order"
   ]
  },
  {
   "cell_type": "code",
   "execution_count": 117,
   "id": "0f7f4ff0",
   "metadata": {},
   "outputs": [
    {
     "data": {
      "text/plain": [
       "Trade(contract=CFD(conId=143916318, symbol='EUR', exchange='SMART', currency='USD', localSymbol='EUR.USD', tradingClass='EUR.USD'), order=MarketOrder(orderId=13, clientId=1, action='BUY', totalQuantity=10000), orderStatus=OrderStatus(orderId=13, status='PendingSubmit', filled=0.0, remaining=0.0, avgFillPrice=0.0, permId=0, parentId=0, lastFillPrice=0.0, clientId=0, whyHeld='', mktCapPrice=0.0), fills=[], log=[TradeLogEntry(time=datetime.datetime(2023, 7, 12, 15, 2, 43, 961705, tzinfo=datetime.timezone.utc), status='PendingSubmit', message='', errorCode=0)], advancedError='')"
      ]
     },
     "execution_count": 117,
     "metadata": {},
     "output_type": "execute_result"
    }
   ],
   "source": [
    "trade = ib.placeOrder(contract, order)\n",
    "trade"
   ]
  },
  {
   "cell_type": "markdown",
   "id": "47b298a7",
   "metadata": {},
   "source": [
    "### Going Short"
   ]
  },
  {
   "cell_type": "code",
   "execution_count": 110,
   "id": "b1cd44a9",
   "metadata": {},
   "outputs": [
    {
     "data": {
      "text/plain": [
       "MarketOrder(action='SELL', totalQuantity=10000)"
      ]
     },
     "execution_count": 110,
     "metadata": {},
     "output_type": "execute_result"
    }
   ],
   "source": [
    "order = MarketOrder(action = \"SELL\", totalQuantity = 10000)\n",
    "order"
   ]
  },
  {
   "cell_type": "code",
   "execution_count": 111,
   "id": "6f91a6e8",
   "metadata": {},
   "outputs": [
    {
     "data": {
      "text/plain": [
       "Trade(contract=CFD(conId=143916318, symbol='EUR', exchange='SMART', currency='USD', localSymbol='EUR.USD', tradingClass='EUR.USD'), order=MarketOrder(orderId=11, clientId=1, action='SELL', totalQuantity=10000), orderStatus=OrderStatus(orderId=11, status='PendingSubmit', filled=0.0, remaining=0.0, avgFillPrice=0.0, permId=0, parentId=0, lastFillPrice=0.0, clientId=0, whyHeld='', mktCapPrice=0.0), fills=[], log=[TradeLogEntry(time=datetime.datetime(2023, 7, 12, 14, 59, 45, 841822, tzinfo=datetime.timezone.utc), status='PendingSubmit', message='', errorCode=0)], advancedError='')"
      ]
     },
     "execution_count": 111,
     "metadata": {},
     "output_type": "execute_result"
    }
   ],
   "source": [
    "trade = ib.placeOrder(contract, order)\n",
    "trade"
   ]
  },
  {
   "cell_type": "markdown",
   "id": "0b131b40",
   "metadata": {},
   "source": [
    "## CFD Trade Information"
   ]
  },
  {
   "cell_type": "code",
   "execution_count": 112,
   "id": "1e693276",
   "metadata": {},
   "outputs": [
    {
     "data": {
      "text/plain": [
       "[Fill(contract=Stock(conId=265598, symbol='AAPL', right='?', exchange='SMART', currency='USD', localSymbol='AAPL', tradingClass='NMS'), execution=Execution(execId='00012ec5.64ae63ca.01.01', time=datetime.datetime(2023, 7, 12, 14, 43, 22, tzinfo=datetime.timezone.utc), acctNumber='DU7458153', exchange='EDGEA', side='BOT', shares=1.0, price=190.45, permId=1382121114, clientId=1, orderId=4, liquidation=0, cumQty=1.0, avgPrice=190.45, orderRef='', evRule='', evMultiplier=0.0, modelCode='', lastLiquidity=2), commissionReport=CommissionReport(execId='00012ec5.64ae63ca.01.01', commission=1.0, currency='USD', realizedPNL=0.0, yield_=0.0, yieldRedemptionDate=0), time=datetime.datetime(2023, 7, 12, 14, 43, 22, tzinfo=datetime.timezone.utc)),\n",
       " Fill(contract=Stock(conId=265598, symbol='AAPL', right='?', exchange='SMART', currency='USD', localSymbol='AAPL', tradingClass='NMS'), execution=Execution(execId='00012ec5.64ae64f1.01.01', time=datetime.datetime(2023, 7, 12, 14, 47, 43, tzinfo=datetime.timezone.utc), acctNumber='DU7458153', exchange='ISLAND', side='SLD', shares=1.0, price=190.21, permId=1382121115, clientId=1, orderId=5, liquidation=0, cumQty=1.0, avgPrice=190.21, orderRef='', evRule='', evMultiplier=0.0, modelCode='', lastLiquidity=2), commissionReport=CommissionReport(execId='00012ec5.64ae64f1.01.01', commission=1.001667, currency='USD', realizedPNL=-2.241667, yield_=0.0, yieldRedemptionDate=0), time=datetime.datetime(2023, 7, 12, 14, 47, 43, tzinfo=datetime.timezone.utc)),\n",
       " Fill(contract=Stock(conId=265598, symbol='AAPL', right='?', exchange='SMART', currency='USD', localSymbol='AAPL', tradingClass='NMS'), execution=Execution(execId='00012ec5.64ae653c.01.01', time=datetime.datetime(2023, 7, 12, 14, 49, 33, tzinfo=datetime.timezone.utc), acctNumber='DU7458153', exchange='EDGEA', side='BOT', shares=1.0, price=190.12, permId=1382121116, clientId=1, orderId=6, liquidation=0, cumQty=1.0, avgPrice=190.12, orderRef='', evRule='', evMultiplier=0.0, modelCode='', lastLiquidity=2), commissionReport=CommissionReport(execId='00012ec5.64ae653c.01.01', commission=1.0, currency='USD', realizedPNL=0.0, yield_=0.0, yieldRedemptionDate=0), time=datetime.datetime(2023, 7, 12, 14, 49, 33, tzinfo=datetime.timezone.utc)),\n",
       " Fill(contract=CFD(conId=143916318, symbol='EUR', exchange='SMART', currency='USD', localSymbol='EUR.USD', tradingClass='EUR.USD'), execution=Execution(execId='000132a9.64ae279f.01.01', time=datetime.datetime(2023, 7, 12, 14, 58, 39, tzinfo=datetime.timezone.utc), acctNumber='DU7458153', exchange='SMART', side='SLD', shares=10000.0, price=1.112, permId=1382121121, clientId=1, orderId=10, liquidation=0, cumQty=10000.0, avgPrice=1.112, orderRef='', evRule='', evMultiplier=0.0, modelCode='', lastLiquidity=2), commissionReport=CommissionReport(execId='000132a9.64ae279f.01.01', commission=2.0, currency='USD', realizedPNL=0.0, yield_=0.0, yieldRedemptionDate=0), time=datetime.datetime(2023, 7, 12, 14, 58, 39, 983116, tzinfo=datetime.timezone.utc)),\n",
       " Fill(contract=CFD(conId=143916318, symbol='EUR', exchange='SMART', currency='USD', localSymbol='EUR.USD', tradingClass='EUR.USD'), execution=Execution(execId='000132a9.64ae27a2.01.01', time=datetime.datetime(2023, 7, 12, 14, 59, 46, tzinfo=datetime.timezone.utc), acctNumber='DU7458153', exchange='SMART', side='SLD', shares=10000.0, price=1.11205, permId=1382121122, clientId=1, orderId=11, liquidation=0, cumQty=10000.0, avgPrice=1.11205, orderRef='', evRule='', evMultiplier=0.0, modelCode='', lastLiquidity=2), commissionReport=CommissionReport(execId='000132a9.64ae27a2.01.01', commission=2.0, currency='USD', realizedPNL=0.0, yield_=0.0, yieldRedemptionDate=0), time=datetime.datetime(2023, 7, 12, 14, 59, 46, 302437, tzinfo=datetime.timezone.utc))]"
      ]
     },
     "execution_count": 112,
     "metadata": {},
     "output_type": "execute_result"
    }
   ],
   "source": [
    "ib.fills()"
   ]
  },
  {
   "cell_type": "code",
   "execution_count": 113,
   "id": "013a8cbd",
   "metadata": {},
   "outputs": [
    {
     "data": {
      "text/html": [
       "<div>\n",
       "<style scoped>\n",
       "    .dataframe tbody tr th:only-of-type {\n",
       "        vertical-align: middle;\n",
       "    }\n",
       "\n",
       "    .dataframe tbody tr th {\n",
       "        vertical-align: top;\n",
       "    }\n",
       "\n",
       "    .dataframe thead th {\n",
       "        text-align: right;\n",
       "    }\n",
       "</style>\n",
       "<table border=\"1\" class=\"dataframe\">\n",
       "  <thead>\n",
       "    <tr style=\"text-align: right;\">\n",
       "      <th></th>\n",
       "      <th>execId</th>\n",
       "      <th>time</th>\n",
       "      <th>acctNumber</th>\n",
       "      <th>exchange</th>\n",
       "      <th>side</th>\n",
       "      <th>shares</th>\n",
       "      <th>price</th>\n",
       "      <th>permId</th>\n",
       "      <th>clientId</th>\n",
       "      <th>orderId</th>\n",
       "      <th>liquidation</th>\n",
       "      <th>cumQty</th>\n",
       "      <th>avgPrice</th>\n",
       "      <th>orderRef</th>\n",
       "      <th>evRule</th>\n",
       "      <th>evMultiplier</th>\n",
       "      <th>modelCode</th>\n",
       "      <th>lastLiquidity</th>\n",
       "    </tr>\n",
       "  </thead>\n",
       "  <tbody>\n",
       "    <tr>\n",
       "      <th>0</th>\n",
       "      <td>00012ec5.64ae63ca.01.01</td>\n",
       "      <td>2023-07-12 14:43:22+00:00</td>\n",
       "      <td>DU7458153</td>\n",
       "      <td>EDGEA</td>\n",
       "      <td>BOT</td>\n",
       "      <td>1.0</td>\n",
       "      <td>190.45000</td>\n",
       "      <td>1382121114</td>\n",
       "      <td>1</td>\n",
       "      <td>4</td>\n",
       "      <td>0</td>\n",
       "      <td>1.0</td>\n",
       "      <td>190.45000</td>\n",
       "      <td></td>\n",
       "      <td></td>\n",
       "      <td>0.0</td>\n",
       "      <td></td>\n",
       "      <td>2</td>\n",
       "    </tr>\n",
       "    <tr>\n",
       "      <th>1</th>\n",
       "      <td>00012ec5.64ae64f1.01.01</td>\n",
       "      <td>2023-07-12 14:47:43+00:00</td>\n",
       "      <td>DU7458153</td>\n",
       "      <td>ISLAND</td>\n",
       "      <td>SLD</td>\n",
       "      <td>1.0</td>\n",
       "      <td>190.21000</td>\n",
       "      <td>1382121115</td>\n",
       "      <td>1</td>\n",
       "      <td>5</td>\n",
       "      <td>0</td>\n",
       "      <td>1.0</td>\n",
       "      <td>190.21000</td>\n",
       "      <td></td>\n",
       "      <td></td>\n",
       "      <td>0.0</td>\n",
       "      <td></td>\n",
       "      <td>2</td>\n",
       "    </tr>\n",
       "    <tr>\n",
       "      <th>2</th>\n",
       "      <td>00012ec5.64ae653c.01.01</td>\n",
       "      <td>2023-07-12 14:49:33+00:00</td>\n",
       "      <td>DU7458153</td>\n",
       "      <td>EDGEA</td>\n",
       "      <td>BOT</td>\n",
       "      <td>1.0</td>\n",
       "      <td>190.12000</td>\n",
       "      <td>1382121116</td>\n",
       "      <td>1</td>\n",
       "      <td>6</td>\n",
       "      <td>0</td>\n",
       "      <td>1.0</td>\n",
       "      <td>190.12000</td>\n",
       "      <td></td>\n",
       "      <td></td>\n",
       "      <td>0.0</td>\n",
       "      <td></td>\n",
       "      <td>2</td>\n",
       "    </tr>\n",
       "    <tr>\n",
       "      <th>3</th>\n",
       "      <td>000132a9.64ae279f.01.01</td>\n",
       "      <td>2023-07-12 14:58:39+00:00</td>\n",
       "      <td>DU7458153</td>\n",
       "      <td>SMART</td>\n",
       "      <td>SLD</td>\n",
       "      <td>10000.0</td>\n",
       "      <td>1.11200</td>\n",
       "      <td>1382121121</td>\n",
       "      <td>1</td>\n",
       "      <td>10</td>\n",
       "      <td>0</td>\n",
       "      <td>10000.0</td>\n",
       "      <td>1.11200</td>\n",
       "      <td></td>\n",
       "      <td></td>\n",
       "      <td>0.0</td>\n",
       "      <td></td>\n",
       "      <td>2</td>\n",
       "    </tr>\n",
       "    <tr>\n",
       "      <th>4</th>\n",
       "      <td>000132a9.64ae27a2.01.01</td>\n",
       "      <td>2023-07-12 14:59:46+00:00</td>\n",
       "      <td>DU7458153</td>\n",
       "      <td>SMART</td>\n",
       "      <td>SLD</td>\n",
       "      <td>10000.0</td>\n",
       "      <td>1.11205</td>\n",
       "      <td>1382121122</td>\n",
       "      <td>1</td>\n",
       "      <td>11</td>\n",
       "      <td>0</td>\n",
       "      <td>10000.0</td>\n",
       "      <td>1.11205</td>\n",
       "      <td></td>\n",
       "      <td></td>\n",
       "      <td>0.0</td>\n",
       "      <td></td>\n",
       "      <td>2</td>\n",
       "    </tr>\n",
       "  </tbody>\n",
       "</table>\n",
       "</div>"
      ],
      "text/plain": [
       "                    execId                      time acctNumber exchange side  \\\n",
       "0  00012ec5.64ae63ca.01.01 2023-07-12 14:43:22+00:00  DU7458153    EDGEA  BOT   \n",
       "1  00012ec5.64ae64f1.01.01 2023-07-12 14:47:43+00:00  DU7458153   ISLAND  SLD   \n",
       "2  00012ec5.64ae653c.01.01 2023-07-12 14:49:33+00:00  DU7458153    EDGEA  BOT   \n",
       "3  000132a9.64ae279f.01.01 2023-07-12 14:58:39+00:00  DU7458153    SMART  SLD   \n",
       "4  000132a9.64ae27a2.01.01 2023-07-12 14:59:46+00:00  DU7458153    SMART  SLD   \n",
       "\n",
       "    shares      price      permId  clientId  orderId  liquidation   cumQty  \\\n",
       "0      1.0  190.45000  1382121114         1        4            0      1.0   \n",
       "1      1.0  190.21000  1382121115         1        5            0      1.0   \n",
       "2      1.0  190.12000  1382121116         1        6            0      1.0   \n",
       "3  10000.0    1.11200  1382121121         1       10            0  10000.0   \n",
       "4  10000.0    1.11205  1382121122         1       11            0  10000.0   \n",
       "\n",
       "    avgPrice orderRef evRule  evMultiplier modelCode  lastLiquidity  \n",
       "0  190.45000                           0.0                        2  \n",
       "1  190.21000                           0.0                        2  \n",
       "2  190.12000                           0.0                        2  \n",
       "3    1.11200                           0.0                        2  \n",
       "4    1.11205                           0.0                        2  "
      ]
     },
     "execution_count": 113,
     "metadata": {},
     "output_type": "execute_result"
    }
   ],
   "source": [
    "util.df([fs.execution for fs in ib.fills()]) # execution data"
   ]
  },
  {
   "cell_type": "code",
   "execution_count": 125,
   "id": "4495d098",
   "metadata": {},
   "outputs": [],
   "source": [
    "fill_df = util.df([fs.execution for fs in ib.fills()])[[\"execId\",\"time\",\"side\",\"cumQty\",\"avgPrice\"]].set_index(\"execId\")"
   ]
  },
  {
   "cell_type": "code",
   "execution_count": 126,
   "id": "a2fd34db",
   "metadata": {},
   "outputs": [
    {
     "data": {
      "text/html": [
       "<div>\n",
       "<style scoped>\n",
       "    .dataframe tbody tr th:only-of-type {\n",
       "        vertical-align: middle;\n",
       "    }\n",
       "\n",
       "    .dataframe tbody tr th {\n",
       "        vertical-align: top;\n",
       "    }\n",
       "\n",
       "    .dataframe thead th {\n",
       "        text-align: right;\n",
       "    }\n",
       "</style>\n",
       "<table border=\"1\" class=\"dataframe\">\n",
       "  <thead>\n",
       "    <tr style=\"text-align: right;\">\n",
       "      <th></th>\n",
       "      <th>time</th>\n",
       "      <th>side</th>\n",
       "      <th>cumQty</th>\n",
       "      <th>avgPrice</th>\n",
       "    </tr>\n",
       "    <tr>\n",
       "      <th>execId</th>\n",
       "      <th></th>\n",
       "      <th></th>\n",
       "      <th></th>\n",
       "      <th></th>\n",
       "    </tr>\n",
       "  </thead>\n",
       "  <tbody>\n",
       "    <tr>\n",
       "      <th>00012ec5.64ae63ca.01.01</th>\n",
       "      <td>2023-07-12 14:43:22+00:00</td>\n",
       "      <td>BOT</td>\n",
       "      <td>1.0</td>\n",
       "      <td>190.45000</td>\n",
       "    </tr>\n",
       "    <tr>\n",
       "      <th>00012ec5.64ae64f1.01.01</th>\n",
       "      <td>2023-07-12 14:47:43+00:00</td>\n",
       "      <td>SLD</td>\n",
       "      <td>1.0</td>\n",
       "      <td>190.21000</td>\n",
       "    </tr>\n",
       "    <tr>\n",
       "      <th>00012ec5.64ae653c.01.01</th>\n",
       "      <td>2023-07-12 14:49:33+00:00</td>\n",
       "      <td>BOT</td>\n",
       "      <td>1.0</td>\n",
       "      <td>190.12000</td>\n",
       "    </tr>\n",
       "    <tr>\n",
       "      <th>000132a9.64ae279f.01.01</th>\n",
       "      <td>2023-07-12 14:58:39+00:00</td>\n",
       "      <td>SLD</td>\n",
       "      <td>10000.0</td>\n",
       "      <td>1.11200</td>\n",
       "    </tr>\n",
       "    <tr>\n",
       "      <th>000132a9.64ae27a2.01.01</th>\n",
       "      <td>2023-07-12 14:59:46+00:00</td>\n",
       "      <td>SLD</td>\n",
       "      <td>10000.0</td>\n",
       "      <td>1.11205</td>\n",
       "    </tr>\n",
       "    <tr>\n",
       "      <th>000132a9.64ae27a4.01.01</th>\n",
       "      <td>2023-07-12 15:02:34+00:00</td>\n",
       "      <td>BOT</td>\n",
       "      <td>10000.0</td>\n",
       "      <td>1.11210</td>\n",
       "    </tr>\n",
       "    <tr>\n",
       "      <th>000132a9.64ae27a5.01.01</th>\n",
       "      <td>2023-07-12 15:02:44+00:00</td>\n",
       "      <td>BOT</td>\n",
       "      <td>10000.0</td>\n",
       "      <td>1.11205</td>\n",
       "    </tr>\n",
       "    <tr>\n",
       "      <th>000132a9.64ae27a6.01.01</th>\n",
       "      <td>2023-07-12 15:03:54+00:00</td>\n",
       "      <td>SLD</td>\n",
       "      <td>1.0</td>\n",
       "      <td>1.11185</td>\n",
       "    </tr>\n",
       "    <tr>\n",
       "      <th>000132a9.64ae27a7.01.01</th>\n",
       "      <td>2023-07-12 15:04:34+00:00</td>\n",
       "      <td>BOT</td>\n",
       "      <td>1.0</td>\n",
       "      <td>1.11185</td>\n",
       "    </tr>\n",
       "  </tbody>\n",
       "</table>\n",
       "</div>"
      ],
      "text/plain": [
       "                                             time side   cumQty   avgPrice\n",
       "execId                                                                    \n",
       "00012ec5.64ae63ca.01.01 2023-07-12 14:43:22+00:00  BOT      1.0  190.45000\n",
       "00012ec5.64ae64f1.01.01 2023-07-12 14:47:43+00:00  SLD      1.0  190.21000\n",
       "00012ec5.64ae653c.01.01 2023-07-12 14:49:33+00:00  BOT      1.0  190.12000\n",
       "000132a9.64ae279f.01.01 2023-07-12 14:58:39+00:00  SLD  10000.0    1.11200\n",
       "000132a9.64ae27a2.01.01 2023-07-12 14:59:46+00:00  SLD  10000.0    1.11205\n",
       "000132a9.64ae27a4.01.01 2023-07-12 15:02:34+00:00  BOT  10000.0    1.11210\n",
       "000132a9.64ae27a5.01.01 2023-07-12 15:02:44+00:00  BOT  10000.0    1.11205\n",
       "000132a9.64ae27a6.01.01 2023-07-12 15:03:54+00:00  SLD      1.0    1.11185\n",
       "000132a9.64ae27a7.01.01 2023-07-12 15:04:34+00:00  BOT      1.0    1.11185"
      ]
     },
     "execution_count": 126,
     "metadata": {},
     "output_type": "execute_result"
    }
   ],
   "source": [
    "fill_df"
   ]
  },
  {
   "cell_type": "code",
   "execution_count": 128,
   "id": "068ced09",
   "metadata": {},
   "outputs": [
    {
     "data": {
      "text/html": [
       "<div>\n",
       "<style scoped>\n",
       "    .dataframe tbody tr th:only-of-type {\n",
       "        vertical-align: middle;\n",
       "    }\n",
       "\n",
       "    .dataframe tbody tr th {\n",
       "        vertical-align: top;\n",
       "    }\n",
       "\n",
       "    .dataframe thead th {\n",
       "        text-align: right;\n",
       "    }\n",
       "</style>\n",
       "<table border=\"1\" class=\"dataframe\">\n",
       "  <thead>\n",
       "    <tr style=\"text-align: right;\">\n",
       "      <th></th>\n",
       "      <th>time</th>\n",
       "      <th>side</th>\n",
       "      <th>cumQty</th>\n",
       "      <th>avgPrice</th>\n",
       "      <th>TradeValue</th>\n",
       "    </tr>\n",
       "    <tr>\n",
       "      <th>execId</th>\n",
       "      <th></th>\n",
       "      <th></th>\n",
       "      <th></th>\n",
       "      <th></th>\n",
       "      <th></th>\n",
       "    </tr>\n",
       "  </thead>\n",
       "  <tbody>\n",
       "    <tr>\n",
       "      <th>00012ec5.64ae63ca.01.01</th>\n",
       "      <td>2023-07-12 14:43:22+00:00</td>\n",
       "      <td>BOT</td>\n",
       "      <td>1.0</td>\n",
       "      <td>190.45000</td>\n",
       "      <td>-1.904500e+02</td>\n",
       "    </tr>\n",
       "    <tr>\n",
       "      <th>00012ec5.64ae64f1.01.01</th>\n",
       "      <td>2023-07-12 14:47:43+00:00</td>\n",
       "      <td>SLD</td>\n",
       "      <td>1.0</td>\n",
       "      <td>190.21000</td>\n",
       "      <td>1.902100e+02</td>\n",
       "    </tr>\n",
       "    <tr>\n",
       "      <th>00012ec5.64ae653c.01.01</th>\n",
       "      <td>2023-07-12 14:49:33+00:00</td>\n",
       "      <td>BOT</td>\n",
       "      <td>1.0</td>\n",
       "      <td>190.12000</td>\n",
       "      <td>-1.901200e+02</td>\n",
       "    </tr>\n",
       "    <tr>\n",
       "      <th>000132a9.64ae279f.01.01</th>\n",
       "      <td>2023-07-12 14:58:39+00:00</td>\n",
       "      <td>SLD</td>\n",
       "      <td>10000.0</td>\n",
       "      <td>1.11200</td>\n",
       "      <td>1.112000e+08</td>\n",
       "    </tr>\n",
       "    <tr>\n",
       "      <th>000132a9.64ae27a2.01.01</th>\n",
       "      <td>2023-07-12 14:59:46+00:00</td>\n",
       "      <td>SLD</td>\n",
       "      <td>10000.0</td>\n",
       "      <td>1.11205</td>\n",
       "      <td>1.112050e+08</td>\n",
       "    </tr>\n",
       "    <tr>\n",
       "      <th>000132a9.64ae27a4.01.01</th>\n",
       "      <td>2023-07-12 15:02:34+00:00</td>\n",
       "      <td>BOT</td>\n",
       "      <td>10000.0</td>\n",
       "      <td>1.11210</td>\n",
       "      <td>-1.112100e+08</td>\n",
       "    </tr>\n",
       "    <tr>\n",
       "      <th>000132a9.64ae27a5.01.01</th>\n",
       "      <td>2023-07-12 15:02:44+00:00</td>\n",
       "      <td>BOT</td>\n",
       "      <td>10000.0</td>\n",
       "      <td>1.11205</td>\n",
       "      <td>-1.112050e+08</td>\n",
       "    </tr>\n",
       "    <tr>\n",
       "      <th>000132a9.64ae27a6.01.01</th>\n",
       "      <td>2023-07-12 15:03:54+00:00</td>\n",
       "      <td>SLD</td>\n",
       "      <td>1.0</td>\n",
       "      <td>1.11185</td>\n",
       "      <td>1.111850e+00</td>\n",
       "    </tr>\n",
       "    <tr>\n",
       "      <th>000132a9.64ae27a7.01.01</th>\n",
       "      <td>2023-07-12 15:04:34+00:00</td>\n",
       "      <td>BOT</td>\n",
       "      <td>1.0</td>\n",
       "      <td>1.11185</td>\n",
       "      <td>-1.111850e+00</td>\n",
       "    </tr>\n",
       "  </tbody>\n",
       "</table>\n",
       "</div>"
      ],
      "text/plain": [
       "                                             time side   cumQty   avgPrice  \\\n",
       "execId                                                                       \n",
       "00012ec5.64ae63ca.01.01 2023-07-12 14:43:22+00:00  BOT      1.0  190.45000   \n",
       "00012ec5.64ae64f1.01.01 2023-07-12 14:47:43+00:00  SLD      1.0  190.21000   \n",
       "00012ec5.64ae653c.01.01 2023-07-12 14:49:33+00:00  BOT      1.0  190.12000   \n",
       "000132a9.64ae279f.01.01 2023-07-12 14:58:39+00:00  SLD  10000.0    1.11200   \n",
       "000132a9.64ae27a2.01.01 2023-07-12 14:59:46+00:00  SLD  10000.0    1.11205   \n",
       "000132a9.64ae27a4.01.01 2023-07-12 15:02:34+00:00  BOT  10000.0    1.11210   \n",
       "000132a9.64ae27a5.01.01 2023-07-12 15:02:44+00:00  BOT  10000.0    1.11205   \n",
       "000132a9.64ae27a6.01.01 2023-07-12 15:03:54+00:00  SLD      1.0    1.11185   \n",
       "000132a9.64ae27a7.01.01 2023-07-12 15:04:34+00:00  BOT      1.0    1.11185   \n",
       "\n",
       "                           TradeValue  \n",
       "execId                                 \n",
       "00012ec5.64ae63ca.01.01 -1.904500e+02  \n",
       "00012ec5.64ae64f1.01.01  1.902100e+02  \n",
       "00012ec5.64ae653c.01.01 -1.901200e+02  \n",
       "000132a9.64ae279f.01.01  1.112000e+08  \n",
       "000132a9.64ae27a2.01.01  1.112050e+08  \n",
       "000132a9.64ae27a4.01.01 -1.112100e+08  \n",
       "000132a9.64ae27a5.01.01 -1.112050e+08  \n",
       "000132a9.64ae27a6.01.01  1.111850e+00  \n",
       "000132a9.64ae27a7.01.01 -1.111850e+00  "
      ]
     },
     "execution_count": 128,
     "metadata": {},
     "output_type": "execute_result"
    }
   ],
   "source": [
    "fill_df[\"TradeValue\"] = fill_df.side.apply(lambda x: 1 if x == \"SLD\" else -1) * fill_df.cumQty * fill_df.cumQty * fill_df.avgPrice\n",
    "fill_df"
   ]
  },
  {
   "cell_type": "code",
   "execution_count": 129,
   "id": "efc90b67",
   "metadata": {},
   "outputs": [
    {
     "data": {
      "text/plain": [
       "-10190.360000005936"
      ]
     },
     "execution_count": 129,
     "metadata": {},
     "output_type": "execute_result"
    }
   ],
   "source": [
    "fill_df.TradeValue.sum()"
   ]
  },
  {
   "cell_type": "code",
   "execution_count": 130,
   "id": "1c770a87",
   "metadata": {},
   "outputs": [
    {
     "data": {
      "text/html": [
       "<div>\n",
       "<style scoped>\n",
       "    .dataframe tbody tr th:only-of-type {\n",
       "        vertical-align: middle;\n",
       "    }\n",
       "\n",
       "    .dataframe tbody tr th {\n",
       "        vertical-align: top;\n",
       "    }\n",
       "\n",
       "    .dataframe thead th {\n",
       "        text-align: right;\n",
       "    }\n",
       "</style>\n",
       "<table border=\"1\" class=\"dataframe\">\n",
       "  <thead>\n",
       "    <tr style=\"text-align: right;\">\n",
       "      <th></th>\n",
       "      <th>execId</th>\n",
       "      <th>commission</th>\n",
       "      <th>currency</th>\n",
       "      <th>realizedPNL</th>\n",
       "      <th>yield_</th>\n",
       "      <th>yieldRedemptionDate</th>\n",
       "    </tr>\n",
       "  </thead>\n",
       "  <tbody>\n",
       "    <tr>\n",
       "      <th>0</th>\n",
       "      <td>00012ec5.64ae63ca.01.01</td>\n",
       "      <td>1.000000</td>\n",
       "      <td>USD</td>\n",
       "      <td>0.000000</td>\n",
       "      <td>0.0</td>\n",
       "      <td>0</td>\n",
       "    </tr>\n",
       "    <tr>\n",
       "      <th>1</th>\n",
       "      <td>00012ec5.64ae64f1.01.01</td>\n",
       "      <td>1.001667</td>\n",
       "      <td>USD</td>\n",
       "      <td>-2.241667</td>\n",
       "      <td>0.0</td>\n",
       "      <td>0</td>\n",
       "    </tr>\n",
       "    <tr>\n",
       "      <th>2</th>\n",
       "      <td>00012ec5.64ae653c.01.01</td>\n",
       "      <td>1.000000</td>\n",
       "      <td>USD</td>\n",
       "      <td>0.000000</td>\n",
       "      <td>0.0</td>\n",
       "      <td>0</td>\n",
       "    </tr>\n",
       "    <tr>\n",
       "      <th>3</th>\n",
       "      <td>000132a9.64ae279f.01.01</td>\n",
       "      <td>2.000000</td>\n",
       "      <td>USD</td>\n",
       "      <td>0.000000</td>\n",
       "      <td>0.0</td>\n",
       "      <td>0</td>\n",
       "    </tr>\n",
       "    <tr>\n",
       "      <th>4</th>\n",
       "      <td>000132a9.64ae27a2.01.01</td>\n",
       "      <td>2.000000</td>\n",
       "      <td>USD</td>\n",
       "      <td>0.000000</td>\n",
       "      <td>0.0</td>\n",
       "      <td>0</td>\n",
       "    </tr>\n",
       "    <tr>\n",
       "      <th>5</th>\n",
       "      <td>000132a9.64ae27a4.01.01</td>\n",
       "      <td>2.000000</td>\n",
       "      <td>USD</td>\n",
       "      <td>-4.750000</td>\n",
       "      <td>0.0</td>\n",
       "      <td>0</td>\n",
       "    </tr>\n",
       "    <tr>\n",
       "      <th>6</th>\n",
       "      <td>000132a9.64ae27a5.01.01</td>\n",
       "      <td>2.000000</td>\n",
       "      <td>USD</td>\n",
       "      <td>-4.250000</td>\n",
       "      <td>0.0</td>\n",
       "      <td>0</td>\n",
       "    </tr>\n",
       "    <tr>\n",
       "      <th>7</th>\n",
       "      <td>000132a9.64ae27a6.01.01</td>\n",
       "      <td>2.000000</td>\n",
       "      <td>USD</td>\n",
       "      <td>0.000000</td>\n",
       "      <td>0.0</td>\n",
       "      <td>0</td>\n",
       "    </tr>\n",
       "    <tr>\n",
       "      <th>8</th>\n",
       "      <td>000132a9.64ae27a7.01.01</td>\n",
       "      <td>2.000000</td>\n",
       "      <td>USD</td>\n",
       "      <td>-4.000000</td>\n",
       "      <td>0.0</td>\n",
       "      <td>0</td>\n",
       "    </tr>\n",
       "  </tbody>\n",
       "</table>\n",
       "</div>"
      ],
      "text/plain": [
       "                    execId  commission currency  realizedPNL  yield_  \\\n",
       "0  00012ec5.64ae63ca.01.01    1.000000      USD     0.000000     0.0   \n",
       "1  00012ec5.64ae64f1.01.01    1.001667      USD    -2.241667     0.0   \n",
       "2  00012ec5.64ae653c.01.01    1.000000      USD     0.000000     0.0   \n",
       "3  000132a9.64ae279f.01.01    2.000000      USD     0.000000     0.0   \n",
       "4  000132a9.64ae27a2.01.01    2.000000      USD     0.000000     0.0   \n",
       "5  000132a9.64ae27a4.01.01    2.000000      USD    -4.750000     0.0   \n",
       "6  000132a9.64ae27a5.01.01    2.000000      USD    -4.250000     0.0   \n",
       "7  000132a9.64ae27a6.01.01    2.000000      USD     0.000000     0.0   \n",
       "8  000132a9.64ae27a7.01.01    2.000000      USD    -4.000000     0.0   \n",
       "\n",
       "   yieldRedemptionDate  \n",
       "0                    0  \n",
       "1                    0  \n",
       "2                    0  \n",
       "3                    0  \n",
       "4                    0  \n",
       "5                    0  \n",
       "6                    0  \n",
       "7                    0  \n",
       "8                    0  "
      ]
     },
     "execution_count": 130,
     "metadata": {},
     "output_type": "execute_result"
    }
   ],
   "source": [
    "util.df([fs.commissionReport for fs in ib.fills()]) # commission and PNL data"
   ]
  },
  {
   "cell_type": "code",
   "execution_count": 132,
   "id": "f47c9ee9",
   "metadata": {},
   "outputs": [
    {
     "data": {
      "text/html": [
       "<div>\n",
       "<style scoped>\n",
       "    .dataframe tbody tr th:only-of-type {\n",
       "        vertical-align: middle;\n",
       "    }\n",
       "\n",
       "    .dataframe tbody tr th {\n",
       "        vertical-align: top;\n",
       "    }\n",
       "\n",
       "    .dataframe thead th {\n",
       "        text-align: right;\n",
       "    }\n",
       "</style>\n",
       "<table border=\"1\" class=\"dataframe\">\n",
       "  <thead>\n",
       "    <tr style=\"text-align: right;\">\n",
       "      <th></th>\n",
       "      <th>currency</th>\n",
       "      <th>commission</th>\n",
       "      <th>realizedPNL</th>\n",
       "    </tr>\n",
       "    <tr>\n",
       "      <th>execId</th>\n",
       "      <th></th>\n",
       "      <th></th>\n",
       "      <th></th>\n",
       "    </tr>\n",
       "  </thead>\n",
       "  <tbody>\n",
       "    <tr>\n",
       "      <th>00012ec5.64ae63ca.01.01</th>\n",
       "      <td>USD</td>\n",
       "      <td>1.000000</td>\n",
       "      <td>0.000000</td>\n",
       "    </tr>\n",
       "    <tr>\n",
       "      <th>00012ec5.64ae64f1.01.01</th>\n",
       "      <td>USD</td>\n",
       "      <td>1.001667</td>\n",
       "      <td>-2.241667</td>\n",
       "    </tr>\n",
       "    <tr>\n",
       "      <th>00012ec5.64ae653c.01.01</th>\n",
       "      <td>USD</td>\n",
       "      <td>1.000000</td>\n",
       "      <td>0.000000</td>\n",
       "    </tr>\n",
       "    <tr>\n",
       "      <th>000132a9.64ae279f.01.01</th>\n",
       "      <td>USD</td>\n",
       "      <td>2.000000</td>\n",
       "      <td>0.000000</td>\n",
       "    </tr>\n",
       "    <tr>\n",
       "      <th>000132a9.64ae27a2.01.01</th>\n",
       "      <td>USD</td>\n",
       "      <td>2.000000</td>\n",
       "      <td>0.000000</td>\n",
       "    </tr>\n",
       "    <tr>\n",
       "      <th>000132a9.64ae27a4.01.01</th>\n",
       "      <td>USD</td>\n",
       "      <td>2.000000</td>\n",
       "      <td>-4.750000</td>\n",
       "    </tr>\n",
       "    <tr>\n",
       "      <th>000132a9.64ae27a5.01.01</th>\n",
       "      <td>USD</td>\n",
       "      <td>2.000000</td>\n",
       "      <td>-4.250000</td>\n",
       "    </tr>\n",
       "    <tr>\n",
       "      <th>000132a9.64ae27a6.01.01</th>\n",
       "      <td>USD</td>\n",
       "      <td>2.000000</td>\n",
       "      <td>0.000000</td>\n",
       "    </tr>\n",
       "    <tr>\n",
       "      <th>000132a9.64ae27a7.01.01</th>\n",
       "      <td>USD</td>\n",
       "      <td>2.000000</td>\n",
       "      <td>-4.000000</td>\n",
       "    </tr>\n",
       "  </tbody>\n",
       "</table>\n",
       "</div>"
      ],
      "text/plain": [
       "                        currency  commission  realizedPNL\n",
       "execId                                                   \n",
       "00012ec5.64ae63ca.01.01      USD    1.000000     0.000000\n",
       "00012ec5.64ae64f1.01.01      USD    1.001667    -2.241667\n",
       "00012ec5.64ae653c.01.01      USD    1.000000     0.000000\n",
       "000132a9.64ae279f.01.01      USD    2.000000     0.000000\n",
       "000132a9.64ae27a2.01.01      USD    2.000000     0.000000\n",
       "000132a9.64ae27a4.01.01      USD    2.000000    -4.750000\n",
       "000132a9.64ae27a5.01.01      USD    2.000000    -4.250000\n",
       "000132a9.64ae27a6.01.01      USD    2.000000     0.000000\n",
       "000132a9.64ae27a7.01.01      USD    2.000000    -4.000000"
      ]
     },
     "execution_count": 132,
     "metadata": {},
     "output_type": "execute_result"
    }
   ],
   "source": [
    "profit_df = util.df([fs.commissionReport for fs in ib.fills()])[[\"execId\",\"currency\",\"commission\", \"realizedPNL\"]].set_index(\"execId\")\n",
    "profit_df\n"
   ]
  },
  {
   "cell_type": "code",
   "execution_count": 133,
   "id": "1ef2c37e",
   "metadata": {},
   "outputs": [
    {
     "data": {
      "text/plain": [
       "-15.241667"
      ]
     },
     "execution_count": 133,
     "metadata": {},
     "output_type": "execute_result"
    }
   ],
   "source": [
    "profit_df.realizedPNL.sum()"
   ]
  },
  {
   "cell_type": "markdown",
   "id": "c289a8f5",
   "metadata": {},
   "source": [
    "Total Commissions (in USD) + Sum of trade Values == Total PNL"
   ]
  },
  {
   "cell_type": "code",
   "execution_count": 136,
   "id": "847c8cfc",
   "metadata": {},
   "outputs": [
    {
     "data": {
      "text/plain": [
       "-11152.886790263414"
      ]
     },
     "execution_count": 136,
     "metadata": {},
     "output_type": "execute_result"
    }
   ],
   "source": [
    "- profit_df.commission.sum() * fill_df.avgPrice.mean() + fill_df.TradeValue.sum()"
   ]
  },
  {
   "cell_type": "code",
   "execution_count": 137,
   "id": "e84f2a41",
   "metadata": {},
   "outputs": [],
   "source": [
    "ib.disconnect()"
   ]
  },
  {
   "cell_type": "markdown",
   "id": "d0b51e69",
   "metadata": {},
   "source": [
    "## Positions and Account Values"
   ]
  },
  {
   "cell_type": "code",
   "execution_count": 138,
   "id": "9af832f7",
   "metadata": {},
   "outputs": [],
   "source": [
    "import pandas as pd \n",
    "from ib_insync import *\n",
    "util.startLoop()"
   ]
  },
  {
   "cell_type": "code",
   "execution_count": 139,
   "id": "5705e156",
   "metadata": {},
   "outputs": [],
   "source": [
    "ib = IB()"
   ]
  },
  {
   "cell_type": "code",
   "execution_count": 140,
   "id": "e93e54d9",
   "metadata": {},
   "outputs": [
    {
     "data": {
      "text/plain": [
       "<IB connected to 127.0.0.1:7497 clientId=1>"
      ]
     },
     "execution_count": 140,
     "metadata": {},
     "output_type": "execute_result"
    }
   ],
   "source": [
    "ib.connect()"
   ]
  },
  {
   "cell_type": "code",
   "execution_count": 141,
   "id": "42d133a2",
   "metadata": {},
   "outputs": [
    {
     "data": {
      "text/plain": [
       "[Position(account='DU7458153', contract=Stock(conId=265598, symbol='AAPL', exchange='NASDAQ', currency='USD', localSymbol='AAPL', tradingClass='NMS'), position=1.0, avgCost=191.12)]"
      ]
     },
     "execution_count": 141,
     "metadata": {},
     "output_type": "execute_result"
    }
   ],
   "source": [
    "pos = ib.positions()\n",
    "pos"
   ]
  },
  {
   "cell_type": "code",
   "execution_count": 142,
   "id": "7caf1cc9",
   "metadata": {},
   "outputs": [
    {
     "data": {
      "text/html": [
       "<div>\n",
       "<style scoped>\n",
       "    .dataframe tbody tr th:only-of-type {\n",
       "        vertical-align: middle;\n",
       "    }\n",
       "\n",
       "    .dataframe tbody tr th {\n",
       "        vertical-align: top;\n",
       "    }\n",
       "\n",
       "    .dataframe thead th {\n",
       "        text-align: right;\n",
       "    }\n",
       "</style>\n",
       "<table border=\"1\" class=\"dataframe\">\n",
       "  <thead>\n",
       "    <tr style=\"text-align: right;\">\n",
       "      <th></th>\n",
       "      <th>account</th>\n",
       "      <th>contract</th>\n",
       "      <th>position</th>\n",
       "      <th>avgCost</th>\n",
       "    </tr>\n",
       "  </thead>\n",
       "  <tbody>\n",
       "    <tr>\n",
       "      <th>0</th>\n",
       "      <td>DU7458153</td>\n",
       "      <td>Stock(conId=265598, symbol='AAPL', exchange='N...</td>\n",
       "      <td>1.0</td>\n",
       "      <td>191.12</td>\n",
       "    </tr>\n",
       "  </tbody>\n",
       "</table>\n",
       "</div>"
      ],
      "text/plain": [
       "     account                                           contract  position  \\\n",
       "0  DU7458153  Stock(conId=265598, symbol='AAPL', exchange='N...       1.0   \n",
       "\n",
       "   avgCost  \n",
       "0   191.12  "
      ]
     },
     "execution_count": 142,
     "metadata": {},
     "output_type": "execute_result"
    }
   ],
   "source": [
    "df = util.df(pos)\n",
    "df"
   ]
  },
  {
   "cell_type": "code",
   "execution_count": 143,
   "id": "47458dc7",
   "metadata": {},
   "outputs": [],
   "source": [
    "df[\"symbol\"] = df.contract.apply(lambda x: x.symbol)\n",
    "df[\"conId\"] = df.contract.apply(lambda x: x.conId)"
   ]
  },
  {
   "cell_type": "code",
   "execution_count": 144,
   "id": "6604ae1f",
   "metadata": {},
   "outputs": [
    {
     "data": {
      "text/html": [
       "<div>\n",
       "<style scoped>\n",
       "    .dataframe tbody tr th:only-of-type {\n",
       "        vertical-align: middle;\n",
       "    }\n",
       "\n",
       "    .dataframe tbody tr th {\n",
       "        vertical-align: top;\n",
       "    }\n",
       "\n",
       "    .dataframe thead th {\n",
       "        text-align: right;\n",
       "    }\n",
       "</style>\n",
       "<table border=\"1\" class=\"dataframe\">\n",
       "  <thead>\n",
       "    <tr style=\"text-align: right;\">\n",
       "      <th></th>\n",
       "      <th>account</th>\n",
       "      <th>contract</th>\n",
       "      <th>position</th>\n",
       "      <th>avgCost</th>\n",
       "      <th>symbol</th>\n",
       "      <th>conId</th>\n",
       "    </tr>\n",
       "  </thead>\n",
       "  <tbody>\n",
       "    <tr>\n",
       "      <th>0</th>\n",
       "      <td>DU7458153</td>\n",
       "      <td>Stock(conId=265598, symbol='AAPL', exchange='N...</td>\n",
       "      <td>1.0</td>\n",
       "      <td>191.12</td>\n",
       "      <td>AAPL</td>\n",
       "      <td>265598</td>\n",
       "    </tr>\n",
       "  </tbody>\n",
       "</table>\n",
       "</div>"
      ],
      "text/plain": [
       "     account                                           contract  position  \\\n",
       "0  DU7458153  Stock(conId=265598, symbol='AAPL', exchange='N...       1.0   \n",
       "\n",
       "   avgCost symbol   conId  \n",
       "0   191.12   AAPL  265598  "
      ]
     },
     "execution_count": 144,
     "metadata": {},
     "output_type": "execute_result"
    }
   ],
   "source": [
    "df"
   ]
  },
  {
   "cell_type": "code",
   "execution_count": 145,
   "id": "5a2850d0",
   "metadata": {},
   "outputs": [
    {
     "data": {
      "text/plain": [
       "[AccountValue(account='DU7458153', tag='AccountCode', value='DU7458153', currency='', modelCode=''),\n",
       " AccountValue(account='DU7458153', tag='AccountOrGroup', value='DU7458153', currency='BASE', modelCode=''),\n",
       " AccountValue(account='DU7458153', tag='AccountOrGroup', value='DU7458153', currency='USD', modelCode=''),\n",
       " AccountValue(account='DU7458153', tag='AccountReady', value='true', currency='', modelCode=''),\n",
       " AccountValue(account='DU7458153', tag='AccountType', value='INDIVIDUAL', currency='', modelCode=''),\n",
       " AccountValue(account='DU7458153', tag='AccruedCash', value='125.68', currency='BASE', modelCode=''),\n",
       " AccountValue(account='DU7458153', tag='AccruedCash', value='125.68', currency='USD', modelCode=''),\n",
       " AccountValue(account='DU7458153', tag='AccruedCash-C', value='0.00', currency='USD', modelCode=''),\n",
       " AccountValue(account='DU7458153', tag='AccruedCash-S', value='125.68', currency='USD', modelCode=''),\n",
       " AccountValue(account='DU7458153', tag='AccruedDividend', value='0.00', currency='USD', modelCode=''),\n",
       " AccountValue(account='DU7458153', tag='AccruedDividend-C', value='0.00', currency='USD', modelCode=''),\n",
       " AccountValue(account='DU7458153', tag='AccruedDividend-S', value='0.00', currency='USD', modelCode=''),\n",
       " AccountValue(account='DU7458153', tag='AvailableFunds', value='999920.68', currency='USD', modelCode=''),\n",
       " AccountValue(account='DU7458153', tag='AvailableFunds-C', value='0.00', currency='USD', modelCode=''),\n",
       " AccountValue(account='DU7458153', tag='AvailableFunds-S', value='999920.68', currency='USD', modelCode=''),\n",
       " AccountValue(account='DU7458153', tag='Billable', value='0.00', currency='USD', modelCode=''),\n",
       " AccountValue(account='DU7458153', tag='Billable-C', value='0.00', currency='USD', modelCode=''),\n",
       " AccountValue(account='DU7458153', tag='Billable-S', value='0.00', currency='USD', modelCode=''),\n",
       " AccountValue(account='DU7458153', tag='BuyingPower', value='3999682.72', currency='USD', modelCode=''),\n",
       " AccountValue(account='DU7458153', tag='CashBalance', value='999794.6383', currency='BASE', modelCode=''),\n",
       " AccountValue(account='DU7458153', tag='CashBalance', value='999794.6383', currency='USD', modelCode=''),\n",
       " AccountValue(account='DU7458153', tag='ColumnPrio-C', value='2', currency='', modelCode=''),\n",
       " AccountValue(account='DU7458153', tag='ColumnPrio-S', value='1', currency='', modelCode=''),\n",
       " AccountValue(account='DU7458153', tag='CorporateBondValue', value='0.00', currency='BASE', modelCode=''),\n",
       " AccountValue(account='DU7458153', tag='CorporateBondValue', value='0.00', currency='USD', modelCode=''),\n",
       " AccountValue(account='DU7458153', tag='Currency', value='BASE', currency='BASE', modelCode=''),\n",
       " AccountValue(account='DU7458153', tag='Currency', value='USD', currency='USD', modelCode=''),\n",
       " AccountValue(account='DU7458153', tag='Cushion', value='1', currency='', modelCode=''),\n",
       " AccountValue(account='DU7458153', tag='DayTradesRemaining', value='-1', currency='', modelCode=''),\n",
       " AccountValue(account='DU7458153', tag='DayTradesRemainingT+1', value='-1', currency='', modelCode=''),\n",
       " AccountValue(account='DU7458153', tag='DayTradesRemainingT+2', value='-1', currency='', modelCode=''),\n",
       " AccountValue(account='DU7458153', tag='DayTradesRemainingT+3', value='-1', currency='', modelCode=''),\n",
       " AccountValue(account='DU7458153', tag='DayTradesRemainingT+4', value='-1', currency='', modelCode=''),\n",
       " AccountValue(account='DU7458153', tag='EquityWithLoanValue', value='999983.28', currency='USD', modelCode=''),\n",
       " AccountValue(account='DU7458153', tag='EquityWithLoanValue-C', value='0.00', currency='USD', modelCode=''),\n",
       " AccountValue(account='DU7458153', tag='EquityWithLoanValue-S', value='999983.28', currency='USD', modelCode=''),\n",
       " AccountValue(account='DU7458153', tag='ExcessLiquidity', value='999926.44', currency='USD', modelCode=''),\n",
       " AccountValue(account='DU7458153', tag='ExcessLiquidity-C', value='0.00', currency='USD', modelCode=''),\n",
       " AccountValue(account='DU7458153', tag='ExcessLiquidity-S', value='999926.44', currency='USD', modelCode=''),\n",
       " AccountValue(account='DU7458153', tag='ExchangeRate', value='1.00', currency='BASE', modelCode=''),\n",
       " AccountValue(account='DU7458153', tag='ExchangeRate', value='1.00', currency='USD', modelCode=''),\n",
       " AccountValue(account='DU7458153', tag='FullAvailableFunds', value='999920.68', currency='USD', modelCode=''),\n",
       " AccountValue(account='DU7458153', tag='FullAvailableFunds-C', value='0.00', currency='USD', modelCode=''),\n",
       " AccountValue(account='DU7458153', tag='FullAvailableFunds-S', value='999920.68', currency='USD', modelCode=''),\n",
       " AccountValue(account='DU7458153', tag='FullExcessLiquidity', value='999926.44', currency='USD', modelCode=''),\n",
       " AccountValue(account='DU7458153', tag='FullExcessLiquidity-C', value='0.00', currency='USD', modelCode=''),\n",
       " AccountValue(account='DU7458153', tag='FullExcessLiquidity-S', value='999926.44', currency='USD', modelCode=''),\n",
       " AccountValue(account='DU7458153', tag='FullInitMarginReq', value='62.60', currency='USD', modelCode=''),\n",
       " AccountValue(account='DU7458153', tag='FullInitMarginReq-C', value='0.00', currency='USD', modelCode=''),\n",
       " AccountValue(account='DU7458153', tag='FullInitMarginReq-S', value='62.60', currency='USD', modelCode=''),\n",
       " AccountValue(account='DU7458153', tag='FullMaintMarginReq', value='56.91', currency='USD', modelCode=''),\n",
       " AccountValue(account='DU7458153', tag='FullMaintMarginReq-C', value='0.00', currency='USD', modelCode=''),\n",
       " AccountValue(account='DU7458153', tag='FullMaintMarginReq-S', value='56.91', currency='USD', modelCode=''),\n",
       " AccountValue(account='DU7458153', tag='FundValue', value='0.00', currency='BASE', modelCode=''),\n",
       " AccountValue(account='DU7458153', tag='FundValue', value='0.00', currency='USD', modelCode=''),\n",
       " AccountValue(account='DU7458153', tag='FutureOptionValue', value='0.00', currency='BASE', modelCode=''),\n",
       " AccountValue(account='DU7458153', tag='FutureOptionValue', value='0.00', currency='USD', modelCode=''),\n",
       " AccountValue(account='DU7458153', tag='FuturesPNL', value='0.00', currency='BASE', modelCode=''),\n",
       " AccountValue(account='DU7458153', tag='FuturesPNL', value='0.00', currency='USD', modelCode=''),\n",
       " AccountValue(account='DU7458153', tag='FxCashBalance', value='0.00', currency='BASE', modelCode=''),\n",
       " AccountValue(account='DU7458153', tag='FxCashBalance', value='0.00', currency='USD', modelCode=''),\n",
       " AccountValue(account='DU7458153', tag='GrossPositionValue', value='189.71', currency='USD', modelCode=''),\n",
       " AccountValue(account='DU7458153', tag='GrossPositionValue-S', value='189.71', currency='USD', modelCode=''),\n",
       " AccountValue(account='DU7458153', tag='Guarantee', value='0.00', currency='USD', modelCode=''),\n",
       " AccountValue(account='DU7458153', tag='Guarantee-C', value='0.00', currency='USD', modelCode=''),\n",
       " AccountValue(account='DU7458153', tag='Guarantee-S', value='0.00', currency='USD', modelCode=''),\n",
       " AccountValue(account='DU7458153', tag='IndianStockHaircut', value='0.00', currency='USD', modelCode=''),\n",
       " AccountValue(account='DU7458153', tag='IndianStockHaircut-C', value='0.00', currency='USD', modelCode=''),\n",
       " AccountValue(account='DU7458153', tag='IndianStockHaircut-S', value='0.00', currency='USD', modelCode=''),\n",
       " AccountValue(account='DU7458153', tag='InitMarginReq', value='62.60', currency='USD', modelCode=''),\n",
       " AccountValue(account='DU7458153', tag='InitMarginReq-C', value='0.00', currency='USD', modelCode=''),\n",
       " AccountValue(account='DU7458153', tag='InitMarginReq-S', value='62.60', currency='USD', modelCode=''),\n",
       " AccountValue(account='DU7458153', tag='IssuerOptionValue', value='0.00', currency='BASE', modelCode=''),\n",
       " AccountValue(account='DU7458153', tag='IssuerOptionValue', value='0.00', currency='USD', modelCode=''),\n",
       " AccountValue(account='DU7458153', tag='Leverage-S', value='0.00', currency='', modelCode=''),\n",
       " AccountValue(account='DU7458153', tag='LookAheadAvailableFunds', value='999920.68', currency='USD', modelCode=''),\n",
       " AccountValue(account='DU7458153', tag='LookAheadAvailableFunds-C', value='0.00', currency='USD', modelCode=''),\n",
       " AccountValue(account='DU7458153', tag='LookAheadAvailableFunds-S', value='999920.68', currency='USD', modelCode=''),\n",
       " AccountValue(account='DU7458153', tag='LookAheadExcessLiquidity', value='999926.44', currency='USD', modelCode=''),\n",
       " AccountValue(account='DU7458153', tag='LookAheadExcessLiquidity-C', value='0.00', currency='USD', modelCode=''),\n",
       " AccountValue(account='DU7458153', tag='LookAheadExcessLiquidity-S', value='999926.44', currency='USD', modelCode=''),\n",
       " AccountValue(account='DU7458153', tag='LookAheadInitMarginReq', value='62.60', currency='USD', modelCode=''),\n",
       " AccountValue(account='DU7458153', tag='LookAheadInitMarginReq-C', value='0.00', currency='USD', modelCode=''),\n",
       " AccountValue(account='DU7458153', tag='LookAheadInitMarginReq-S', value='62.60', currency='USD', modelCode=''),\n",
       " AccountValue(account='DU7458153', tag='LookAheadMaintMarginReq', value='56.91', currency='USD', modelCode=''),\n",
       " AccountValue(account='DU7458153', tag='LookAheadMaintMarginReq-C', value='0.00', currency='USD', modelCode=''),\n",
       " AccountValue(account='DU7458153', tag='LookAheadMaintMarginReq-S', value='56.91', currency='USD', modelCode=''),\n",
       " AccountValue(account='DU7458153', tag='LookAheadNextChange', value='0', currency='', modelCode=''),\n",
       " AccountValue(account='DU7458153', tag='MaintMarginReq', value='56.91', currency='USD', modelCode=''),\n",
       " AccountValue(account='DU7458153', tag='MaintMarginReq-C', value='0.00', currency='USD', modelCode=''),\n",
       " AccountValue(account='DU7458153', tag='MaintMarginReq-S', value='56.91', currency='USD', modelCode=''),\n",
       " AccountValue(account='DU7458153', tag='MoneyMarketFundValue', value='0.00', currency='BASE', modelCode=''),\n",
       " AccountValue(account='DU7458153', tag='MoneyMarketFundValue', value='0.00', currency='USD', modelCode=''),\n",
       " AccountValue(account='DU7458153', tag='MutualFundValue', value='0.00', currency='BASE', modelCode=''),\n",
       " AccountValue(account='DU7458153', tag='MutualFundValue', value='0.00', currency='USD', modelCode=''),\n",
       " AccountValue(account='DU7458153', tag='NLVAndMarginInReview', value='false', currency='', modelCode=''),\n",
       " AccountValue(account='DU7458153', tag='NetDividend', value='0.00', currency='BASE', modelCode=''),\n",
       " AccountValue(account='DU7458153', tag='NetDividend', value='0.00', currency='USD', modelCode=''),\n",
       " AccountValue(account='DU7458153', tag='NetLiquidation', value='1000109.03', currency='USD', modelCode=''),\n",
       " AccountValue(account='DU7458153', tag='NetLiquidation-C', value='0.00', currency='USD', modelCode=''),\n",
       " AccountValue(account='DU7458153', tag='NetLiquidation-S', value='1000109.03', currency='USD', modelCode=''),\n",
       " AccountValue(account='DU7458153', tag='NetLiquidationByCurrency', value='1000109.0285', currency='BASE', modelCode=''),\n",
       " AccountValue(account='DU7458153', tag='NetLiquidationByCurrency', value='1000109.0285', currency='USD', modelCode=''),\n",
       " AccountValue(account='DU7458153', tag='NetLiquidationUncertainty', value='0.06', currency='USD', modelCode=''),\n",
       " AccountValue(account='DU7458153', tag='OptionMarketValue', value='0.00', currency='BASE', modelCode=''),\n",
       " AccountValue(account='DU7458153', tag='OptionMarketValue', value='0.00', currency='USD', modelCode=''),\n",
       " AccountValue(account='DU7458153', tag='PASharesValue', value='0.00', currency='USD', modelCode=''),\n",
       " AccountValue(account='DU7458153', tag='PASharesValue-C', value='0.00', currency='USD', modelCode=''),\n",
       " AccountValue(account='DU7458153', tag='PASharesValue-S', value='0.00', currency='USD', modelCode=''),\n",
       " AccountValue(account='DU7458153', tag='PhysicalCertificateValue', value='0.00', currency='USD', modelCode=''),\n",
       " AccountValue(account='DU7458153', tag='PhysicalCertificateValue-C', value='0.00', currency='USD', modelCode=''),\n",
       " AccountValue(account='DU7458153', tag='PhysicalCertificateValue-S', value='0.00', currency='USD', modelCode=''),\n",
       " AccountValue(account='DU7458153', tag='PostExpirationExcess', value='0.00', currency='USD', modelCode=''),\n",
       " AccountValue(account='DU7458153', tag='PostExpirationExcess-C', value='0.00', currency='USD', modelCode=''),\n",
       " AccountValue(account='DU7458153', tag='PostExpirationExcess-S', value='0.00', currency='USD', modelCode=''),\n",
       " AccountValue(account='DU7458153', tag='PostExpirationMargin', value='0.00', currency='USD', modelCode=''),\n",
       " AccountValue(account='DU7458153', tag='PostExpirationMargin-C', value='0.00', currency='USD', modelCode=''),\n",
       " AccountValue(account='DU7458153', tag='PostExpirationMargin-S', value='0.00', currency='USD', modelCode=''),\n",
       " AccountValue(account='DU7458153', tag='PreviousDayEquityWithLoanValue', value='1000000.00', currency='USD', modelCode=''),\n",
       " AccountValue(account='DU7458153', tag='PreviousDayEquityWithLoanValue-S', value='1000000.00', currency='USD', modelCode=''),\n",
       " AccountValue(account='DU7458153', tag='RealCurrency', value='BASE', currency='BASE', modelCode=''),\n",
       " AccountValue(account='DU7458153', tag='RealCurrency', value='USD', currency='USD', modelCode=''),\n",
       " AccountValue(account='DU7458153', tag='RealizedPnL', value='-15.24', currency='BASE', modelCode=''),\n",
       " AccountValue(account='DU7458153', tag='RealizedPnL', value='-15.24', currency='USD', modelCode=''),\n",
       " AccountValue(account='DU7458153', tag='RegTEquity', value='1000109.03', currency='USD', modelCode=''),\n",
       " AccountValue(account='DU7458153', tag='RegTEquity-S', value='1000109.03', currency='USD', modelCode=''),\n",
       " AccountValue(account='DU7458153', tag='RegTMargin', value='94.86', currency='USD', modelCode=''),\n",
       " AccountValue(account='DU7458153', tag='RegTMargin-S', value='94.86', currency='USD', modelCode=''),\n",
       " AccountValue(account='DU7458153', tag='SMA', value='1000027.38', currency='USD', modelCode=''),\n",
       " AccountValue(account='DU7458153', tag='SMA-S', value='1000027.38', currency='USD', modelCode=''),\n",
       " AccountValue(account='DU7458153', tag='SegmentTitle-C', value='US Commodities', currency='', modelCode=''),\n",
       " AccountValue(account='DU7458153', tag='SegmentTitle-S', value='US Securities', currency='', modelCode=''),\n",
       " AccountValue(account='DU7458153', tag='StockMarketValue', value='189.71', currency='BASE', modelCode=''),\n",
       " AccountValue(account='DU7458153', tag='StockMarketValue', value='189.71', currency='USD', modelCode=''),\n",
       " AccountValue(account='DU7458153', tag='TBillValue', value='0.00', currency='BASE', modelCode=''),\n",
       " AccountValue(account='DU7458153', tag='TBillValue', value='0.00', currency='USD', modelCode=''),\n",
       " AccountValue(account='DU7458153', tag='TBondValue', value='0.00', currency='BASE', modelCode=''),\n",
       " AccountValue(account='DU7458153', tag='TBondValue', value='0.00', currency='USD', modelCode=''),\n",
       " AccountValue(account='DU7458153', tag='TotalCashBalance', value='999794.6383', currency='BASE', modelCode=''),\n",
       " AccountValue(account='DU7458153', tag='TotalCashBalance', value='999794.6383', currency='USD', modelCode=''),\n",
       " AccountValue(account='DU7458153', tag='TotalCashValue', value='999794.64', currency='USD', modelCode=''),\n",
       " AccountValue(account='DU7458153', tag='TotalCashValue-C', value='0.00', currency='USD', modelCode=''),\n",
       " AccountValue(account='DU7458153', tag='TotalCashValue-S', value='999794.64', currency='USD', modelCode=''),\n",
       " AccountValue(account='DU7458153', tag='TotalDebitCardPendingCharges', value='0.00', currency='USD', modelCode=''),\n",
       " AccountValue(account='DU7458153', tag='TotalDebitCardPendingCharges-C', value='0.00', currency='USD', modelCode=''),\n",
       " AccountValue(account='DU7458153', tag='TotalDebitCardPendingCharges-S', value='0.00', currency='USD', modelCode=''),\n",
       " AccountValue(account='DU7458153', tag='TradingType-S', value='STKNOPT', currency='', modelCode=''),\n",
       " AccountValue(account='DU7458153', tag='UnrealizedPnL', value='-1.41', currency='BASE', modelCode=''),\n",
       " AccountValue(account='DU7458153', tag='UnrealizedPnL', value='-1.41', currency='USD', modelCode=''),\n",
       " AccountValue(account='DU7458153', tag='WarrantValue', value='0.00', currency='BASE', modelCode=''),\n",
       " AccountValue(account='DU7458153', tag='WarrantValue', value='0.00', currency='USD', modelCode=''),\n",
       " AccountValue(account='DU7458153', tag='WhatIfPMEnabled', value='true', currency='', modelCode=''),\n",
       " AccountValue(account='DU7458153', tag='Cryptocurrency', value='', currency='USD', modelCode=''),\n",
       " AccountValue(account='DU7458153', tag='Cryptocurrency', value='', currency='BASE', modelCode='')]"
      ]
     },
     "execution_count": 145,
     "metadata": {},
     "output_type": "execute_result"
    }
   ],
   "source": [
    "av = ib.accountValues()\n",
    "av"
   ]
  },
  {
   "cell_type": "code",
   "execution_count": 146,
   "id": "b555ae44",
   "metadata": {},
   "outputs": [
    {
     "data": {
      "text/html": [
       "<div>\n",
       "<style scoped>\n",
       "    .dataframe tbody tr th:only-of-type {\n",
       "        vertical-align: middle;\n",
       "    }\n",
       "\n",
       "    .dataframe tbody tr th {\n",
       "        vertical-align: top;\n",
       "    }\n",
       "\n",
       "    .dataframe thead th {\n",
       "        text-align: right;\n",
       "    }\n",
       "</style>\n",
       "<table border=\"1\" class=\"dataframe\">\n",
       "  <thead>\n",
       "    <tr style=\"text-align: right;\">\n",
       "      <th></th>\n",
       "      <th>account</th>\n",
       "      <th>tag</th>\n",
       "      <th>value</th>\n",
       "      <th>currency</th>\n",
       "      <th>modelCode</th>\n",
       "    </tr>\n",
       "  </thead>\n",
       "  <tbody>\n",
       "    <tr>\n",
       "      <th>0</th>\n",
       "      <td>DU7458153</td>\n",
       "      <td>AccountCode</td>\n",
       "      <td>DU7458153</td>\n",
       "      <td></td>\n",
       "      <td></td>\n",
       "    </tr>\n",
       "    <tr>\n",
       "      <th>1</th>\n",
       "      <td>DU7458153</td>\n",
       "      <td>AccountOrGroup</td>\n",
       "      <td>DU7458153</td>\n",
       "      <td>BASE</td>\n",
       "      <td></td>\n",
       "    </tr>\n",
       "    <tr>\n",
       "      <th>2</th>\n",
       "      <td>DU7458153</td>\n",
       "      <td>AccountOrGroup</td>\n",
       "      <td>DU7458153</td>\n",
       "      <td>USD</td>\n",
       "      <td></td>\n",
       "    </tr>\n",
       "    <tr>\n",
       "      <th>3</th>\n",
       "      <td>DU7458153</td>\n",
       "      <td>AccountReady</td>\n",
       "      <td>true</td>\n",
       "      <td></td>\n",
       "      <td></td>\n",
       "    </tr>\n",
       "    <tr>\n",
       "      <th>4</th>\n",
       "      <td>DU7458153</td>\n",
       "      <td>AccountType</td>\n",
       "      <td>INDIVIDUAL</td>\n",
       "      <td></td>\n",
       "      <td></td>\n",
       "    </tr>\n",
       "    <tr>\n",
       "      <th>...</th>\n",
       "      <td>...</td>\n",
       "      <td>...</td>\n",
       "      <td>...</td>\n",
       "      <td>...</td>\n",
       "      <td>...</td>\n",
       "    </tr>\n",
       "    <tr>\n",
       "      <th>149</th>\n",
       "      <td>DU7458153</td>\n",
       "      <td>WarrantValue</td>\n",
       "      <td>0.00</td>\n",
       "      <td>BASE</td>\n",
       "      <td></td>\n",
       "    </tr>\n",
       "    <tr>\n",
       "      <th>150</th>\n",
       "      <td>DU7458153</td>\n",
       "      <td>WarrantValue</td>\n",
       "      <td>0.00</td>\n",
       "      <td>USD</td>\n",
       "      <td></td>\n",
       "    </tr>\n",
       "    <tr>\n",
       "      <th>151</th>\n",
       "      <td>DU7458153</td>\n",
       "      <td>WhatIfPMEnabled</td>\n",
       "      <td>true</td>\n",
       "      <td></td>\n",
       "      <td></td>\n",
       "    </tr>\n",
       "    <tr>\n",
       "      <th>152</th>\n",
       "      <td>DU7458153</td>\n",
       "      <td>Cryptocurrency</td>\n",
       "      <td></td>\n",
       "      <td>USD</td>\n",
       "      <td></td>\n",
       "    </tr>\n",
       "    <tr>\n",
       "      <th>153</th>\n",
       "      <td>DU7458153</td>\n",
       "      <td>Cryptocurrency</td>\n",
       "      <td></td>\n",
       "      <td>BASE</td>\n",
       "      <td></td>\n",
       "    </tr>\n",
       "  </tbody>\n",
       "</table>\n",
       "<p>154 rows × 5 columns</p>\n",
       "</div>"
      ],
      "text/plain": [
       "       account              tag       value currency modelCode\n",
       "0    DU7458153      AccountCode   DU7458153                   \n",
       "1    DU7458153   AccountOrGroup   DU7458153     BASE          \n",
       "2    DU7458153   AccountOrGroup   DU7458153      USD          \n",
       "3    DU7458153     AccountReady        true                   \n",
       "4    DU7458153      AccountType  INDIVIDUAL                   \n",
       "..         ...              ...         ...      ...       ...\n",
       "149  DU7458153     WarrantValue        0.00     BASE          \n",
       "150  DU7458153     WarrantValue        0.00      USD          \n",
       "151  DU7458153  WhatIfPMEnabled        true                   \n",
       "152  DU7458153   Cryptocurrency                  USD          \n",
       "153  DU7458153   Cryptocurrency                 BASE          \n",
       "\n",
       "[154 rows x 5 columns]"
      ]
     },
     "execution_count": 146,
     "metadata": {},
     "output_type": "execute_result"
    }
   ],
   "source": [
    "df2 = util.df(av)\n",
    "df2"
   ]
  },
  {
   "cell_type": "code",
   "execution_count": 148,
   "id": "b1d85dec",
   "metadata": {},
   "outputs": [
    {
     "data": {
      "text/html": [
       "<div>\n",
       "<style scoped>\n",
       "    .dataframe tbody tr th:only-of-type {\n",
       "        vertical-align: middle;\n",
       "    }\n",
       "\n",
       "    .dataframe tbody tr th {\n",
       "        vertical-align: top;\n",
       "    }\n",
       "\n",
       "    .dataframe thead th {\n",
       "        text-align: right;\n",
       "    }\n",
       "</style>\n",
       "<table border=\"1\" class=\"dataframe\">\n",
       "  <thead>\n",
       "    <tr style=\"text-align: right;\">\n",
       "      <th></th>\n",
       "      <th>account</th>\n",
       "      <th>tag</th>\n",
       "      <th>value</th>\n",
       "      <th>currency</th>\n",
       "      <th>modelCode</th>\n",
       "    </tr>\n",
       "  </thead>\n",
       "  <tbody>\n",
       "    <tr>\n",
       "      <th>19</th>\n",
       "      <td>DU7458153</td>\n",
       "      <td>CashBalance</td>\n",
       "      <td>999794.6383</td>\n",
       "      <td>BASE</td>\n",
       "      <td></td>\n",
       "    </tr>\n",
       "    <tr>\n",
       "      <th>20</th>\n",
       "      <td>DU7458153</td>\n",
       "      <td>CashBalance</td>\n",
       "      <td>999794.6383</td>\n",
       "      <td>USD</td>\n",
       "      <td></td>\n",
       "    </tr>\n",
       "  </tbody>\n",
       "</table>\n",
       "</div>"
      ],
      "text/plain": [
       "      account          tag        value currency modelCode\n",
       "19  DU7458153  CashBalance  999794.6383     BASE          \n",
       "20  DU7458153  CashBalance  999794.6383      USD          "
      ]
     },
     "execution_count": 148,
     "metadata": {},
     "output_type": "execute_result"
    }
   ],
   "source": [
    "df2.loc[df2.tag == \"CashBalance\"]"
   ]
  },
  {
   "cell_type": "code",
   "execution_count": 149,
   "id": "82b6b6ce",
   "metadata": {},
   "outputs": [],
   "source": [
    "ib.disconnect()"
   ]
  },
  {
   "cell_type": "markdown",
   "id": "9a108a9d",
   "metadata": {},
   "source": [
    "## Historical Data(Bars)"
   ]
  },
  {
   "cell_type": "code",
   "execution_count": 150,
   "id": "01018767",
   "metadata": {},
   "outputs": [],
   "source": [
    "from ib_insync import*\n",
    "util.startLoop()"
   ]
  },
  {
   "cell_type": "code",
   "execution_count": 151,
   "id": "9b4f8305",
   "metadata": {},
   "outputs": [],
   "source": [
    "ib = IB()"
   ]
  },
  {
   "cell_type": "code",
   "execution_count": 152,
   "id": "f5de451a",
   "metadata": {},
   "outputs": [
    {
     "data": {
      "text/plain": [
       "<IB connected to 127.0.0.1:7497 clientId=1>"
      ]
     },
     "execution_count": 152,
     "metadata": {},
     "output_type": "execute_result"
    }
   ],
   "source": [
    "ib.connect()"
   ]
  },
  {
   "cell_type": "code",
   "execution_count": 153,
   "id": "d49353e8",
   "metadata": {},
   "outputs": [
    {
     "data": {
      "text/plain": [
       "Forex('EURUSD', exchange='IDEALPRO')"
      ]
     },
     "execution_count": 153,
     "metadata": {},
     "output_type": "execute_result"
    }
   ],
   "source": [
    "contract = Forex(\"EURUSD\")\n",
    "contract"
   ]
  },
  {
   "cell_type": "code",
   "execution_count": 154,
   "id": "554c55ef",
   "metadata": {},
   "outputs": [
    {
     "data": {
      "text/plain": [
       "datetime.datetime(2005, 3, 9, 4, 30)"
      ]
     },
     "execution_count": 154,
     "metadata": {},
     "output_type": "execute_result"
    }
   ],
   "source": [
    "start = ib.reqHeadTimeStamp(contract, whatToShow = \"MIDPOINT\", useRTH = True)\n",
    "start"
   ]
  },
  {
   "cell_type": "code",
   "execution_count": 155,
   "id": "6ed1524c",
   "metadata": {},
   "outputs": [
    {
     "data": {
      "text/plain": [
       "[BarData(date=datetime.date(2023, 4, 20), open=1.0955, high=1.099, low=1.09335, close=1.09695, volume=-1.0, average=-1.0, barCount=-1),\n",
       " BarData(date=datetime.date(2023, 4, 21), open=1.0966, high=1.0994, low=1.0938, close=1.0986, volume=-1.0, average=-1.0, barCount=-1),\n",
       " BarData(date=datetime.date(2023, 4, 24), open=1.09905, high=1.105, low=1.0966, close=1.1046, volume=-1.0, average=-1.0, barCount=-1),\n",
       " BarData(date=datetime.date(2023, 4, 25), open=1.1043, high=1.1067, low=1.0964, close=1.09725, volume=-1.0, average=-1.0, barCount=-1),\n",
       " BarData(date=datetime.date(2023, 4, 26), open=1.09725, high=1.10955, low=1.09685, close=1.10395, volume=-1.0, average=-1.0, barCount=-1),\n",
       " BarData(date=datetime.date(2023, 4, 27), open=1.1038, high=1.10635, low=1.0992, close=1.10285, volume=-1.0, average=-1.0, barCount=-1),\n",
       " BarData(date=datetime.date(2023, 4, 28), open=1.10275, high=1.1045, low=1.09625, close=1.10205, volume=-1.0, average=-1.0, barCount=-1),\n",
       " BarData(date=datetime.date(2023, 5, 1), open=1.10205, high=1.1036, low=1.09645, close=1.0976, volume=-1.0, average=-1.0, barCount=-1),\n",
       " BarData(date=datetime.date(2023, 5, 2), open=1.0976, high=1.1008, low=1.0942, close=1.0998, volume=-1.0, average=-1.0, barCount=-1),\n",
       " BarData(date=datetime.date(2023, 5, 3), open=1.1002, high=1.1092, low=1.09995, close=1.10625, volume=-1.0, average=-1.0, barCount=-1),\n",
       " BarData(date=datetime.date(2023, 5, 4), open=1.10595, high=1.10915, low=1.0986, close=1.10125, volume=-1.0, average=-1.0, barCount=-1),\n",
       " BarData(date=datetime.date(2023, 5, 5), open=1.10125, high=1.1048, low=1.0967, close=1.102, volume=-1.0, average=-1.0, barCount=-1),\n",
       " BarData(date=datetime.date(2023, 5, 8), open=1.10215, high=1.1054, low=1.1, close=1.1004, volume=-1.0, average=-1.0, barCount=-1),\n",
       " BarData(date=datetime.date(2023, 5, 9), open=1.1001, high=1.1007, low=1.0941, close=1.09605, volume=-1.0, average=-1.0, barCount=-1),\n",
       " BarData(date=datetime.date(2023, 5, 10), open=1.09655, high=1.1007, low=1.09415, close=1.0982, volume=-1.0, average=-1.0, barCount=-1),\n",
       " BarData(date=datetime.date(2023, 5, 11), open=1.09815, high=1.0998, low=1.09, close=1.09155, volume=-1.0, average=-1.0, barCount=-1),\n",
       " BarData(date=datetime.date(2023, 5, 12), open=1.09215, high=1.09355, low=1.0848, close=1.085, volume=-1.0, average=-1.0, barCount=-1),\n",
       " BarData(date=datetime.date(2023, 5, 15), open=1.0854, high=1.0891, low=1.08455, close=1.08745, volume=-1.0, average=-1.0, barCount=-1),\n",
       " BarData(date=datetime.date(2023, 5, 16), open=1.08745, high=1.0905, low=1.0855, close=1.0863, volume=-1.0, average=-1.0, barCount=-1),\n",
       " BarData(date=datetime.date(2023, 5, 17), open=1.0864, high=1.08735, low=1.08105, close=1.08395, volume=-1.0, average=-1.0, barCount=-1),\n",
       " BarData(date=datetime.date(2023, 5, 18), open=1.084, high=1.0848, low=1.07625, close=1.077, volume=-1.0, average=-1.0, barCount=-1),\n",
       " BarData(date=datetime.date(2023, 5, 19), open=1.07705, high=1.0829, low=1.076, close=1.08025, volume=-1.0, average=-1.0, barCount=-1),\n",
       " BarData(date=datetime.date(2023, 5, 22), open=1.08055, high=1.08315, low=1.07955, close=1.08125, volume=-1.0, average=-1.0, barCount=-1),\n",
       " BarData(date=datetime.date(2023, 5, 23), open=1.08155, high=1.08205, low=1.07605, close=1.07695, volume=-1.0, average=-1.0, barCount=-1),\n",
       " BarData(date=datetime.date(2023, 5, 24), open=1.07715, high=1.08015, low=1.07485, close=1.075, volume=-1.0, average=-1.0, barCount=-1),\n",
       " BarData(date=datetime.date(2023, 5, 25), open=1.07525, high=1.0757, low=1.07075, close=1.0725, volume=-1.0, average=-1.0, barCount=-1),\n",
       " BarData(date=datetime.date(2023, 5, 26), open=1.07265, high=1.07585, low=1.0702, close=1.07215, volume=-1.0, average=-1.0, barCount=-1),\n",
       " BarData(date=datetime.date(2023, 5, 29), open=1.0724, high=1.07435, low=1.07055, close=1.0708, volume=-1.0, average=-1.0, barCount=-1),\n",
       " BarData(date=datetime.date(2023, 5, 30), open=1.07105, high=1.07465, low=1.06725, close=1.07345, volume=-1.0, average=-1.0, barCount=-1),\n",
       " BarData(date=datetime.date(2023, 5, 31), open=1.0732, high=1.0736, low=1.0635, close=1.0689, volume=-1.0, average=-1.0, barCount=-1),\n",
       " BarData(date=datetime.date(2023, 6, 1), open=1.06865, high=1.07685, low=1.0662, close=1.07615, volume=-1.0, average=-1.0, barCount=-1),\n",
       " BarData(date=datetime.date(2023, 6, 2), open=1.07595, high=1.0779, low=1.0705, close=1.0708, volume=-1.0, average=-1.0, barCount=-1),\n",
       " BarData(date=datetime.date(2023, 6, 5), open=1.07095, high=1.07225, low=1.06745, close=1.0712, volume=-1.0, average=-1.0, barCount=-1),\n",
       " BarData(date=datetime.date(2023, 6, 6), open=1.07125, high=1.0733, low=1.0667, close=1.06925, volume=-1.0, average=-1.0, barCount=-1),\n",
       " BarData(date=datetime.date(2023, 6, 7), open=1.06955, high=1.074, low=1.06685, close=1.06985, volume=-1.0, average=-1.0, barCount=-1),\n",
       " BarData(date=datetime.date(2023, 6, 8), open=1.06995, high=1.0787, low=1.06965, close=1.07825, volume=-1.0, average=-1.0, barCount=-1),\n",
       " BarData(date=datetime.date(2023, 6, 9), open=1.0781, high=1.07855, low=1.0743, close=1.07475, volume=-1.0, average=-1.0, barCount=-1),\n",
       " BarData(date=datetime.date(2023, 6, 12), open=1.075, high=1.079, low=1.0733, close=1.0756, volume=-1.0, average=-1.0, barCount=-1),\n",
       " BarData(date=datetime.date(2023, 6, 13), open=1.0755, high=1.08235, low=1.0755, close=1.07935, volume=-1.0, average=-1.0, barCount=-1),\n",
       " BarData(date=datetime.date(2023, 6, 14), open=1.0793, high=1.0864, low=1.0774, close=1.0829, volume=-1.0, average=-1.0, barCount=-1),\n",
       " BarData(date=datetime.date(2023, 6, 15), open=1.0828, high=1.0953, low=1.0804, close=1.0945, volume=-1.0, average=-1.0, barCount=-1),\n",
       " BarData(date=datetime.date(2023, 6, 16), open=1.09445, high=1.09705, low=1.0918, close=1.09305, volume=-1.0, average=-1.0, barCount=-1),\n",
       " BarData(date=datetime.date(2023, 6, 19), open=1.0936, high=1.09465, low=1.0907, close=1.09215, volume=-1.0, average=-1.0, barCount=-1),\n",
       " BarData(date=datetime.date(2023, 6, 20), open=1.0921, high=1.09465, low=1.0892, close=1.0918, volume=-1.0, average=-1.0, barCount=-1),\n",
       " BarData(date=datetime.date(2023, 6, 21), open=1.09185, high=1.0991, low=1.0906, close=1.09865, volume=-1.0, average=-1.0, barCount=-1),\n",
       " BarData(date=datetime.date(2023, 6, 22), open=1.0986, high=1.10125, low=1.09485, close=1.0956, volume=-1.0, average=-1.0, barCount=-1),\n",
       " BarData(date=datetime.date(2023, 6, 23), open=1.09595, high=1.09595, low=1.08445, close=1.0892, volume=-1.0, average=-1.0, barCount=-1),\n",
       " BarData(date=datetime.date(2023, 6, 26), open=1.09015, high=1.092, low=1.08875, close=1.0906, volume=-1.0, average=-1.0, barCount=-1),\n",
       " BarData(date=datetime.date(2023, 6, 27), open=1.09095, high=1.09765, low=1.0902, close=1.09605, volume=-1.0, average=-1.0, barCount=-1),\n",
       " BarData(date=datetime.date(2023, 6, 28), open=1.0961, high=1.0963, low=1.08965, close=1.0913, volume=-1.0, average=-1.0, barCount=-1),\n",
       " BarData(date=datetime.date(2023, 6, 29), open=1.0916, high=1.09415, low=1.08605, close=1.08645, volume=-1.0, average=-1.0, barCount=-1),\n",
       " BarData(date=datetime.date(2023, 6, 30), open=1.0867, high=1.0932, low=1.08355, close=1.09115, volume=-1.0, average=-1.0, barCount=-1),\n",
       " BarData(date=datetime.date(2023, 7, 3), open=1.09125, high=1.0934, low=1.087, close=1.0912, volume=-1.0, average=-1.0, barCount=-1),\n",
       " BarData(date=datetime.date(2023, 7, 4), open=1.0913, high=1.09165, low=1.0877, close=1.08795, volume=-1.0, average=-1.0, barCount=-1),\n",
       " BarData(date=datetime.date(2023, 7, 5), open=1.0884, high=1.0908, low=1.0851, close=1.08545, volume=-1.0, average=-1.0, barCount=-1),\n",
       " BarData(date=datetime.date(2023, 7, 6), open=1.08575, high=1.09005, low=1.08335, close=1.0889, volume=-1.0, average=-1.0, barCount=-1),\n",
       " BarData(date=datetime.date(2023, 7, 7), open=1.0888, high=1.09735, low=1.0867, close=1.09655, volume=-1.0, average=-1.0, barCount=-1),\n",
       " BarData(date=datetime.date(2023, 7, 10), open=1.09665, high=1.10015, low=1.09435, close=1.10015, volume=-1.0, average=-1.0, barCount=-1),\n",
       " BarData(date=datetime.date(2023, 7, 11), open=1.10015, high=1.1027, low=1.0977, close=1.1009, volume=-1.0, average=-1.0, barCount=-1),\n",
       " BarData(date=datetime.date(2023, 7, 12), open=1.10065, high=1.11335, low=1.10065, close=1.113, volume=-1.0, average=-1.0, barCount=-1)]"
      ]
     },
     "execution_count": 155,
     "metadata": {},
     "output_type": "execute_result"
    }
   ],
   "source": [
    "data = ib.reqHistoricalData(contract, \"\", barSizeSetting =\"1 day\", durationStr = \"60 D\", whatToShow = \"MIDPOINT\", useRTH = True)\n",
    "data"
   ]
  },
  {
   "cell_type": "code",
   "execution_count": 157,
   "id": "41eb1a29",
   "metadata": {},
   "outputs": [],
   "source": [
    "import pandas as pd"
   ]
  },
  {
   "cell_type": "code",
   "execution_count": 159,
   "id": "fb208090",
   "metadata": {
    "scrolled": true
   },
   "outputs": [
    {
     "data": {
      "text/html": [
       "<div>\n",
       "<style scoped>\n",
       "    .dataframe tbody tr th:only-of-type {\n",
       "        vertical-align: middle;\n",
       "    }\n",
       "\n",
       "    .dataframe tbody tr th {\n",
       "        vertical-align: top;\n",
       "    }\n",
       "\n",
       "    .dataframe thead th {\n",
       "        text-align: right;\n",
       "    }\n",
       "</style>\n",
       "<table border=\"1\" class=\"dataframe\">\n",
       "  <thead>\n",
       "    <tr style=\"text-align: right;\">\n",
       "      <th></th>\n",
       "      <th>date</th>\n",
       "      <th>open</th>\n",
       "      <th>high</th>\n",
       "      <th>low</th>\n",
       "      <th>close</th>\n",
       "      <th>volume</th>\n",
       "      <th>average</th>\n",
       "      <th>barCount</th>\n",
       "    </tr>\n",
       "  </thead>\n",
       "  <tbody>\n",
       "    <tr>\n",
       "      <th>0</th>\n",
       "      <td>2023-04-20</td>\n",
       "      <td>1.09550</td>\n",
       "      <td>1.09900</td>\n",
       "      <td>1.09335</td>\n",
       "      <td>1.09695</td>\n",
       "      <td>-1.0</td>\n",
       "      <td>-1.0</td>\n",
       "      <td>-1</td>\n",
       "    </tr>\n",
       "    <tr>\n",
       "      <th>1</th>\n",
       "      <td>2023-04-21</td>\n",
       "      <td>1.09660</td>\n",
       "      <td>1.09940</td>\n",
       "      <td>1.09380</td>\n",
       "      <td>1.09860</td>\n",
       "      <td>-1.0</td>\n",
       "      <td>-1.0</td>\n",
       "      <td>-1</td>\n",
       "    </tr>\n",
       "    <tr>\n",
       "      <th>2</th>\n",
       "      <td>2023-04-24</td>\n",
       "      <td>1.09905</td>\n",
       "      <td>1.10500</td>\n",
       "      <td>1.09660</td>\n",
       "      <td>1.10460</td>\n",
       "      <td>-1.0</td>\n",
       "      <td>-1.0</td>\n",
       "      <td>-1</td>\n",
       "    </tr>\n",
       "    <tr>\n",
       "      <th>3</th>\n",
       "      <td>2023-04-25</td>\n",
       "      <td>1.10430</td>\n",
       "      <td>1.10670</td>\n",
       "      <td>1.09640</td>\n",
       "      <td>1.09725</td>\n",
       "      <td>-1.0</td>\n",
       "      <td>-1.0</td>\n",
       "      <td>-1</td>\n",
       "    </tr>\n",
       "    <tr>\n",
       "      <th>4</th>\n",
       "      <td>2023-04-26</td>\n",
       "      <td>1.09725</td>\n",
       "      <td>1.10955</td>\n",
       "      <td>1.09685</td>\n",
       "      <td>1.10395</td>\n",
       "      <td>-1.0</td>\n",
       "      <td>-1.0</td>\n",
       "      <td>-1</td>\n",
       "    </tr>\n",
       "    <tr>\n",
       "      <th>5</th>\n",
       "      <td>2023-04-27</td>\n",
       "      <td>1.10380</td>\n",
       "      <td>1.10635</td>\n",
       "      <td>1.09920</td>\n",
       "      <td>1.10285</td>\n",
       "      <td>-1.0</td>\n",
       "      <td>-1.0</td>\n",
       "      <td>-1</td>\n",
       "    </tr>\n",
       "    <tr>\n",
       "      <th>6</th>\n",
       "      <td>2023-04-28</td>\n",
       "      <td>1.10275</td>\n",
       "      <td>1.10450</td>\n",
       "      <td>1.09625</td>\n",
       "      <td>1.10205</td>\n",
       "      <td>-1.0</td>\n",
       "      <td>-1.0</td>\n",
       "      <td>-1</td>\n",
       "    </tr>\n",
       "    <tr>\n",
       "      <th>7</th>\n",
       "      <td>2023-05-01</td>\n",
       "      <td>1.10205</td>\n",
       "      <td>1.10360</td>\n",
       "      <td>1.09645</td>\n",
       "      <td>1.09760</td>\n",
       "      <td>-1.0</td>\n",
       "      <td>-1.0</td>\n",
       "      <td>-1</td>\n",
       "    </tr>\n",
       "    <tr>\n",
       "      <th>8</th>\n",
       "      <td>2023-05-02</td>\n",
       "      <td>1.09760</td>\n",
       "      <td>1.10080</td>\n",
       "      <td>1.09420</td>\n",
       "      <td>1.09980</td>\n",
       "      <td>-1.0</td>\n",
       "      <td>-1.0</td>\n",
       "      <td>-1</td>\n",
       "    </tr>\n",
       "    <tr>\n",
       "      <th>9</th>\n",
       "      <td>2023-05-03</td>\n",
       "      <td>1.10020</td>\n",
       "      <td>1.10920</td>\n",
       "      <td>1.09995</td>\n",
       "      <td>1.10625</td>\n",
       "      <td>-1.0</td>\n",
       "      <td>-1.0</td>\n",
       "      <td>-1</td>\n",
       "    </tr>\n",
       "    <tr>\n",
       "      <th>10</th>\n",
       "      <td>2023-05-04</td>\n",
       "      <td>1.10595</td>\n",
       "      <td>1.10915</td>\n",
       "      <td>1.09860</td>\n",
       "      <td>1.10125</td>\n",
       "      <td>-1.0</td>\n",
       "      <td>-1.0</td>\n",
       "      <td>-1</td>\n",
       "    </tr>\n",
       "    <tr>\n",
       "      <th>11</th>\n",
       "      <td>2023-05-05</td>\n",
       "      <td>1.10125</td>\n",
       "      <td>1.10480</td>\n",
       "      <td>1.09670</td>\n",
       "      <td>1.10200</td>\n",
       "      <td>-1.0</td>\n",
       "      <td>-1.0</td>\n",
       "      <td>-1</td>\n",
       "    </tr>\n",
       "    <tr>\n",
       "      <th>12</th>\n",
       "      <td>2023-05-08</td>\n",
       "      <td>1.10215</td>\n",
       "      <td>1.10540</td>\n",
       "      <td>1.10000</td>\n",
       "      <td>1.10040</td>\n",
       "      <td>-1.0</td>\n",
       "      <td>-1.0</td>\n",
       "      <td>-1</td>\n",
       "    </tr>\n",
       "    <tr>\n",
       "      <th>13</th>\n",
       "      <td>2023-05-09</td>\n",
       "      <td>1.10010</td>\n",
       "      <td>1.10070</td>\n",
       "      <td>1.09410</td>\n",
       "      <td>1.09605</td>\n",
       "      <td>-1.0</td>\n",
       "      <td>-1.0</td>\n",
       "      <td>-1</td>\n",
       "    </tr>\n",
       "    <tr>\n",
       "      <th>14</th>\n",
       "      <td>2023-05-10</td>\n",
       "      <td>1.09655</td>\n",
       "      <td>1.10070</td>\n",
       "      <td>1.09415</td>\n",
       "      <td>1.09820</td>\n",
       "      <td>-1.0</td>\n",
       "      <td>-1.0</td>\n",
       "      <td>-1</td>\n",
       "    </tr>\n",
       "    <tr>\n",
       "      <th>15</th>\n",
       "      <td>2023-05-11</td>\n",
       "      <td>1.09815</td>\n",
       "      <td>1.09980</td>\n",
       "      <td>1.09000</td>\n",
       "      <td>1.09155</td>\n",
       "      <td>-1.0</td>\n",
       "      <td>-1.0</td>\n",
       "      <td>-1</td>\n",
       "    </tr>\n",
       "    <tr>\n",
       "      <th>16</th>\n",
       "      <td>2023-05-12</td>\n",
       "      <td>1.09215</td>\n",
       "      <td>1.09355</td>\n",
       "      <td>1.08480</td>\n",
       "      <td>1.08500</td>\n",
       "      <td>-1.0</td>\n",
       "      <td>-1.0</td>\n",
       "      <td>-1</td>\n",
       "    </tr>\n",
       "    <tr>\n",
       "      <th>17</th>\n",
       "      <td>2023-05-15</td>\n",
       "      <td>1.08540</td>\n",
       "      <td>1.08910</td>\n",
       "      <td>1.08455</td>\n",
       "      <td>1.08745</td>\n",
       "      <td>-1.0</td>\n",
       "      <td>-1.0</td>\n",
       "      <td>-1</td>\n",
       "    </tr>\n",
       "    <tr>\n",
       "      <th>18</th>\n",
       "      <td>2023-05-16</td>\n",
       "      <td>1.08745</td>\n",
       "      <td>1.09050</td>\n",
       "      <td>1.08550</td>\n",
       "      <td>1.08630</td>\n",
       "      <td>-1.0</td>\n",
       "      <td>-1.0</td>\n",
       "      <td>-1</td>\n",
       "    </tr>\n",
       "    <tr>\n",
       "      <th>19</th>\n",
       "      <td>2023-05-17</td>\n",
       "      <td>1.08640</td>\n",
       "      <td>1.08735</td>\n",
       "      <td>1.08105</td>\n",
       "      <td>1.08395</td>\n",
       "      <td>-1.0</td>\n",
       "      <td>-1.0</td>\n",
       "      <td>-1</td>\n",
       "    </tr>\n",
       "    <tr>\n",
       "      <th>20</th>\n",
       "      <td>2023-05-18</td>\n",
       "      <td>1.08400</td>\n",
       "      <td>1.08480</td>\n",
       "      <td>1.07625</td>\n",
       "      <td>1.07700</td>\n",
       "      <td>-1.0</td>\n",
       "      <td>-1.0</td>\n",
       "      <td>-1</td>\n",
       "    </tr>\n",
       "    <tr>\n",
       "      <th>21</th>\n",
       "      <td>2023-05-19</td>\n",
       "      <td>1.07705</td>\n",
       "      <td>1.08290</td>\n",
       "      <td>1.07600</td>\n",
       "      <td>1.08025</td>\n",
       "      <td>-1.0</td>\n",
       "      <td>-1.0</td>\n",
       "      <td>-1</td>\n",
       "    </tr>\n",
       "    <tr>\n",
       "      <th>22</th>\n",
       "      <td>2023-05-22</td>\n",
       "      <td>1.08055</td>\n",
       "      <td>1.08315</td>\n",
       "      <td>1.07955</td>\n",
       "      <td>1.08125</td>\n",
       "      <td>-1.0</td>\n",
       "      <td>-1.0</td>\n",
       "      <td>-1</td>\n",
       "    </tr>\n",
       "    <tr>\n",
       "      <th>23</th>\n",
       "      <td>2023-05-23</td>\n",
       "      <td>1.08155</td>\n",
       "      <td>1.08205</td>\n",
       "      <td>1.07605</td>\n",
       "      <td>1.07695</td>\n",
       "      <td>-1.0</td>\n",
       "      <td>-1.0</td>\n",
       "      <td>-1</td>\n",
       "    </tr>\n",
       "    <tr>\n",
       "      <th>24</th>\n",
       "      <td>2023-05-24</td>\n",
       "      <td>1.07715</td>\n",
       "      <td>1.08015</td>\n",
       "      <td>1.07485</td>\n",
       "      <td>1.07500</td>\n",
       "      <td>-1.0</td>\n",
       "      <td>-1.0</td>\n",
       "      <td>-1</td>\n",
       "    </tr>\n",
       "    <tr>\n",
       "      <th>25</th>\n",
       "      <td>2023-05-25</td>\n",
       "      <td>1.07525</td>\n",
       "      <td>1.07570</td>\n",
       "      <td>1.07075</td>\n",
       "      <td>1.07250</td>\n",
       "      <td>-1.0</td>\n",
       "      <td>-1.0</td>\n",
       "      <td>-1</td>\n",
       "    </tr>\n",
       "    <tr>\n",
       "      <th>26</th>\n",
       "      <td>2023-05-26</td>\n",
       "      <td>1.07265</td>\n",
       "      <td>1.07585</td>\n",
       "      <td>1.07020</td>\n",
       "      <td>1.07215</td>\n",
       "      <td>-1.0</td>\n",
       "      <td>-1.0</td>\n",
       "      <td>-1</td>\n",
       "    </tr>\n",
       "    <tr>\n",
       "      <th>27</th>\n",
       "      <td>2023-05-29</td>\n",
       "      <td>1.07240</td>\n",
       "      <td>1.07435</td>\n",
       "      <td>1.07055</td>\n",
       "      <td>1.07080</td>\n",
       "      <td>-1.0</td>\n",
       "      <td>-1.0</td>\n",
       "      <td>-1</td>\n",
       "    </tr>\n",
       "    <tr>\n",
       "      <th>28</th>\n",
       "      <td>2023-05-30</td>\n",
       "      <td>1.07105</td>\n",
       "      <td>1.07465</td>\n",
       "      <td>1.06725</td>\n",
       "      <td>1.07345</td>\n",
       "      <td>-1.0</td>\n",
       "      <td>-1.0</td>\n",
       "      <td>-1</td>\n",
       "    </tr>\n",
       "    <tr>\n",
       "      <th>29</th>\n",
       "      <td>2023-05-31</td>\n",
       "      <td>1.07320</td>\n",
       "      <td>1.07360</td>\n",
       "      <td>1.06350</td>\n",
       "      <td>1.06890</td>\n",
       "      <td>-1.0</td>\n",
       "      <td>-1.0</td>\n",
       "      <td>-1</td>\n",
       "    </tr>\n",
       "    <tr>\n",
       "      <th>30</th>\n",
       "      <td>2023-06-01</td>\n",
       "      <td>1.06865</td>\n",
       "      <td>1.07685</td>\n",
       "      <td>1.06620</td>\n",
       "      <td>1.07615</td>\n",
       "      <td>-1.0</td>\n",
       "      <td>-1.0</td>\n",
       "      <td>-1</td>\n",
       "    </tr>\n",
       "    <tr>\n",
       "      <th>31</th>\n",
       "      <td>2023-06-02</td>\n",
       "      <td>1.07595</td>\n",
       "      <td>1.07790</td>\n",
       "      <td>1.07050</td>\n",
       "      <td>1.07080</td>\n",
       "      <td>-1.0</td>\n",
       "      <td>-1.0</td>\n",
       "      <td>-1</td>\n",
       "    </tr>\n",
       "    <tr>\n",
       "      <th>32</th>\n",
       "      <td>2023-06-05</td>\n",
       "      <td>1.07095</td>\n",
       "      <td>1.07225</td>\n",
       "      <td>1.06745</td>\n",
       "      <td>1.07120</td>\n",
       "      <td>-1.0</td>\n",
       "      <td>-1.0</td>\n",
       "      <td>-1</td>\n",
       "    </tr>\n",
       "    <tr>\n",
       "      <th>33</th>\n",
       "      <td>2023-06-06</td>\n",
       "      <td>1.07125</td>\n",
       "      <td>1.07330</td>\n",
       "      <td>1.06670</td>\n",
       "      <td>1.06925</td>\n",
       "      <td>-1.0</td>\n",
       "      <td>-1.0</td>\n",
       "      <td>-1</td>\n",
       "    </tr>\n",
       "    <tr>\n",
       "      <th>34</th>\n",
       "      <td>2023-06-07</td>\n",
       "      <td>1.06955</td>\n",
       "      <td>1.07400</td>\n",
       "      <td>1.06685</td>\n",
       "      <td>1.06985</td>\n",
       "      <td>-1.0</td>\n",
       "      <td>-1.0</td>\n",
       "      <td>-1</td>\n",
       "    </tr>\n",
       "    <tr>\n",
       "      <th>35</th>\n",
       "      <td>2023-06-08</td>\n",
       "      <td>1.06995</td>\n",
       "      <td>1.07870</td>\n",
       "      <td>1.06965</td>\n",
       "      <td>1.07825</td>\n",
       "      <td>-1.0</td>\n",
       "      <td>-1.0</td>\n",
       "      <td>-1</td>\n",
       "    </tr>\n",
       "    <tr>\n",
       "      <th>36</th>\n",
       "      <td>2023-06-09</td>\n",
       "      <td>1.07810</td>\n",
       "      <td>1.07855</td>\n",
       "      <td>1.07430</td>\n",
       "      <td>1.07475</td>\n",
       "      <td>-1.0</td>\n",
       "      <td>-1.0</td>\n",
       "      <td>-1</td>\n",
       "    </tr>\n",
       "    <tr>\n",
       "      <th>37</th>\n",
       "      <td>2023-06-12</td>\n",
       "      <td>1.07500</td>\n",
       "      <td>1.07900</td>\n",
       "      <td>1.07330</td>\n",
       "      <td>1.07560</td>\n",
       "      <td>-1.0</td>\n",
       "      <td>-1.0</td>\n",
       "      <td>-1</td>\n",
       "    </tr>\n",
       "    <tr>\n",
       "      <th>38</th>\n",
       "      <td>2023-06-13</td>\n",
       "      <td>1.07550</td>\n",
       "      <td>1.08235</td>\n",
       "      <td>1.07550</td>\n",
       "      <td>1.07935</td>\n",
       "      <td>-1.0</td>\n",
       "      <td>-1.0</td>\n",
       "      <td>-1</td>\n",
       "    </tr>\n",
       "    <tr>\n",
       "      <th>39</th>\n",
       "      <td>2023-06-14</td>\n",
       "      <td>1.07930</td>\n",
       "      <td>1.08640</td>\n",
       "      <td>1.07740</td>\n",
       "      <td>1.08290</td>\n",
       "      <td>-1.0</td>\n",
       "      <td>-1.0</td>\n",
       "      <td>-1</td>\n",
       "    </tr>\n",
       "    <tr>\n",
       "      <th>40</th>\n",
       "      <td>2023-06-15</td>\n",
       "      <td>1.08280</td>\n",
       "      <td>1.09530</td>\n",
       "      <td>1.08040</td>\n",
       "      <td>1.09450</td>\n",
       "      <td>-1.0</td>\n",
       "      <td>-1.0</td>\n",
       "      <td>-1</td>\n",
       "    </tr>\n",
       "    <tr>\n",
       "      <th>41</th>\n",
       "      <td>2023-06-16</td>\n",
       "      <td>1.09445</td>\n",
       "      <td>1.09705</td>\n",
       "      <td>1.09180</td>\n",
       "      <td>1.09305</td>\n",
       "      <td>-1.0</td>\n",
       "      <td>-1.0</td>\n",
       "      <td>-1</td>\n",
       "    </tr>\n",
       "    <tr>\n",
       "      <th>42</th>\n",
       "      <td>2023-06-19</td>\n",
       "      <td>1.09360</td>\n",
       "      <td>1.09465</td>\n",
       "      <td>1.09070</td>\n",
       "      <td>1.09215</td>\n",
       "      <td>-1.0</td>\n",
       "      <td>-1.0</td>\n",
       "      <td>-1</td>\n",
       "    </tr>\n",
       "    <tr>\n",
       "      <th>43</th>\n",
       "      <td>2023-06-20</td>\n",
       "      <td>1.09210</td>\n",
       "      <td>1.09465</td>\n",
       "      <td>1.08920</td>\n",
       "      <td>1.09180</td>\n",
       "      <td>-1.0</td>\n",
       "      <td>-1.0</td>\n",
       "      <td>-1</td>\n",
       "    </tr>\n",
       "    <tr>\n",
       "      <th>44</th>\n",
       "      <td>2023-06-21</td>\n",
       "      <td>1.09185</td>\n",
       "      <td>1.09910</td>\n",
       "      <td>1.09060</td>\n",
       "      <td>1.09865</td>\n",
       "      <td>-1.0</td>\n",
       "      <td>-1.0</td>\n",
       "      <td>-1</td>\n",
       "    </tr>\n",
       "    <tr>\n",
       "      <th>45</th>\n",
       "      <td>2023-06-22</td>\n",
       "      <td>1.09860</td>\n",
       "      <td>1.10125</td>\n",
       "      <td>1.09485</td>\n",
       "      <td>1.09560</td>\n",
       "      <td>-1.0</td>\n",
       "      <td>-1.0</td>\n",
       "      <td>-1</td>\n",
       "    </tr>\n",
       "    <tr>\n",
       "      <th>46</th>\n",
       "      <td>2023-06-23</td>\n",
       "      <td>1.09595</td>\n",
       "      <td>1.09595</td>\n",
       "      <td>1.08445</td>\n",
       "      <td>1.08920</td>\n",
       "      <td>-1.0</td>\n",
       "      <td>-1.0</td>\n",
       "      <td>-1</td>\n",
       "    </tr>\n",
       "    <tr>\n",
       "      <th>47</th>\n",
       "      <td>2023-06-26</td>\n",
       "      <td>1.09015</td>\n",
       "      <td>1.09200</td>\n",
       "      <td>1.08875</td>\n",
       "      <td>1.09060</td>\n",
       "      <td>-1.0</td>\n",
       "      <td>-1.0</td>\n",
       "      <td>-1</td>\n",
       "    </tr>\n",
       "    <tr>\n",
       "      <th>48</th>\n",
       "      <td>2023-06-27</td>\n",
       "      <td>1.09095</td>\n",
       "      <td>1.09765</td>\n",
       "      <td>1.09020</td>\n",
       "      <td>1.09605</td>\n",
       "      <td>-1.0</td>\n",
       "      <td>-1.0</td>\n",
       "      <td>-1</td>\n",
       "    </tr>\n",
       "    <tr>\n",
       "      <th>49</th>\n",
       "      <td>2023-06-28</td>\n",
       "      <td>1.09610</td>\n",
       "      <td>1.09630</td>\n",
       "      <td>1.08965</td>\n",
       "      <td>1.09130</td>\n",
       "      <td>-1.0</td>\n",
       "      <td>-1.0</td>\n",
       "      <td>-1</td>\n",
       "    </tr>\n",
       "    <tr>\n",
       "      <th>50</th>\n",
       "      <td>2023-06-29</td>\n",
       "      <td>1.09160</td>\n",
       "      <td>1.09415</td>\n",
       "      <td>1.08605</td>\n",
       "      <td>1.08645</td>\n",
       "      <td>-1.0</td>\n",
       "      <td>-1.0</td>\n",
       "      <td>-1</td>\n",
       "    </tr>\n",
       "    <tr>\n",
       "      <th>51</th>\n",
       "      <td>2023-06-30</td>\n",
       "      <td>1.08670</td>\n",
       "      <td>1.09320</td>\n",
       "      <td>1.08355</td>\n",
       "      <td>1.09115</td>\n",
       "      <td>-1.0</td>\n",
       "      <td>-1.0</td>\n",
       "      <td>-1</td>\n",
       "    </tr>\n",
       "    <tr>\n",
       "      <th>52</th>\n",
       "      <td>2023-07-03</td>\n",
       "      <td>1.09125</td>\n",
       "      <td>1.09340</td>\n",
       "      <td>1.08700</td>\n",
       "      <td>1.09120</td>\n",
       "      <td>-1.0</td>\n",
       "      <td>-1.0</td>\n",
       "      <td>-1</td>\n",
       "    </tr>\n",
       "    <tr>\n",
       "      <th>53</th>\n",
       "      <td>2023-07-04</td>\n",
       "      <td>1.09130</td>\n",
       "      <td>1.09165</td>\n",
       "      <td>1.08770</td>\n",
       "      <td>1.08795</td>\n",
       "      <td>-1.0</td>\n",
       "      <td>-1.0</td>\n",
       "      <td>-1</td>\n",
       "    </tr>\n",
       "    <tr>\n",
       "      <th>54</th>\n",
       "      <td>2023-07-05</td>\n",
       "      <td>1.08840</td>\n",
       "      <td>1.09080</td>\n",
       "      <td>1.08510</td>\n",
       "      <td>1.08545</td>\n",
       "      <td>-1.0</td>\n",
       "      <td>-1.0</td>\n",
       "      <td>-1</td>\n",
       "    </tr>\n",
       "    <tr>\n",
       "      <th>55</th>\n",
       "      <td>2023-07-06</td>\n",
       "      <td>1.08575</td>\n",
       "      <td>1.09005</td>\n",
       "      <td>1.08335</td>\n",
       "      <td>1.08890</td>\n",
       "      <td>-1.0</td>\n",
       "      <td>-1.0</td>\n",
       "      <td>-1</td>\n",
       "    </tr>\n",
       "    <tr>\n",
       "      <th>56</th>\n",
       "      <td>2023-07-07</td>\n",
       "      <td>1.08880</td>\n",
       "      <td>1.09735</td>\n",
       "      <td>1.08670</td>\n",
       "      <td>1.09655</td>\n",
       "      <td>-1.0</td>\n",
       "      <td>-1.0</td>\n",
       "      <td>-1</td>\n",
       "    </tr>\n",
       "    <tr>\n",
       "      <th>57</th>\n",
       "      <td>2023-07-10</td>\n",
       "      <td>1.09665</td>\n",
       "      <td>1.10015</td>\n",
       "      <td>1.09435</td>\n",
       "      <td>1.10015</td>\n",
       "      <td>-1.0</td>\n",
       "      <td>-1.0</td>\n",
       "      <td>-1</td>\n",
       "    </tr>\n",
       "    <tr>\n",
       "      <th>58</th>\n",
       "      <td>2023-07-11</td>\n",
       "      <td>1.10015</td>\n",
       "      <td>1.10270</td>\n",
       "      <td>1.09770</td>\n",
       "      <td>1.10090</td>\n",
       "      <td>-1.0</td>\n",
       "      <td>-1.0</td>\n",
       "      <td>-1</td>\n",
       "    </tr>\n",
       "    <tr>\n",
       "      <th>59</th>\n",
       "      <td>2023-07-12</td>\n",
       "      <td>1.10065</td>\n",
       "      <td>1.11335</td>\n",
       "      <td>1.10065</td>\n",
       "      <td>1.11300</td>\n",
       "      <td>-1.0</td>\n",
       "      <td>-1.0</td>\n",
       "      <td>-1</td>\n",
       "    </tr>\n",
       "  </tbody>\n",
       "</table>\n",
       "</div>"
      ],
      "text/plain": [
       "          date     open     high      low    close  volume  average  barCount\n",
       "0   2023-04-20  1.09550  1.09900  1.09335  1.09695    -1.0     -1.0        -1\n",
       "1   2023-04-21  1.09660  1.09940  1.09380  1.09860    -1.0     -1.0        -1\n",
       "2   2023-04-24  1.09905  1.10500  1.09660  1.10460    -1.0     -1.0        -1\n",
       "3   2023-04-25  1.10430  1.10670  1.09640  1.09725    -1.0     -1.0        -1\n",
       "4   2023-04-26  1.09725  1.10955  1.09685  1.10395    -1.0     -1.0        -1\n",
       "5   2023-04-27  1.10380  1.10635  1.09920  1.10285    -1.0     -1.0        -1\n",
       "6   2023-04-28  1.10275  1.10450  1.09625  1.10205    -1.0     -1.0        -1\n",
       "7   2023-05-01  1.10205  1.10360  1.09645  1.09760    -1.0     -1.0        -1\n",
       "8   2023-05-02  1.09760  1.10080  1.09420  1.09980    -1.0     -1.0        -1\n",
       "9   2023-05-03  1.10020  1.10920  1.09995  1.10625    -1.0     -1.0        -1\n",
       "10  2023-05-04  1.10595  1.10915  1.09860  1.10125    -1.0     -1.0        -1\n",
       "11  2023-05-05  1.10125  1.10480  1.09670  1.10200    -1.0     -1.0        -1\n",
       "12  2023-05-08  1.10215  1.10540  1.10000  1.10040    -1.0     -1.0        -1\n",
       "13  2023-05-09  1.10010  1.10070  1.09410  1.09605    -1.0     -1.0        -1\n",
       "14  2023-05-10  1.09655  1.10070  1.09415  1.09820    -1.0     -1.0        -1\n",
       "15  2023-05-11  1.09815  1.09980  1.09000  1.09155    -1.0     -1.0        -1\n",
       "16  2023-05-12  1.09215  1.09355  1.08480  1.08500    -1.0     -1.0        -1\n",
       "17  2023-05-15  1.08540  1.08910  1.08455  1.08745    -1.0     -1.0        -1\n",
       "18  2023-05-16  1.08745  1.09050  1.08550  1.08630    -1.0     -1.0        -1\n",
       "19  2023-05-17  1.08640  1.08735  1.08105  1.08395    -1.0     -1.0        -1\n",
       "20  2023-05-18  1.08400  1.08480  1.07625  1.07700    -1.0     -1.0        -1\n",
       "21  2023-05-19  1.07705  1.08290  1.07600  1.08025    -1.0     -1.0        -1\n",
       "22  2023-05-22  1.08055  1.08315  1.07955  1.08125    -1.0     -1.0        -1\n",
       "23  2023-05-23  1.08155  1.08205  1.07605  1.07695    -1.0     -1.0        -1\n",
       "24  2023-05-24  1.07715  1.08015  1.07485  1.07500    -1.0     -1.0        -1\n",
       "25  2023-05-25  1.07525  1.07570  1.07075  1.07250    -1.0     -1.0        -1\n",
       "26  2023-05-26  1.07265  1.07585  1.07020  1.07215    -1.0     -1.0        -1\n",
       "27  2023-05-29  1.07240  1.07435  1.07055  1.07080    -1.0     -1.0        -1\n",
       "28  2023-05-30  1.07105  1.07465  1.06725  1.07345    -1.0     -1.0        -1\n",
       "29  2023-05-31  1.07320  1.07360  1.06350  1.06890    -1.0     -1.0        -1\n",
       "30  2023-06-01  1.06865  1.07685  1.06620  1.07615    -1.0     -1.0        -1\n",
       "31  2023-06-02  1.07595  1.07790  1.07050  1.07080    -1.0     -1.0        -1\n",
       "32  2023-06-05  1.07095  1.07225  1.06745  1.07120    -1.0     -1.0        -1\n",
       "33  2023-06-06  1.07125  1.07330  1.06670  1.06925    -1.0     -1.0        -1\n",
       "34  2023-06-07  1.06955  1.07400  1.06685  1.06985    -1.0     -1.0        -1\n",
       "35  2023-06-08  1.06995  1.07870  1.06965  1.07825    -1.0     -1.0        -1\n",
       "36  2023-06-09  1.07810  1.07855  1.07430  1.07475    -1.0     -1.0        -1\n",
       "37  2023-06-12  1.07500  1.07900  1.07330  1.07560    -1.0     -1.0        -1\n",
       "38  2023-06-13  1.07550  1.08235  1.07550  1.07935    -1.0     -1.0        -1\n",
       "39  2023-06-14  1.07930  1.08640  1.07740  1.08290    -1.0     -1.0        -1\n",
       "40  2023-06-15  1.08280  1.09530  1.08040  1.09450    -1.0     -1.0        -1\n",
       "41  2023-06-16  1.09445  1.09705  1.09180  1.09305    -1.0     -1.0        -1\n",
       "42  2023-06-19  1.09360  1.09465  1.09070  1.09215    -1.0     -1.0        -1\n",
       "43  2023-06-20  1.09210  1.09465  1.08920  1.09180    -1.0     -1.0        -1\n",
       "44  2023-06-21  1.09185  1.09910  1.09060  1.09865    -1.0     -1.0        -1\n",
       "45  2023-06-22  1.09860  1.10125  1.09485  1.09560    -1.0     -1.0        -1\n",
       "46  2023-06-23  1.09595  1.09595  1.08445  1.08920    -1.0     -1.0        -1\n",
       "47  2023-06-26  1.09015  1.09200  1.08875  1.09060    -1.0     -1.0        -1\n",
       "48  2023-06-27  1.09095  1.09765  1.09020  1.09605    -1.0     -1.0        -1\n",
       "49  2023-06-28  1.09610  1.09630  1.08965  1.09130    -1.0     -1.0        -1\n",
       "50  2023-06-29  1.09160  1.09415  1.08605  1.08645    -1.0     -1.0        -1\n",
       "51  2023-06-30  1.08670  1.09320  1.08355  1.09115    -1.0     -1.0        -1\n",
       "52  2023-07-03  1.09125  1.09340  1.08700  1.09120    -1.0     -1.0        -1\n",
       "53  2023-07-04  1.09130  1.09165  1.08770  1.08795    -1.0     -1.0        -1\n",
       "54  2023-07-05  1.08840  1.09080  1.08510  1.08545    -1.0     -1.0        -1\n",
       "55  2023-07-06  1.08575  1.09005  1.08335  1.08890    -1.0     -1.0        -1\n",
       "56  2023-07-07  1.08880  1.09735  1.08670  1.09655    -1.0     -1.0        -1\n",
       "57  2023-07-10  1.09665  1.10015  1.09435  1.10015    -1.0     -1.0        -1\n",
       "58  2023-07-11  1.10015  1.10270  1.09770  1.10090    -1.0     -1.0        -1\n",
       "59  2023-07-12  1.10065  1.11335  1.10065  1.11300    -1.0     -1.0        -1"
      ]
     },
     "execution_count": 159,
     "metadata": {},
     "output_type": "execute_result"
    }
   ],
   "source": [
    "df = util.df(data)\n",
    "df"
   ]
  },
  {
   "cell_type": "markdown",
   "id": "6a218b79",
   "metadata": {},
   "source": [
    "<b>durationStr:</b> Time span of all the bars. Examples:'60 S',30 D, 13 W, 6 M, 10 Y.\n",
    "\n",
    "<b>barSizeSetting:</b> Time period of one bar. Can be one of '1 sec', '5 sec', 10 secs, 15 secs, 30 secs, 1 min, 2 mins, 3mins, 1hour\n",
    ", 2 hours, 4 hours, 8 hours, 1 day, 1 week, 1 month"
   ]
  },
  {
   "cell_type": "code",
   "execution_count": 161,
   "id": "1a217efd",
   "metadata": {},
   "outputs": [
    {
     "data": {
      "text/html": [
       "<div>\n",
       "<style scoped>\n",
       "    .dataframe tbody tr th:only-of-type {\n",
       "        vertical-align: middle;\n",
       "    }\n",
       "\n",
       "    .dataframe tbody tr th {\n",
       "        vertical-align: top;\n",
       "    }\n",
       "\n",
       "    .dataframe thead th {\n",
       "        text-align: right;\n",
       "    }\n",
       "</style>\n",
       "<table border=\"1\" class=\"dataframe\">\n",
       "  <thead>\n",
       "    <tr style=\"text-align: right;\">\n",
       "      <th></th>\n",
       "      <th>date</th>\n",
       "      <th>open</th>\n",
       "      <th>high</th>\n",
       "      <th>low</th>\n",
       "      <th>close</th>\n",
       "      <th>volume</th>\n",
       "      <th>average</th>\n",
       "      <th>barCount</th>\n",
       "    </tr>\n",
       "  </thead>\n",
       "  <tbody>\n",
       "    <tr>\n",
       "      <th>0</th>\n",
       "      <td>2023-07-11 21:15:00+00:00</td>\n",
       "      <td>1.10065</td>\n",
       "      <td>1.10090</td>\n",
       "      <td>1.10065</td>\n",
       "      <td>1.10075</td>\n",
       "      <td>-1.0</td>\n",
       "      <td>-1.0</td>\n",
       "      <td>-1</td>\n",
       "    </tr>\n",
       "    <tr>\n",
       "      <th>1</th>\n",
       "      <td>2023-07-11 21:20:00+00:00</td>\n",
       "      <td>1.10075</td>\n",
       "      <td>1.10080</td>\n",
       "      <td>1.10065</td>\n",
       "      <td>1.10070</td>\n",
       "      <td>-1.0</td>\n",
       "      <td>-1.0</td>\n",
       "      <td>-1</td>\n",
       "    </tr>\n",
       "    <tr>\n",
       "      <th>2</th>\n",
       "      <td>2023-07-11 21:25:00+00:00</td>\n",
       "      <td>1.10070</td>\n",
       "      <td>1.10085</td>\n",
       "      <td>1.10065</td>\n",
       "      <td>1.10075</td>\n",
       "      <td>-1.0</td>\n",
       "      <td>-1.0</td>\n",
       "      <td>-1</td>\n",
       "    </tr>\n",
       "    <tr>\n",
       "      <th>3</th>\n",
       "      <td>2023-07-11 21:30:00+00:00</td>\n",
       "      <td>1.10075</td>\n",
       "      <td>1.10090</td>\n",
       "      <td>1.10075</td>\n",
       "      <td>1.10090</td>\n",
       "      <td>-1.0</td>\n",
       "      <td>-1.0</td>\n",
       "      <td>-1</td>\n",
       "    </tr>\n",
       "    <tr>\n",
       "      <th>4</th>\n",
       "      <td>2023-07-11 21:35:00+00:00</td>\n",
       "      <td>1.10090</td>\n",
       "      <td>1.10090</td>\n",
       "      <td>1.10085</td>\n",
       "      <td>1.10090</td>\n",
       "      <td>-1.0</td>\n",
       "      <td>-1.0</td>\n",
       "      <td>-1</td>\n",
       "    </tr>\n",
       "    <tr>\n",
       "      <th>...</th>\n",
       "      <td>...</td>\n",
       "      <td>...</td>\n",
       "      <td>...</td>\n",
       "      <td>...</td>\n",
       "      <td>...</td>\n",
       "      <td>...</td>\n",
       "      <td>...</td>\n",
       "      <td>...</td>\n",
       "    </tr>\n",
       "    <tr>\n",
       "      <th>229</th>\n",
       "      <td>2023-07-12 16:20:00+00:00</td>\n",
       "      <td>1.11255</td>\n",
       "      <td>1.11310</td>\n",
       "      <td>1.11250</td>\n",
       "      <td>1.11295</td>\n",
       "      <td>-1.0</td>\n",
       "      <td>-1.0</td>\n",
       "      <td>-1</td>\n",
       "    </tr>\n",
       "    <tr>\n",
       "      <th>230</th>\n",
       "      <td>2023-07-12 16:25:00+00:00</td>\n",
       "      <td>1.11295</td>\n",
       "      <td>1.11305</td>\n",
       "      <td>1.11275</td>\n",
       "      <td>1.11305</td>\n",
       "      <td>-1.0</td>\n",
       "      <td>-1.0</td>\n",
       "      <td>-1</td>\n",
       "    </tr>\n",
       "    <tr>\n",
       "      <th>231</th>\n",
       "      <td>2023-07-12 16:30:00+00:00</td>\n",
       "      <td>1.11305</td>\n",
       "      <td>1.11335</td>\n",
       "      <td>1.11290</td>\n",
       "      <td>1.11335</td>\n",
       "      <td>-1.0</td>\n",
       "      <td>-1.0</td>\n",
       "      <td>-1</td>\n",
       "    </tr>\n",
       "    <tr>\n",
       "      <th>232</th>\n",
       "      <td>2023-07-12 16:35:00+00:00</td>\n",
       "      <td>1.11335</td>\n",
       "      <td>1.11335</td>\n",
       "      <td>1.11290</td>\n",
       "      <td>1.11300</td>\n",
       "      <td>-1.0</td>\n",
       "      <td>-1.0</td>\n",
       "      <td>-1</td>\n",
       "    </tr>\n",
       "    <tr>\n",
       "      <th>233</th>\n",
       "      <td>2023-07-12 16:40:00+00:00</td>\n",
       "      <td>1.11300</td>\n",
       "      <td>1.11305</td>\n",
       "      <td>1.11265</td>\n",
       "      <td>1.11275</td>\n",
       "      <td>-1.0</td>\n",
       "      <td>-1.0</td>\n",
       "      <td>-1</td>\n",
       "    </tr>\n",
       "  </tbody>\n",
       "</table>\n",
       "<p>234 rows × 8 columns</p>\n",
       "</div>"
      ],
      "text/plain": [
       "                         date     open     high      low    close  volume  \\\n",
       "0   2023-07-11 21:15:00+00:00  1.10065  1.10090  1.10065  1.10075    -1.0   \n",
       "1   2023-07-11 21:20:00+00:00  1.10075  1.10080  1.10065  1.10070    -1.0   \n",
       "2   2023-07-11 21:25:00+00:00  1.10070  1.10085  1.10065  1.10075    -1.0   \n",
       "3   2023-07-11 21:30:00+00:00  1.10075  1.10090  1.10075  1.10090    -1.0   \n",
       "4   2023-07-11 21:35:00+00:00  1.10090  1.10090  1.10085  1.10090    -1.0   \n",
       "..                        ...      ...      ...      ...      ...     ...   \n",
       "229 2023-07-12 16:20:00+00:00  1.11255  1.11310  1.11250  1.11295    -1.0   \n",
       "230 2023-07-12 16:25:00+00:00  1.11295  1.11305  1.11275  1.11305    -1.0   \n",
       "231 2023-07-12 16:30:00+00:00  1.11305  1.11335  1.11290  1.11335    -1.0   \n",
       "232 2023-07-12 16:35:00+00:00  1.11335  1.11335  1.11290  1.11300    -1.0   \n",
       "233 2023-07-12 16:40:00+00:00  1.11300  1.11305  1.11265  1.11275    -1.0   \n",
       "\n",
       "     average  barCount  \n",
       "0       -1.0        -1  \n",
       "1       -1.0        -1  \n",
       "2       -1.0        -1  \n",
       "3       -1.0        -1  \n",
       "4       -1.0        -1  \n",
       "..       ...       ...  \n",
       "229     -1.0        -1  \n",
       "230     -1.0        -1  \n",
       "231     -1.0        -1  \n",
       "232     -1.0        -1  \n",
       "233     -1.0        -1  \n",
       "\n",
       "[234 rows x 8 columns]"
      ]
     },
     "execution_count": 161,
     "metadata": {},
     "output_type": "execute_result"
    }
   ],
   "source": [
    "df = util.df(ib.reqHistoricalData(contract, \"\", barSizeSetting =\"5 mins\", durationStr = \"1 D\", whatToShow = \"MIDPOINT\",\n",
    "                                    useRTH = True, formatDate = 2))\n",
    "df"
   ]
  },
  {
   "cell_type": "code",
   "execution_count": 162,
   "id": "f244861c",
   "metadata": {},
   "outputs": [
    {
     "data": {
      "text/html": [
       "<div>\n",
       "<style scoped>\n",
       "    .dataframe tbody tr th:only-of-type {\n",
       "        vertical-align: middle;\n",
       "    }\n",
       "\n",
       "    .dataframe tbody tr th {\n",
       "        vertical-align: top;\n",
       "    }\n",
       "\n",
       "    .dataframe thead th {\n",
       "        text-align: right;\n",
       "    }\n",
       "</style>\n",
       "<table border=\"1\" class=\"dataframe\">\n",
       "  <thead>\n",
       "    <tr style=\"text-align: right;\">\n",
       "      <th></th>\n",
       "      <th>open</th>\n",
       "      <th>high</th>\n",
       "      <th>low</th>\n",
       "      <th>close</th>\n",
       "      <th>volume</th>\n",
       "      <th>average</th>\n",
       "      <th>barCount</th>\n",
       "    </tr>\n",
       "    <tr>\n",
       "      <th>date</th>\n",
       "      <th></th>\n",
       "      <th></th>\n",
       "      <th></th>\n",
       "      <th></th>\n",
       "      <th></th>\n",
       "      <th></th>\n",
       "      <th></th>\n",
       "    </tr>\n",
       "  </thead>\n",
       "  <tbody>\n",
       "    <tr>\n",
       "      <th>2023-07-11 17:15:00-04:00</th>\n",
       "      <td>1.10065</td>\n",
       "      <td>1.10090</td>\n",
       "      <td>1.10065</td>\n",
       "      <td>1.10075</td>\n",
       "      <td>-1.0</td>\n",
       "      <td>-1.0</td>\n",
       "      <td>-1</td>\n",
       "    </tr>\n",
       "    <tr>\n",
       "      <th>2023-07-11 17:20:00-04:00</th>\n",
       "      <td>1.10075</td>\n",
       "      <td>1.10080</td>\n",
       "      <td>1.10065</td>\n",
       "      <td>1.10070</td>\n",
       "      <td>-1.0</td>\n",
       "      <td>-1.0</td>\n",
       "      <td>-1</td>\n",
       "    </tr>\n",
       "    <tr>\n",
       "      <th>2023-07-11 17:25:00-04:00</th>\n",
       "      <td>1.10070</td>\n",
       "      <td>1.10085</td>\n",
       "      <td>1.10065</td>\n",
       "      <td>1.10075</td>\n",
       "      <td>-1.0</td>\n",
       "      <td>-1.0</td>\n",
       "      <td>-1</td>\n",
       "    </tr>\n",
       "    <tr>\n",
       "      <th>2023-07-11 17:30:00-04:00</th>\n",
       "      <td>1.10075</td>\n",
       "      <td>1.10090</td>\n",
       "      <td>1.10075</td>\n",
       "      <td>1.10090</td>\n",
       "      <td>-1.0</td>\n",
       "      <td>-1.0</td>\n",
       "      <td>-1</td>\n",
       "    </tr>\n",
       "    <tr>\n",
       "      <th>2023-07-11 17:35:00-04:00</th>\n",
       "      <td>1.10090</td>\n",
       "      <td>1.10090</td>\n",
       "      <td>1.10085</td>\n",
       "      <td>1.10090</td>\n",
       "      <td>-1.0</td>\n",
       "      <td>-1.0</td>\n",
       "      <td>-1</td>\n",
       "    </tr>\n",
       "    <tr>\n",
       "      <th>...</th>\n",
       "      <td>...</td>\n",
       "      <td>...</td>\n",
       "      <td>...</td>\n",
       "      <td>...</td>\n",
       "      <td>...</td>\n",
       "      <td>...</td>\n",
       "      <td>...</td>\n",
       "    </tr>\n",
       "    <tr>\n",
       "      <th>2023-07-12 12:20:00-04:00</th>\n",
       "      <td>1.11255</td>\n",
       "      <td>1.11310</td>\n",
       "      <td>1.11250</td>\n",
       "      <td>1.11295</td>\n",
       "      <td>-1.0</td>\n",
       "      <td>-1.0</td>\n",
       "      <td>-1</td>\n",
       "    </tr>\n",
       "    <tr>\n",
       "      <th>2023-07-12 12:25:00-04:00</th>\n",
       "      <td>1.11295</td>\n",
       "      <td>1.11305</td>\n",
       "      <td>1.11275</td>\n",
       "      <td>1.11305</td>\n",
       "      <td>-1.0</td>\n",
       "      <td>-1.0</td>\n",
       "      <td>-1</td>\n",
       "    </tr>\n",
       "    <tr>\n",
       "      <th>2023-07-12 12:30:00-04:00</th>\n",
       "      <td>1.11305</td>\n",
       "      <td>1.11335</td>\n",
       "      <td>1.11290</td>\n",
       "      <td>1.11335</td>\n",
       "      <td>-1.0</td>\n",
       "      <td>-1.0</td>\n",
       "      <td>-1</td>\n",
       "    </tr>\n",
       "    <tr>\n",
       "      <th>2023-07-12 12:35:00-04:00</th>\n",
       "      <td>1.11335</td>\n",
       "      <td>1.11335</td>\n",
       "      <td>1.11290</td>\n",
       "      <td>1.11300</td>\n",
       "      <td>-1.0</td>\n",
       "      <td>-1.0</td>\n",
       "      <td>-1</td>\n",
       "    </tr>\n",
       "    <tr>\n",
       "      <th>2023-07-12 12:40:00-04:00</th>\n",
       "      <td>1.11300</td>\n",
       "      <td>1.11305</td>\n",
       "      <td>1.11265</td>\n",
       "      <td>1.11275</td>\n",
       "      <td>-1.0</td>\n",
       "      <td>-1.0</td>\n",
       "      <td>-1</td>\n",
       "    </tr>\n",
       "  </tbody>\n",
       "</table>\n",
       "<p>234 rows × 7 columns</p>\n",
       "</div>"
      ],
      "text/plain": [
       "                              open     high      low    close  volume  \\\n",
       "date                                                                    \n",
       "2023-07-11 17:15:00-04:00  1.10065  1.10090  1.10065  1.10075    -1.0   \n",
       "2023-07-11 17:20:00-04:00  1.10075  1.10080  1.10065  1.10070    -1.0   \n",
       "2023-07-11 17:25:00-04:00  1.10070  1.10085  1.10065  1.10075    -1.0   \n",
       "2023-07-11 17:30:00-04:00  1.10075  1.10090  1.10075  1.10090    -1.0   \n",
       "2023-07-11 17:35:00-04:00  1.10090  1.10090  1.10085  1.10090    -1.0   \n",
       "...                            ...      ...      ...      ...     ...   \n",
       "2023-07-12 12:20:00-04:00  1.11255  1.11310  1.11250  1.11295    -1.0   \n",
       "2023-07-12 12:25:00-04:00  1.11295  1.11305  1.11275  1.11305    -1.0   \n",
       "2023-07-12 12:30:00-04:00  1.11305  1.11335  1.11290  1.11335    -1.0   \n",
       "2023-07-12 12:35:00-04:00  1.11335  1.11335  1.11290  1.11300    -1.0   \n",
       "2023-07-12 12:40:00-04:00  1.11300  1.11305  1.11265  1.11275    -1.0   \n",
       "\n",
       "                           average  barCount  \n",
       "date                                          \n",
       "2023-07-11 17:15:00-04:00     -1.0        -1  \n",
       "2023-07-11 17:20:00-04:00     -1.0        -1  \n",
       "2023-07-11 17:25:00-04:00     -1.0        -1  \n",
       "2023-07-11 17:30:00-04:00     -1.0        -1  \n",
       "2023-07-11 17:35:00-04:00     -1.0        -1  \n",
       "...                            ...       ...  \n",
       "2023-07-12 12:20:00-04:00     -1.0        -1  \n",
       "2023-07-12 12:25:00-04:00     -1.0        -1  \n",
       "2023-07-12 12:30:00-04:00     -1.0        -1  \n",
       "2023-07-12 12:35:00-04:00     -1.0        -1  \n",
       "2023-07-12 12:40:00-04:00     -1.0        -1  \n",
       "\n",
       "[234 rows x 7 columns]"
      ]
     },
     "execution_count": 162,
     "metadata": {},
     "output_type": "execute_result"
    }
   ],
   "source": [
    "df = df.set_index(\"date\").tz_convert(\"US/Eastern\")\n",
    "df"
   ]
  },
  {
   "cell_type": "code",
   "execution_count": 163,
   "id": "9c30fccd",
   "metadata": {},
   "outputs": [
    {
     "data": {
      "text/plain": [
       "Stock(symbol='AAPL', exchange='SMART', currency='USD')"
      ]
     },
     "execution_count": 163,
     "metadata": {},
     "output_type": "execute_result"
    }
   ],
   "source": [
    "contract = Stock(\"AAPL\", \"SMART\", \"USD\")\n",
    "contract"
   ]
  },
  {
   "cell_type": "code",
   "execution_count": 164,
   "id": "1a9a80fd",
   "metadata": {},
   "outputs": [
    {
     "name": "stderr",
     "output_type": "stream",
     "text": [
      "Error 162, reqId 22: Historical Market Data Service error message:No market data permissions for ISLAND STK. Requested market data requires additional subscription for API. See link in 'Market Data Connections' dialog for more details., contract: Stock(symbol='AAPL', exchange='SMART', currency='USD')\n"
     ]
    },
    {
     "data": {
      "text/html": [
       "<div>\n",
       "<style scoped>\n",
       "    .dataframe tbody tr th:only-of-type {\n",
       "        vertical-align: middle;\n",
       "    }\n",
       "\n",
       "    .dataframe tbody tr th {\n",
       "        vertical-align: top;\n",
       "    }\n",
       "\n",
       "    .dataframe thead th {\n",
       "        text-align: right;\n",
       "    }\n",
       "</style>\n",
       "<table border=\"1\" class=\"dataframe\">\n",
       "  <thead>\n",
       "    <tr style=\"text-align: right;\">\n",
       "      <th></th>\n",
       "      <th>open</th>\n",
       "      <th>high</th>\n",
       "      <th>low</th>\n",
       "      <th>close</th>\n",
       "      <th>volume</th>\n",
       "      <th>average</th>\n",
       "      <th>barCount</th>\n",
       "    </tr>\n",
       "    <tr>\n",
       "      <th>date</th>\n",
       "      <th></th>\n",
       "      <th></th>\n",
       "      <th></th>\n",
       "      <th></th>\n",
       "      <th></th>\n",
       "      <th></th>\n",
       "      <th></th>\n",
       "    </tr>\n",
       "  </thead>\n",
       "  <tbody>\n",
       "    <tr>\n",
       "      <th>2023-07-11 17:15:00-04:00</th>\n",
       "      <td>1.10065</td>\n",
       "      <td>1.10090</td>\n",
       "      <td>1.10065</td>\n",
       "      <td>1.10075</td>\n",
       "      <td>-1.0</td>\n",
       "      <td>-1.0</td>\n",
       "      <td>-1</td>\n",
       "    </tr>\n",
       "    <tr>\n",
       "      <th>2023-07-11 17:20:00-04:00</th>\n",
       "      <td>1.10075</td>\n",
       "      <td>1.10080</td>\n",
       "      <td>1.10065</td>\n",
       "      <td>1.10070</td>\n",
       "      <td>-1.0</td>\n",
       "      <td>-1.0</td>\n",
       "      <td>-1</td>\n",
       "    </tr>\n",
       "    <tr>\n",
       "      <th>2023-07-11 17:25:00-04:00</th>\n",
       "      <td>1.10070</td>\n",
       "      <td>1.10085</td>\n",
       "      <td>1.10065</td>\n",
       "      <td>1.10075</td>\n",
       "      <td>-1.0</td>\n",
       "      <td>-1.0</td>\n",
       "      <td>-1</td>\n",
       "    </tr>\n",
       "    <tr>\n",
       "      <th>2023-07-11 17:30:00-04:00</th>\n",
       "      <td>1.10075</td>\n",
       "      <td>1.10090</td>\n",
       "      <td>1.10075</td>\n",
       "      <td>1.10090</td>\n",
       "      <td>-1.0</td>\n",
       "      <td>-1.0</td>\n",
       "      <td>-1</td>\n",
       "    </tr>\n",
       "    <tr>\n",
       "      <th>2023-07-11 17:35:00-04:00</th>\n",
       "      <td>1.10090</td>\n",
       "      <td>1.10090</td>\n",
       "      <td>1.10085</td>\n",
       "      <td>1.10090</td>\n",
       "      <td>-1.0</td>\n",
       "      <td>-1.0</td>\n",
       "      <td>-1</td>\n",
       "    </tr>\n",
       "    <tr>\n",
       "      <th>...</th>\n",
       "      <td>...</td>\n",
       "      <td>...</td>\n",
       "      <td>...</td>\n",
       "      <td>...</td>\n",
       "      <td>...</td>\n",
       "      <td>...</td>\n",
       "      <td>...</td>\n",
       "    </tr>\n",
       "    <tr>\n",
       "      <th>2023-07-12 12:20:00-04:00</th>\n",
       "      <td>1.11255</td>\n",
       "      <td>1.11310</td>\n",
       "      <td>1.11250</td>\n",
       "      <td>1.11295</td>\n",
       "      <td>-1.0</td>\n",
       "      <td>-1.0</td>\n",
       "      <td>-1</td>\n",
       "    </tr>\n",
       "    <tr>\n",
       "      <th>2023-07-12 12:25:00-04:00</th>\n",
       "      <td>1.11295</td>\n",
       "      <td>1.11305</td>\n",
       "      <td>1.11275</td>\n",
       "      <td>1.11305</td>\n",
       "      <td>-1.0</td>\n",
       "      <td>-1.0</td>\n",
       "      <td>-1</td>\n",
       "    </tr>\n",
       "    <tr>\n",
       "      <th>2023-07-12 12:30:00-04:00</th>\n",
       "      <td>1.11305</td>\n",
       "      <td>1.11335</td>\n",
       "      <td>1.11290</td>\n",
       "      <td>1.11335</td>\n",
       "      <td>-1.0</td>\n",
       "      <td>-1.0</td>\n",
       "      <td>-1</td>\n",
       "    </tr>\n",
       "    <tr>\n",
       "      <th>2023-07-12 12:35:00-04:00</th>\n",
       "      <td>1.11335</td>\n",
       "      <td>1.11335</td>\n",
       "      <td>1.11290</td>\n",
       "      <td>1.11300</td>\n",
       "      <td>-1.0</td>\n",
       "      <td>-1.0</td>\n",
       "      <td>-1</td>\n",
       "    </tr>\n",
       "    <tr>\n",
       "      <th>2023-07-12 12:40:00-04:00</th>\n",
       "      <td>1.11300</td>\n",
       "      <td>1.11305</td>\n",
       "      <td>1.11265</td>\n",
       "      <td>1.11275</td>\n",
       "      <td>-1.0</td>\n",
       "      <td>-1.0</td>\n",
       "      <td>-1</td>\n",
       "    </tr>\n",
       "  </tbody>\n",
       "</table>\n",
       "<p>234 rows × 7 columns</p>\n",
       "</div>"
      ],
      "text/plain": [
       "                              open     high      low    close  volume  \\\n",
       "date                                                                    \n",
       "2023-07-11 17:15:00-04:00  1.10065  1.10090  1.10065  1.10075    -1.0   \n",
       "2023-07-11 17:20:00-04:00  1.10075  1.10080  1.10065  1.10070    -1.0   \n",
       "2023-07-11 17:25:00-04:00  1.10070  1.10085  1.10065  1.10075    -1.0   \n",
       "2023-07-11 17:30:00-04:00  1.10075  1.10090  1.10075  1.10090    -1.0   \n",
       "2023-07-11 17:35:00-04:00  1.10090  1.10090  1.10085  1.10090    -1.0   \n",
       "...                            ...      ...      ...      ...     ...   \n",
       "2023-07-12 12:20:00-04:00  1.11255  1.11310  1.11250  1.11295    -1.0   \n",
       "2023-07-12 12:25:00-04:00  1.11295  1.11305  1.11275  1.11305    -1.0   \n",
       "2023-07-12 12:30:00-04:00  1.11305  1.11335  1.11290  1.11335    -1.0   \n",
       "2023-07-12 12:35:00-04:00  1.11335  1.11335  1.11290  1.11300    -1.0   \n",
       "2023-07-12 12:40:00-04:00  1.11300  1.11305  1.11265  1.11275    -1.0   \n",
       "\n",
       "                           average  barCount  \n",
       "date                                          \n",
       "2023-07-11 17:15:00-04:00     -1.0        -1  \n",
       "2023-07-11 17:20:00-04:00     -1.0        -1  \n",
       "2023-07-11 17:25:00-04:00     -1.0        -1  \n",
       "2023-07-11 17:30:00-04:00     -1.0        -1  \n",
       "2023-07-11 17:35:00-04:00     -1.0        -1  \n",
       "...                            ...       ...  \n",
       "2023-07-12 12:20:00-04:00     -1.0        -1  \n",
       "2023-07-12 12:25:00-04:00     -1.0        -1  \n",
       "2023-07-12 12:30:00-04:00     -1.0        -1  \n",
       "2023-07-12 12:35:00-04:00     -1.0        -1  \n",
       "2023-07-12 12:40:00-04:00     -1.0        -1  \n",
       "\n",
       "[234 rows x 7 columns]"
      ]
     },
     "execution_count": 164,
     "metadata": {},
     "output_type": "execute_result"
    },
    {
     "name": "stderr",
     "output_type": "stream",
     "text": [
      "Peer closed connection.\n"
     ]
    }
   ],
   "source": [
    "data = util.df(ib.reqHistoricalData(contract, \"\", barSizeSetting =\"1 Day\", durationStr = \"60 D\", whatToShow = \"MIDPOINT\",\n",
    "                                    useRTH = True, formatDate = 2))\n",
    "df"
   ]
  }
 ],
 "metadata": {
  "kernelspec": {
   "display_name": "Python 3 (ipykernel)",
   "language": "python",
   "name": "python3"
  },
  "language_info": {
   "codemirror_mode": {
    "name": "ipython",
    "version": 3
   },
   "file_extension": ".py",
   "mimetype": "text/x-python",
   "name": "python",
   "nbconvert_exporter": "python",
   "pygments_lexer": "ipython3",
   "version": "3.10.9"
  }
 },
 "nbformat": 4,
 "nbformat_minor": 5
}
